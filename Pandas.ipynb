{
  "nbformat": 4,
  "nbformat_minor": 0,
  "metadata": {
    "colab": {
      "provenance": [],
      "authorship_tag": "ABX9TyPODaclyuwqnzcUTXO/YLq+",
      "include_colab_link": true
    },
    "kernelspec": {
      "name": "python3",
      "display_name": "Python 3"
    },
    "language_info": {
      "name": "python"
    }
  },
  "cells": [
    {
      "cell_type": "markdown",
      "metadata": {
        "id": "view-in-github",
        "colab_type": "text"
      },
      "source": [
        "<a href=\"https://colab.research.google.com/github/warnercamacho/test_colab/blob/main/Pandas.ipynb\" target=\"_parent\"><img src=\"https://colab.research.google.com/assets/colab-badge.svg\" alt=\"Open In Colab\"/></a>"
      ]
    },
    {
      "cell_type": "code",
      "execution_count": 138,
      "metadata": {
        "id": "V_iCpVEW_dYE"
      },
      "outputs": [],
      "source": [
        "import pandas as pd\n"
      ]
    },
    {
      "cell_type": "code",
      "source": [
        "stocks = {'PLW': 387.00, 'CDR': 339.5, 'TEN': 349.5, '11B': 391.0}"
      ],
      "metadata": {
        "id": "OLrpWFu7_giN"
      },
      "execution_count": 139,
      "outputs": []
    },
    {
      "cell_type": "code",
      "source": [
        "dataframe = pd.Series(stocks)"
      ],
      "metadata": {
        "id": "lRSouIJV_5y2"
      },
      "execution_count": 140,
      "outputs": []
    },
    {
      "cell_type": "code",
      "source": [
        "print(dataframe)"
      ],
      "metadata": {
        "colab": {
          "base_uri": "https://localhost:8080/"
        },
        "id": "IL1TeHRLAMlO",
        "outputId": "02cebc6e-c7b0-4d13-acd0-beb418504fe7"
      },
      "execution_count": 141,
      "outputs": [
        {
          "output_type": "stream",
          "name": "stdout",
          "text": [
            "PLW    387.0\n",
            "CDR    339.5\n",
            "TEN    349.5\n",
            "11B    391.0\n",
            "dtype: float64\n"
          ]
        }
      ]
    },
    {
      "cell_type": "code",
      "source": [
        "stocks = {'PLW': 387.00, 'CDR': 339.5, 'TEN': 349.5, '11B': 391.0}\n",
        "quotations = pd.Series(data=stocks)\n",
        "list_verson = quotations.tolist()\n",
        "print(list_verson)"
      ],
      "metadata": {
        "colab": {
          "base_uri": "https://localhost:8080/"
        },
        "id": "yUzPCuGYANrF",
        "outputId": "b0541223-e5c5-4307-906a-f101c555e0be"
      },
      "execution_count": 142,
      "outputs": [
        {
          "output_type": "stream",
          "name": "stdout",
          "text": [
            "[387.0, 339.5, 349.5, 391.0]\n"
          ]
        }
      ]
    },
    {
      "cell_type": "code",
      "source": [
        "print(quotations)"
      ],
      "metadata": {
        "colab": {
          "base_uri": "https://localhost:8080/"
        },
        "id": "ENrzPAvhBA24",
        "outputId": "c0d94a0e-07fd-4044-cac5-4a4052d33cc2"
      },
      "execution_count": 143,
      "outputs": [
        {
          "output_type": "stream",
          "name": "stdout",
          "text": [
            "PLW    387.0\n",
            "CDR    339.5\n",
            "TEN    349.5\n",
            "11B    391.0\n",
            "dtype: float64\n"
          ]
        }
      ]
    },
    {
      "cell_type": "code",
      "source": [
        "stocks = {'PLW': 387.00, 'CDR': 339.5, 'TEN': 349.5, '11B': 391.0}\n",
        "quotations = pd.Series(data=stocks)\n",
        "df = quotations.to_frame(\"price\")\n",
        "print(df)"
      ],
      "metadata": {
        "colab": {
          "base_uri": "https://localhost:8080/"
        },
        "id": "CGwQoOSsBHwb",
        "outputId": "3d35b1a7-f7b3-4161-e73b-f5674ef45dc4"
      },
      "execution_count": 144,
      "outputs": [
        {
          "output_type": "stream",
          "name": "stdout",
          "text": [
            "     price\n",
            "PLW  387.0\n",
            "CDR  339.5\n",
            "TEN  349.5\n",
            "11B  391.0\n"
          ]
        }
      ]
    },
    {
      "cell_type": "code",
      "source": [
        "import numpy as np"
      ],
      "metadata": {
        "id": "1nwRcWawB3Sw"
      },
      "execution_count": 145,
      "outputs": []
    },
    {
      "cell_type": "code",
      "source": [
        "dataframe = pd.DataFrame(np.array([[101, 102, 103, 104, 105, 106, 107, 108, 109], [10.0, 20.0, 30.0, 40.0, 50.0, 60.0, 70.0, 80.0, 90.0]])).reset_index(drop=True).T\n",
        "print(dataframe)"
      ],
      "metadata": {
        "colab": {
          "base_uri": "https://localhost:8080/"
        },
        "id": "voDqvSu6DuJZ",
        "outputId": "bb29253b-eccb-4c4a-b7b1-b3eae9295e3e"
      },
      "execution_count": 146,
      "outputs": [
        {
          "output_type": "stream",
          "name": "stdout",
          "text": [
            "       0     1\n",
            "0  101.0  10.0\n",
            "1  102.0  20.0\n",
            "2  103.0  30.0\n",
            "3  104.0  40.0\n",
            "4  105.0  50.0\n",
            "5  106.0  60.0\n",
            "6  107.0  70.0\n",
            "7  108.0  80.0\n",
            "8  109.0  90.0\n"
          ]
        }
      ]
    },
    {
      "cell_type": "code",
      "source": [
        "data = np.arange(10, 100, 10)\n",
        "print(data)"
      ],
      "metadata": {
        "colab": {
          "base_uri": "https://localhost:8080/"
        },
        "id": "OAGCa7NKE5pA",
        "outputId": "b5146129-8206-4401-fc84-dc1e4c9be1a6"
      },
      "execution_count": 147,
      "outputs": [
        {
          "output_type": "stream",
          "name": "stdout",
          "text": [
            "[10 20 30 40 50 60 70 80 90]\n"
          ]
        }
      ]
    },
    {
      "cell_type": "code",
      "source": [
        "index = np.arange(101, 110)\n",
        "print(index)"
      ],
      "metadata": {
        "colab": {
          "base_uri": "https://localhost:8080/"
        },
        "id": "Uk3i15l3HME2",
        "outputId": "9e702851-a4f0-4819-f346-13b2fd0f8745"
      },
      "execution_count": 148,
      "outputs": [
        {
          "output_type": "stream",
          "name": "stdout",
          "text": [
            "[101 102 103 104 105 106 107 108 109]\n"
          ]
        }
      ]
    },
    {
      "cell_type": "code",
      "source": [
        " s = pd.Series(data=data, index=index, dtype=\"float\")\n",
        "print(s)"
      ],
      "metadata": {
        "colab": {
          "base_uri": "https://localhost:8080/"
        },
        "id": "fDUpsG6JHiQ6",
        "outputId": "4293270d-f292-4804-8b42-518f4855fb2d"
      },
      "execution_count": 149,
      "outputs": [
        {
          "output_type": "stream",
          "name": "stdout",
          "text": [
            "101    10.0\n",
            "102    20.0\n",
            "103    30.0\n",
            "104    40.0\n",
            "105    50.0\n",
            "106    60.0\n",
            "107    70.0\n",
            "108    80.0\n",
            "109    90.0\n",
            "dtype: float64\n"
          ]
        }
      ]
    },
    {
      "cell_type": "code",
      "source": [
        "series = pd.Series(['001', '002', '003', '004'], list('abcd'))\n",
        "print(series)"
      ],
      "metadata": {
        "colab": {
          "base_uri": "https://localhost:8080/"
        },
        "id": "VhyNrZd4Hzkx",
        "outputId": "a33c27d6-b546-41a9-8c95-88af89a847c0"
      },
      "execution_count": 150,
      "outputs": [
        {
          "output_type": "stream",
          "name": "stdout",
          "text": [
            "a    001\n",
            "b    002\n",
            "c    003\n",
            "d    004\n",
            "dtype: object\n"
          ]
        }
      ]
    },
    {
      "cell_type": "code",
      "source": [
        "series = pd.to_numeric(series)\n",
        "print(series)"
      ],
      "metadata": {
        "colab": {
          "base_uri": "https://localhost:8080/"
        },
        "id": "n4jYiv-rIidf",
        "outputId": "33b205b4-1494-4d6e-abef-e62f830d7d10"
      },
      "execution_count": 151,
      "outputs": [
        {
          "output_type": "stream",
          "name": "stdout",
          "text": [
            "a    1\n",
            "b    2\n",
            "c    3\n",
            "d    4\n",
            "dtype: int64\n"
          ]
        }
      ]
    },
    {
      "cell_type": "code",
      "source": [
        "import pandas as pd\n",
        "\n",
        "\n",
        "stocks = {'PLW': 387.00, 'CDR': 339.5, 'TEN': 349.5, '11B': 391.0}\n",
        "quotations = pd.Series(data=stocks)\n",
        "print(quotations)"
      ],
      "metadata": {
        "colab": {
          "base_uri": "https://localhost:8080/"
        },
        "id": "cpkFosznIvmz",
        "outputId": "36679745-07cf-407a-f678-44ad4e57d78f"
      },
      "execution_count": 152,
      "outputs": [
        {
          "output_type": "stream",
          "name": "stdout",
          "text": [
            "PLW    387.0\n",
            "CDR    339.5\n",
            "TEN    349.5\n",
            "11B    391.0\n",
            "dtype: float64\n"
          ]
        }
      ]
    },
    {
      "cell_type": "code",
      "source": [
        "stocks = {\n",
        "    'PLW': 387.00,\n",
        "    'CDR': 339.5,\n",
        "    'TEN': 349.5,\n",
        "    '11B': 391.0,\n",
        "    'BBT': 25.5,\n",
        "    'F51': 19.2\n",
        "}\n",
        "quotations = pd.Series(data=stocks)\n",
        "print(quotations)"
      ],
      "metadata": {
        "colab": {
          "base_uri": "https://localhost:8080/"
        },
        "id": "aY51iOg8MlHq",
        "outputId": "071cd999-179f-4880-c656-f5d9e03e82ed"
      },
      "execution_count": 153,
      "outputs": [
        {
          "output_type": "stream",
          "name": "stdout",
          "text": [
            "PLW    387.0\n",
            "CDR    339.5\n",
            "TEN    349.5\n",
            "11B    391.0\n",
            "BBT     25.5\n",
            "F51     19.2\n",
            "dtype: float64\n"
          ]
        }
      ]
    },
    {
      "cell_type": "code",
      "source": [
        "quotations = pd.DataFrame(quotations).reset_index()\n",
        "\n",
        "print(quotations)"
      ],
      "metadata": {
        "colab": {
          "base_uri": "https://localhost:8080/"
        },
        "id": "hrEQBHiHNbog",
        "outputId": "c56c02fb-c4d3-4279-8ffc-231e8d666561"
      },
      "execution_count": 154,
      "outputs": [
        {
          "output_type": "stream",
          "name": "stdout",
          "text": [
            "  index      0\n",
            "0   PLW  387.0\n",
            "1   CDR  339.5\n",
            "2   TEN  349.5\n",
            "3   11B  391.0\n",
            "4   BBT   25.5\n",
            "5   F51   19.2\n"
          ]
        }
      ]
    },
    {
      "cell_type": "code",
      "source": [
        "quotations.columns = ['ticker', 'price']\n",
        "print(quotations)"
      ],
      "metadata": {
        "colab": {
          "base_uri": "https://localhost:8080/"
        },
        "id": "VwRL58fQOC-s",
        "outputId": "b866cb52-c805-46d3-d35c-06577ee1b2ae"
      },
      "execution_count": 155,
      "outputs": [
        {
          "output_type": "stream",
          "name": "stdout",
          "text": [
            "  ticker  price\n",
            "0    PLW  387.0\n",
            "1    CDR  339.5\n",
            "2    TEN  349.5\n",
            "3    11B  391.0\n",
            "4    BBT   25.5\n",
            "5    F51   19.2\n"
          ]
        }
      ]
    },
    {
      "cell_type": "code",
      "source": [
        "data_dict = {\n",
        "    'company': ['Amazon', 'Microsoft', 'Facebook'],\n",
        "    'price': [2375.0, 178.6, 179.2],\n",
        "    'ticker': ['AMZN.US', 'MSFT.US', 'FB.US']\n",
        "}\n",
        "dataframe = pd.DataFrame(data_dict)\n",
        "print(dataframe)"
      ],
      "metadata": {
        "id": "eDf6DZOkPYP1",
        "colab": {
          "base_uri": "https://localhost:8080/"
        },
        "outputId": "c6b0f15a-301a-4e7d-e452-207b1256fb88"
      },
      "execution_count": 156,
      "outputs": [
        {
          "output_type": "stream",
          "name": "stdout",
          "text": [
            "     company   price   ticker\n",
            "0     Amazon  2375.0  AMZN.US\n",
            "1  Microsoft   178.6  MSFT.US\n",
            "2   Facebook   179.2    FB.US\n"
          ]
        }
      ]
    },
    {
      "cell_type": "code",
      "source": [
        "data_dict = {\n",
        "    'company': ['Amazon', 'Microsoft', 'Facebook'],\n",
        "    'price': [2375.00, 178.6, 179.2],\n",
        "    'ticker': ['AMZN.US', 'MSFT.US', 'FB.US']\n",
        "}\n",
        "\n",
        "companies = pd.DataFrame(data=data_dict)\n",
        "\n",
        "print(companies)\n"
      ],
      "metadata": {
        "colab": {
          "base_uri": "https://localhost:8080/"
        },
        "id": "jxVJCk_6JtbC",
        "outputId": "da37b0a4-b9ba-4218-9287-141fbec06640"
      },
      "execution_count": 157,
      "outputs": [
        {
          "output_type": "stream",
          "name": "stdout",
          "text": [
            "     company   price   ticker\n",
            "0     Amazon  2375.0  AMZN.US\n",
            "1  Microsoft   178.6  MSFT.US\n",
            "2   Facebook   179.2    FB.US\n"
          ]
        }
      ]
    },
    {
      "cell_type": "code",
      "source": [
        "data_dict = {\n",
        "    'company': ['Amazon', 'Microsoft', 'Facebook'],\n",
        "    'price': [2375.00, 178.6, 179.2],\n",
        "    'ticker': ['AMZN.US', 'MSFT.US', 'FB.US']\n",
        "}\n",
        "\n",
        "companies = pd.DataFrame(data=data_dict).set_index('company')\n",
        "\n",
        "print(companies)\n"
      ],
      "metadata": {
        "colab": {
          "base_uri": "https://localhost:8080/"
        },
        "id": "L4G8Mx-tLu5P",
        "outputId": "f9e49bd9-9026-4583-c541-d689f09f53bf"
      },
      "execution_count": 158,
      "outputs": [
        {
          "output_type": "stream",
          "name": "stdout",
          "text": [
            "            price   ticker\n",
            "company                   \n",
            "Amazon     2375.0  AMZN.US\n",
            "Microsoft   178.6  MSFT.US\n",
            "Facebook    179.2    FB.US\n"
          ]
        }
      ]
    },
    {
      "cell_type": "code",
      "source": [
        "data_range = pd.date_range(start='2020-01-01', periods=31)\n",
        "print(data_range)"
      ],
      "metadata": {
        "colab": {
          "base_uri": "https://localhost:8080/"
        },
        "id": "mbr-I8QiN_87",
        "outputId": "bf1ebb51-bbd0-421e-89c5-74a1c726a927"
      },
      "execution_count": 159,
      "outputs": [
        {
          "output_type": "stream",
          "name": "stdout",
          "text": [
            "DatetimeIndex(['2020-01-01', '2020-01-02', '2020-01-03', '2020-01-04',\n",
            "               '2020-01-05', '2020-01-06', '2020-01-07', '2020-01-08',\n",
            "               '2020-01-09', '2020-01-10', '2020-01-11', '2020-01-12',\n",
            "               '2020-01-13', '2020-01-14', '2020-01-15', '2020-01-16',\n",
            "               '2020-01-17', '2020-01-18', '2020-01-19', '2020-01-20',\n",
            "               '2020-01-21', '2020-01-22', '2020-01-23', '2020-01-24',\n",
            "               '2020-01-25', '2020-01-26', '2020-01-27', '2020-01-28',\n",
            "               '2020-01-29', '2020-01-30', '2020-01-31'],\n",
            "              dtype='datetime64[ns]', freq='D')\n"
          ]
        }
      ]
    },
    {
      "cell_type": "code",
      "source": [
        "data_range = pd.date_range(\n",
        "    start='2020-01-01',\n",
        "    end='2020-12-31',\n",
        "    freq='W-MON'\n",
        ")\n",
        "print(data_range)\n"
      ],
      "metadata": {
        "colab": {
          "base_uri": "https://localhost:8080/"
        },
        "id": "sAUCwcLrPPRe",
        "outputId": "8766960a-60ad-4377-8aba-69352cb24f2d"
      },
      "execution_count": 160,
      "outputs": [
        {
          "output_type": "stream",
          "name": "stdout",
          "text": [
            "DatetimeIndex(['2020-01-06', '2020-01-13', '2020-01-20', '2020-01-27',\n",
            "               '2020-02-03', '2020-02-10', '2020-02-17', '2020-02-24',\n",
            "               '2020-03-02', '2020-03-09', '2020-03-16', '2020-03-23',\n",
            "               '2020-03-30', '2020-04-06', '2020-04-13', '2020-04-20',\n",
            "               '2020-04-27', '2020-05-04', '2020-05-11', '2020-05-18',\n",
            "               '2020-05-25', '2020-06-01', '2020-06-08', '2020-06-15',\n",
            "               '2020-06-22', '2020-06-29', '2020-07-06', '2020-07-13',\n",
            "               '2020-07-20', '2020-07-27', '2020-08-03', '2020-08-10',\n",
            "               '2020-08-17', '2020-08-24', '2020-08-31', '2020-09-07',\n",
            "               '2020-09-14', '2020-09-21', '2020-09-28', '2020-10-05',\n",
            "               '2020-10-12', '2020-10-19', '2020-10-26', '2020-11-02',\n",
            "               '2020-11-09', '2020-11-16', '2020-11-23', '2020-11-30',\n",
            "               '2020-12-07', '2020-12-14', '2020-12-21', '2020-12-28'],\n",
            "              dtype='datetime64[ns]', freq='W-MON')\n"
          ]
        }
      ]
    },
    {
      "cell_type": "code",
      "source": [
        "data_range = pd.date_range(\n",
        "    start='2020-01-01',\n",
        "    periods=24,\n",
        "    freq='H'\n",
        ")\n",
        "\n",
        "print(data_range)"
      ],
      "metadata": {
        "colab": {
          "base_uri": "https://localhost:8080/"
        },
        "id": "lbljPZ87QuMA",
        "outputId": "a811e00d-955d-422a-f124-2c5f6582f3e9"
      },
      "execution_count": 161,
      "outputs": [
        {
          "output_type": "stream",
          "name": "stdout",
          "text": [
            "DatetimeIndex(['2020-01-01 00:00:00', '2020-01-01 01:00:00',\n",
            "               '2020-01-01 02:00:00', '2020-01-01 03:00:00',\n",
            "               '2020-01-01 04:00:00', '2020-01-01 05:00:00',\n",
            "               '2020-01-01 06:00:00', '2020-01-01 07:00:00',\n",
            "               '2020-01-01 08:00:00', '2020-01-01 09:00:00',\n",
            "               '2020-01-01 10:00:00', '2020-01-01 11:00:00',\n",
            "               '2020-01-01 12:00:00', '2020-01-01 13:00:00',\n",
            "               '2020-01-01 14:00:00', '2020-01-01 15:00:00',\n",
            "               '2020-01-01 16:00:00', '2020-01-01 17:00:00',\n",
            "               '2020-01-01 18:00:00', '2020-01-01 19:00:00',\n",
            "               '2020-01-01 20:00:00', '2020-01-01 21:00:00',\n",
            "               '2020-01-01 22:00:00', '2020-01-01 23:00:00'],\n",
            "              dtype='datetime64[ns]', freq='h')\n"
          ]
        },
        {
          "output_type": "stream",
          "name": "stderr",
          "text": [
            "/tmp/ipython-input-2296755425.py:1: FutureWarning: 'H' is deprecated and will be removed in a future version, please use 'h' instead.\n",
            "  data_range = pd.date_range(\n"
          ]
        }
      ]
    },
    {
      "cell_type": "code",
      "source": [
        "data_range = pd.date_range(\n",
        "    start='2021-03-01',\n",
        "    end='2021-03-31'\n",
        ")\n",
        "# Create DataFrame\n",
        "df = pd.DataFrame({'day': data_range, 'day_of_year':data_range.dayofyear})\n",
        "print(df)\n"
      ],
      "metadata": {
        "colab": {
          "base_uri": "https://localhost:8080/"
        },
        "id": "dsPKRa6uSTiV",
        "outputId": "1ec30c3f-8323-413f-cd1f-66a7af540ec5"
      },
      "execution_count": 162,
      "outputs": [
        {
          "output_type": "stream",
          "name": "stdout",
          "text": [
            "          day  day_of_year\n",
            "0  2021-03-01           60\n",
            "1  2021-03-02           61\n",
            "2  2021-03-03           62\n",
            "3  2021-03-04           63\n",
            "4  2021-03-05           64\n",
            "5  2021-03-06           65\n",
            "6  2021-03-07           66\n",
            "7  2021-03-08           67\n",
            "8  2021-03-09           68\n",
            "9  2021-03-10           69\n",
            "10 2021-03-11           70\n",
            "11 2021-03-12           71\n",
            "12 2021-03-13           72\n",
            "13 2021-03-14           73\n",
            "14 2021-03-15           74\n",
            "15 2021-03-16           75\n",
            "16 2021-03-17           76\n",
            "17 2021-03-18           77\n",
            "18 2021-03-19           78\n",
            "19 2021-03-20           79\n",
            "20 2021-03-21           80\n",
            "21 2021-03-22           81\n",
            "22 2021-03-23           82\n",
            "23 2021-03-24           83\n",
            "24 2021-03-25           84\n",
            "25 2021-03-26           85\n",
            "26 2021-03-27           86\n",
            "27 2021-03-28           87\n",
            "28 2021-03-29           88\n",
            "29 2021-03-30           89\n",
            "30 2021-03-31           90\n"
          ]
        }
      ]
    },
    {
      "cell_type": "code",
      "source": [
        "import numpy as np\n",
        "import pandas as pd\n",
        "\n",
        "\n",
        "np.random.seed(42)\n",
        "data_dict = {\n",
        "    'normal': np.random.normal(loc=0, scale=1, size=1000),\n",
        "    'uniform': np.random.uniform(low=0, high=1, size=1000),\n",
        "    'binomial': np.random.binomial(n=1, p=0.2, size=1000)\n",
        "}\n",
        "\n",
        "# Create date_index\n",
        "date_index = pd.date_range(start='2020-01-01', periods=1000, freq='D')\n",
        "\n",
        "# Create DataFrame\n",
        "df = pd.DataFrame(data_dict, index=date_index)\n",
        "print(df)"
      ],
      "metadata": {
        "colab": {
          "base_uri": "https://localhost:8080/"
        },
        "id": "_UdXoe-BTlh5",
        "outputId": "277a09c5-fc00-4d2a-dff1-c468a37cecf5"
      },
      "execution_count": 163,
      "outputs": [
        {
          "output_type": "stream",
          "name": "stdout",
          "text": [
            "              normal   uniform  binomial\n",
            "2020-01-01  0.496714  0.167483         0\n",
            "2020-01-02 -0.138264  0.104568         0\n",
            "2020-01-03  0.647689  0.636430         0\n",
            "2020-01-04  1.523030  0.706476         0\n",
            "2020-01-05 -0.234153  0.031586         1\n",
            "...              ...       ...       ...\n",
            "2022-09-22 -0.281100  0.280683         1\n",
            "2022-09-23  1.797687  0.206993         0\n",
            "2022-09-24  0.640843  0.516573         0\n",
            "2022-09-25 -0.571179  0.005506         1\n",
            "2022-09-26  0.572583  0.007664         0\n",
            "\n",
            "[1000 rows x 3 columns]\n"
          ]
        }
      ]
    },
    {
      "cell_type": "code",
      "source": [
        "import numpy as np\n",
        "import pandas as pd\n",
        "\n",
        "\n",
        "np.random.seed(42)\n",
        "data_dict = {\n",
        "    'normal': np.random.normal(loc=0, scale=1, size=1000),\n",
        "    'uniform': np.random.uniform(low=0, high=1, size=1000),\n",
        "    'binomial': np.random.binomial(n=1, p=0.2, size=1000)\n",
        "}\n",
        "\n",
        "df = pd.DataFrame(data=data_dict, index=pd.date_range('2020-01-01', periods=1000))\n",
        "print(df)"
      ],
      "metadata": {
        "id": "Cdz5PIk0VcRf",
        "colab": {
          "base_uri": "https://localhost:8080/"
        },
        "outputId": "0b8625ca-cb3d-45cc-98a5-0da09952b07f"
      },
      "execution_count": 164,
      "outputs": [
        {
          "output_type": "stream",
          "name": "stdout",
          "text": [
            "              normal   uniform  binomial\n",
            "2020-01-01  0.496714  0.167483         0\n",
            "2020-01-02 -0.138264  0.104568         0\n",
            "2020-01-03  0.647689  0.636430         0\n",
            "2020-01-04  1.523030  0.706476         0\n",
            "2020-01-05 -0.234153  0.031586         1\n",
            "...              ...       ...       ...\n",
            "2022-09-22 -0.281100  0.280683         1\n",
            "2022-09-23  1.797687  0.206993         0\n",
            "2022-09-24  0.640843  0.516573         0\n",
            "2022-09-25 -0.571179  0.005506         1\n",
            "2022-09-26  0.572583  0.007664         0\n",
            "\n",
            "[1000 rows x 3 columns]\n"
          ]
        }
      ]
    },
    {
      "cell_type": "code",
      "source": [
        "pd.DataFrame.info(df)"
      ],
      "metadata": {
        "colab": {
          "base_uri": "https://localhost:8080/"
        },
        "id": "msEzbWdFeeBA",
        "outputId": "6436261a-396d-41c1-99dc-0dd411ce99d6"
      },
      "execution_count": 165,
      "outputs": [
        {
          "output_type": "stream",
          "name": "stdout",
          "text": [
            "<class 'pandas.core.frame.DataFrame'>\n",
            "DatetimeIndex: 1000 entries, 2020-01-01 to 2022-09-26\n",
            "Freq: D\n",
            "Data columns (total 3 columns):\n",
            " #   Column    Non-Null Count  Dtype  \n",
            "---  ------    --------------  -----  \n",
            " 0   normal    1000 non-null   float64\n",
            " 1   uniform   1000 non-null   float64\n",
            " 2   binomial  1000 non-null   int64  \n",
            "dtypes: float64(2), int64(1)\n",
            "memory usage: 31.2 KB\n"
          ]
        }
      ]
    },
    {
      "cell_type": "code",
      "source": [
        "pd.DataFrame.describe(df)"
      ],
      "metadata": {
        "colab": {
          "base_uri": "https://localhost:8080/",
          "height": 300
        },
        "id": "YVybpMMCejjL",
        "outputId": "1c3e7990-7275-4f63-e961-7bbbb2fc2284"
      },
      "execution_count": 166,
      "outputs": [
        {
          "output_type": "execute_result",
          "data": {
            "text/plain": [
              "            normal      uniform    binomial\n",
              "count  1000.000000  1000.000000  1000.00000\n",
              "mean      0.019332     0.503649     0.19200\n",
              "std       0.979216     0.288357     0.39407\n",
              "min      -3.241267     0.003218     0.00000\n",
              "25%      -0.647590     0.247199     0.00000\n",
              "50%       0.025301     0.516126     0.00000\n",
              "75%       0.647944     0.746319     0.00000\n",
              "max       3.852731     0.999414     1.00000"
            ],
            "text/html": [
              "\n",
              "  <div id=\"df-448b9645-1333-474c-b945-59821ae45c64\" class=\"colab-df-container\">\n",
              "    <div>\n",
              "<style scoped>\n",
              "    .dataframe tbody tr th:only-of-type {\n",
              "        vertical-align: middle;\n",
              "    }\n",
              "\n",
              "    .dataframe tbody tr th {\n",
              "        vertical-align: top;\n",
              "    }\n",
              "\n",
              "    .dataframe thead th {\n",
              "        text-align: right;\n",
              "    }\n",
              "</style>\n",
              "<table border=\"1\" class=\"dataframe\">\n",
              "  <thead>\n",
              "    <tr style=\"text-align: right;\">\n",
              "      <th></th>\n",
              "      <th>normal</th>\n",
              "      <th>uniform</th>\n",
              "      <th>binomial</th>\n",
              "    </tr>\n",
              "  </thead>\n",
              "  <tbody>\n",
              "    <tr>\n",
              "      <th>count</th>\n",
              "      <td>1000.000000</td>\n",
              "      <td>1000.000000</td>\n",
              "      <td>1000.00000</td>\n",
              "    </tr>\n",
              "    <tr>\n",
              "      <th>mean</th>\n",
              "      <td>0.019332</td>\n",
              "      <td>0.503649</td>\n",
              "      <td>0.19200</td>\n",
              "    </tr>\n",
              "    <tr>\n",
              "      <th>std</th>\n",
              "      <td>0.979216</td>\n",
              "      <td>0.288357</td>\n",
              "      <td>0.39407</td>\n",
              "    </tr>\n",
              "    <tr>\n",
              "      <th>min</th>\n",
              "      <td>-3.241267</td>\n",
              "      <td>0.003218</td>\n",
              "      <td>0.00000</td>\n",
              "    </tr>\n",
              "    <tr>\n",
              "      <th>25%</th>\n",
              "      <td>-0.647590</td>\n",
              "      <td>0.247199</td>\n",
              "      <td>0.00000</td>\n",
              "    </tr>\n",
              "    <tr>\n",
              "      <th>50%</th>\n",
              "      <td>0.025301</td>\n",
              "      <td>0.516126</td>\n",
              "      <td>0.00000</td>\n",
              "    </tr>\n",
              "    <tr>\n",
              "      <th>75%</th>\n",
              "      <td>0.647944</td>\n",
              "      <td>0.746319</td>\n",
              "      <td>0.00000</td>\n",
              "    </tr>\n",
              "    <tr>\n",
              "      <th>max</th>\n",
              "      <td>3.852731</td>\n",
              "      <td>0.999414</td>\n",
              "      <td>1.00000</td>\n",
              "    </tr>\n",
              "  </tbody>\n",
              "</table>\n",
              "</div>\n",
              "    <div class=\"colab-df-buttons\">\n",
              "\n",
              "  <div class=\"colab-df-container\">\n",
              "    <button class=\"colab-df-convert\" onclick=\"convertToInteractive('df-448b9645-1333-474c-b945-59821ae45c64')\"\n",
              "            title=\"Convert this dataframe to an interactive table.\"\n",
              "            style=\"display:none;\">\n",
              "\n",
              "  <svg xmlns=\"http://www.w3.org/2000/svg\" height=\"24px\" viewBox=\"0 -960 960 960\">\n",
              "    <path d=\"M120-120v-720h720v720H120Zm60-500h600v-160H180v160Zm220 220h160v-160H400v160Zm0 220h160v-160H400v160ZM180-400h160v-160H180v160Zm440 0h160v-160H620v160ZM180-180h160v-160H180v160Zm440 0h160v-160H620v160Z\"/>\n",
              "  </svg>\n",
              "    </button>\n",
              "\n",
              "  <style>\n",
              "    .colab-df-container {\n",
              "      display:flex;\n",
              "      gap: 12px;\n",
              "    }\n",
              "\n",
              "    .colab-df-convert {\n",
              "      background-color: #E8F0FE;\n",
              "      border: none;\n",
              "      border-radius: 50%;\n",
              "      cursor: pointer;\n",
              "      display: none;\n",
              "      fill: #1967D2;\n",
              "      height: 32px;\n",
              "      padding: 0 0 0 0;\n",
              "      width: 32px;\n",
              "    }\n",
              "\n",
              "    .colab-df-convert:hover {\n",
              "      background-color: #E2EBFA;\n",
              "      box-shadow: 0px 1px 2px rgba(60, 64, 67, 0.3), 0px 1px 3px 1px rgba(60, 64, 67, 0.15);\n",
              "      fill: #174EA6;\n",
              "    }\n",
              "\n",
              "    .colab-df-buttons div {\n",
              "      margin-bottom: 4px;\n",
              "    }\n",
              "\n",
              "    [theme=dark] .colab-df-convert {\n",
              "      background-color: #3B4455;\n",
              "      fill: #D2E3FC;\n",
              "    }\n",
              "\n",
              "    [theme=dark] .colab-df-convert:hover {\n",
              "      background-color: #434B5C;\n",
              "      box-shadow: 0px 1px 3px 1px rgba(0, 0, 0, 0.15);\n",
              "      filter: drop-shadow(0px 1px 2px rgba(0, 0, 0, 0.3));\n",
              "      fill: #FFFFFF;\n",
              "    }\n",
              "  </style>\n",
              "\n",
              "    <script>\n",
              "      const buttonEl =\n",
              "        document.querySelector('#df-448b9645-1333-474c-b945-59821ae45c64 button.colab-df-convert');\n",
              "      buttonEl.style.display =\n",
              "        google.colab.kernel.accessAllowed ? 'block' : 'none';\n",
              "\n",
              "      async function convertToInteractive(key) {\n",
              "        const element = document.querySelector('#df-448b9645-1333-474c-b945-59821ae45c64');\n",
              "        const dataTable =\n",
              "          await google.colab.kernel.invokeFunction('convertToInteractive',\n",
              "                                                    [key], {});\n",
              "        if (!dataTable) return;\n",
              "\n",
              "        const docLinkHtml = 'Like what you see? Visit the ' +\n",
              "          '<a target=\"_blank\" href=https://colab.research.google.com/notebooks/data_table.ipynb>data table notebook</a>'\n",
              "          + ' to learn more about interactive tables.';\n",
              "        element.innerHTML = '';\n",
              "        dataTable['output_type'] = 'display_data';\n",
              "        await google.colab.output.renderOutput(dataTable, element);\n",
              "        const docLink = document.createElement('div');\n",
              "        docLink.innerHTML = docLinkHtml;\n",
              "        element.appendChild(docLink);\n",
              "      }\n",
              "    </script>\n",
              "  </div>\n",
              "\n",
              "\n",
              "    <div id=\"df-6207a4a8-c384-4ded-87c9-57f5965d0f8d\">\n",
              "      <button class=\"colab-df-quickchart\" onclick=\"quickchart('df-6207a4a8-c384-4ded-87c9-57f5965d0f8d')\"\n",
              "                title=\"Suggest charts\"\n",
              "                style=\"display:none;\">\n",
              "\n",
              "<svg xmlns=\"http://www.w3.org/2000/svg\" height=\"24px\"viewBox=\"0 0 24 24\"\n",
              "     width=\"24px\">\n",
              "    <g>\n",
              "        <path d=\"M19 3H5c-1.1 0-2 .9-2 2v14c0 1.1.9 2 2 2h14c1.1 0 2-.9 2-2V5c0-1.1-.9-2-2-2zM9 17H7v-7h2v7zm4 0h-2V7h2v10zm4 0h-2v-4h2v4z\"/>\n",
              "    </g>\n",
              "</svg>\n",
              "      </button>\n",
              "\n",
              "<style>\n",
              "  .colab-df-quickchart {\n",
              "      --bg-color: #E8F0FE;\n",
              "      --fill-color: #1967D2;\n",
              "      --hover-bg-color: #E2EBFA;\n",
              "      --hover-fill-color: #174EA6;\n",
              "      --disabled-fill-color: #AAA;\n",
              "      --disabled-bg-color: #DDD;\n",
              "  }\n",
              "\n",
              "  [theme=dark] .colab-df-quickchart {\n",
              "      --bg-color: #3B4455;\n",
              "      --fill-color: #D2E3FC;\n",
              "      --hover-bg-color: #434B5C;\n",
              "      --hover-fill-color: #FFFFFF;\n",
              "      --disabled-bg-color: #3B4455;\n",
              "      --disabled-fill-color: #666;\n",
              "  }\n",
              "\n",
              "  .colab-df-quickchart {\n",
              "    background-color: var(--bg-color);\n",
              "    border: none;\n",
              "    border-radius: 50%;\n",
              "    cursor: pointer;\n",
              "    display: none;\n",
              "    fill: var(--fill-color);\n",
              "    height: 32px;\n",
              "    padding: 0;\n",
              "    width: 32px;\n",
              "  }\n",
              "\n",
              "  .colab-df-quickchart:hover {\n",
              "    background-color: var(--hover-bg-color);\n",
              "    box-shadow: 0 1px 2px rgba(60, 64, 67, 0.3), 0 1px 3px 1px rgba(60, 64, 67, 0.15);\n",
              "    fill: var(--button-hover-fill-color);\n",
              "  }\n",
              "\n",
              "  .colab-df-quickchart-complete:disabled,\n",
              "  .colab-df-quickchart-complete:disabled:hover {\n",
              "    background-color: var(--disabled-bg-color);\n",
              "    fill: var(--disabled-fill-color);\n",
              "    box-shadow: none;\n",
              "  }\n",
              "\n",
              "  .colab-df-spinner {\n",
              "    border: 2px solid var(--fill-color);\n",
              "    border-color: transparent;\n",
              "    border-bottom-color: var(--fill-color);\n",
              "    animation:\n",
              "      spin 1s steps(1) infinite;\n",
              "  }\n",
              "\n",
              "  @keyframes spin {\n",
              "    0% {\n",
              "      border-color: transparent;\n",
              "      border-bottom-color: var(--fill-color);\n",
              "      border-left-color: var(--fill-color);\n",
              "    }\n",
              "    20% {\n",
              "      border-color: transparent;\n",
              "      border-left-color: var(--fill-color);\n",
              "      border-top-color: var(--fill-color);\n",
              "    }\n",
              "    30% {\n",
              "      border-color: transparent;\n",
              "      border-left-color: var(--fill-color);\n",
              "      border-top-color: var(--fill-color);\n",
              "      border-right-color: var(--fill-color);\n",
              "    }\n",
              "    40% {\n",
              "      border-color: transparent;\n",
              "      border-right-color: var(--fill-color);\n",
              "      border-top-color: var(--fill-color);\n",
              "    }\n",
              "    60% {\n",
              "      border-color: transparent;\n",
              "      border-right-color: var(--fill-color);\n",
              "    }\n",
              "    80% {\n",
              "      border-color: transparent;\n",
              "      border-right-color: var(--fill-color);\n",
              "      border-bottom-color: var(--fill-color);\n",
              "    }\n",
              "    90% {\n",
              "      border-color: transparent;\n",
              "      border-bottom-color: var(--fill-color);\n",
              "    }\n",
              "  }\n",
              "</style>\n",
              "\n",
              "      <script>\n",
              "        async function quickchart(key) {\n",
              "          const quickchartButtonEl =\n",
              "            document.querySelector('#' + key + ' button');\n",
              "          quickchartButtonEl.disabled = true;  // To prevent multiple clicks.\n",
              "          quickchartButtonEl.classList.add('colab-df-spinner');\n",
              "          try {\n",
              "            const charts = await google.colab.kernel.invokeFunction(\n",
              "                'suggestCharts', [key], {});\n",
              "          } catch (error) {\n",
              "            console.error('Error during call to suggestCharts:', error);\n",
              "          }\n",
              "          quickchartButtonEl.classList.remove('colab-df-spinner');\n",
              "          quickchartButtonEl.classList.add('colab-df-quickchart-complete');\n",
              "        }\n",
              "        (() => {\n",
              "          let quickchartButtonEl =\n",
              "            document.querySelector('#df-6207a4a8-c384-4ded-87c9-57f5965d0f8d button');\n",
              "          quickchartButtonEl.style.display =\n",
              "            google.colab.kernel.accessAllowed ? 'block' : 'none';\n",
              "        })();\n",
              "      </script>\n",
              "    </div>\n",
              "\n",
              "    </div>\n",
              "  </div>\n"
            ],
            "application/vnd.google.colaboratory.intrinsic+json": {
              "type": "dataframe",
              "summary": "{\n  \"name\": \"pd\",\n  \"rows\": 8,\n  \"fields\": [\n    {\n      \"column\": \"normal\",\n      \"properties\": {\n        \"dtype\": \"number\",\n        \"std\": 353.47618578682847,\n        \"min\": -3.2412673400690726,\n        \"max\": 1000.0,\n        \"num_unique_values\": 8,\n        \"samples\": [\n          0.01933205582232549,\n          0.025300612234888248,\n          1000.0\n        ],\n        \"semantic_type\": \"\",\n        \"description\": \"\"\n      }\n    },\n    {\n      \"column\": \"uniform\",\n      \"properties\": {\n        \"dtype\": \"number\",\n        \"std\": 353.3866326599976,\n        \"min\": 0.0032182636042786816,\n        \"max\": 1000.0,\n        \"num_unique_values\": 8,\n        \"samples\": [\n          0.5036488055234082,\n          0.5161260280712384,\n          1000.0\n        ],\n        \"semantic_type\": \"\",\n        \"description\": \"\"\n      }\n    },\n    {\n      \"column\": \"binomial\",\n      \"properties\": {\n        \"dtype\": \"number\",\n        \"std\": 353.4734502381595,\n        \"min\": 0.0,\n        \"max\": 1000.0,\n        \"num_unique_values\": 5,\n        \"samples\": [\n          0.192,\n          1.0,\n          0.3940701603665144\n        ],\n        \"semantic_type\": \"\",\n        \"description\": \"\"\n      }\n    }\n  ]\n}"
            }
          },
          "metadata": {},
          "execution_count": 166
        }
      ]
    },
    {
      "cell_type": "code",
      "source": [
        "import numpy as np\n",
        "import pandas as pd\n",
        "\n",
        "\n",
        "np.random.seed(42)\n",
        "data_dict = {\n",
        "    'normal': np.random.normal(loc=0, scale=1, size=1000),\n",
        "    'uniform': np.random.uniform(low=0, high=1, size=1000),\n",
        "    'binomial': np.random.binomial(n=1, p=0.2, size=1000)\n",
        "}\n",
        "\n",
        "df = pd.DataFrame(data=data_dict, index=pd.date_range('2020-01-01', periods=1000))\n",
        "print(df)"
      ],
      "metadata": {
        "colab": {
          "base_uri": "https://localhost:8080/"
        },
        "id": "uCJtCtP-fRui",
        "outputId": "58259a3f-ffa3-434c-e9a5-f03e7ba64268"
      },
      "execution_count": 167,
      "outputs": [
        {
          "output_type": "stream",
          "name": "stdout",
          "text": [
            "              normal   uniform  binomial\n",
            "2020-01-01  0.496714  0.167483         0\n",
            "2020-01-02 -0.138264  0.104568         0\n",
            "2020-01-03  0.647689  0.636430         0\n",
            "2020-01-04  1.523030  0.706476         0\n",
            "2020-01-05 -0.234153  0.031586         1\n",
            "...              ...       ...       ...\n",
            "2022-09-22 -0.281100  0.280683         1\n",
            "2022-09-23  1.797687  0.206993         0\n",
            "2022-09-24  0.640843  0.516573         0\n",
            "2022-09-25 -0.571179  0.005506         1\n",
            "2022-09-26  0.572583  0.007664         0\n",
            "\n",
            "[1000 rows x 3 columns]\n"
          ]
        }
      ]
    },
    {
      "cell_type": "code",
      "source": [
        "df['binomial'].value_counts()"
      ],
      "metadata": {
        "colab": {
          "base_uri": "https://localhost:8080/",
          "height": 178
        },
        "id": "97FZ1jsQgbgu",
        "outputId": "c6ff803a-4411-4718-cb7c-5cc4aab4d21e"
      },
      "execution_count": 168,
      "outputs": [
        {
          "output_type": "execute_result",
          "data": {
            "text/plain": [
              "binomial\n",
              "0    808\n",
              "1    192\n",
              "Name: count, dtype: int64"
            ],
            "text/html": [
              "<div>\n",
              "<style scoped>\n",
              "    .dataframe tbody tr th:only-of-type {\n",
              "        vertical-align: middle;\n",
              "    }\n",
              "\n",
              "    .dataframe tbody tr th {\n",
              "        vertical-align: top;\n",
              "    }\n",
              "\n",
              "    .dataframe thead th {\n",
              "        text-align: right;\n",
              "    }\n",
              "</style>\n",
              "<table border=\"1\" class=\"dataframe\">\n",
              "  <thead>\n",
              "    <tr style=\"text-align: right;\">\n",
              "      <th></th>\n",
              "      <th>count</th>\n",
              "    </tr>\n",
              "    <tr>\n",
              "      <th>binomial</th>\n",
              "      <th></th>\n",
              "    </tr>\n",
              "  </thead>\n",
              "  <tbody>\n",
              "    <tr>\n",
              "      <th>0</th>\n",
              "      <td>808</td>\n",
              "    </tr>\n",
              "    <tr>\n",
              "      <th>1</th>\n",
              "      <td>192</td>\n",
              "    </tr>\n",
              "  </tbody>\n",
              "</table>\n",
              "</div><br><label><b>dtype:</b> int64</label>"
            ]
          },
          "metadata": {},
          "execution_count": 168
        }
      ]
    },
    {
      "cell_type": "code",
      "source": [
        "df.head(50).to_csv('dataframe50.csv', index=False)"
      ],
      "metadata": {
        "id": "KjqkhfgwgwsU"
      },
      "execution_count": 169,
      "outputs": []
    },
    {
      "cell_type": "code",
      "source": [
        "df_new = pd.read_csv('dataframe50.csv', index_col=0)\n",
        "print(df_new)"
      ],
      "metadata": {
        "colab": {
          "base_uri": "https://localhost:8080/"
        },
        "id": "bBbn1z-niPv6",
        "outputId": "9fc07ecd-59f3-4256-e1fd-b28b0d09c6d5"
      },
      "execution_count": 170,
      "outputs": [
        {
          "output_type": "stream",
          "name": "stdout",
          "text": [
            "            uniform  binomial\n",
            "normal                       \n",
            " 0.496714  0.167483         0\n",
            "-0.138264  0.104568         0\n",
            " 0.647689  0.636430         0\n",
            " 1.523030  0.706476         0\n",
            "-0.234153  0.031586         1\n",
            "-0.234137  0.936212         0\n",
            " 1.579213  0.051971         0\n",
            " 0.767435  0.541296         0\n",
            "-0.469474  0.709061         1\n",
            " 0.542560  0.870969         0\n",
            "-0.463418  0.714087         0\n",
            "-0.465730  0.801728         0\n",
            " 0.241962  0.339450         0\n",
            "-1.913280  0.814825         0\n",
            "-1.724918  0.080115         0\n",
            "-0.562288  0.894817         1\n",
            "-1.012831  0.547592         0\n",
            " 0.314247  0.817298         0\n",
            "-0.908024  0.452318         1\n",
            "-1.412304  0.643578         0\n",
            " 1.465649  0.526403         0\n",
            "-0.225776  0.731590         0\n",
            " 0.067528  0.081630         0\n",
            "-1.424748  0.060352         0\n",
            "-0.544383  0.247103         1\n",
            " 0.110923  0.159545         0\n",
            "-1.150994  0.871784         0\n",
            " 0.375698  0.219214         0\n",
            "-0.600639  0.975865         1\n",
            "-0.291694  0.336896         1\n",
            "-0.601707  0.182118         1\n",
            " 1.852278  0.789699         0\n",
            "-0.013497  0.658708         0\n",
            "-1.057711  0.498196         0\n",
            " 0.822545  0.555364         0\n",
            "-1.220844  0.719202         0\n",
            " 0.208864  0.228455         0\n",
            "-1.959670  0.996334         0\n",
            "-1.328186  0.974793         0\n",
            " 0.196861  0.650326         0\n",
            " 0.738467  0.199542         0\n",
            " 0.171368  0.680228         0\n",
            "-0.115648  0.072198         0\n",
            "-0.301104  0.030653         0\n",
            "-1.478522  0.257683         0\n",
            "-0.719844  0.462623         0\n",
            "-0.460639  0.868273         0\n",
            " 1.057122  0.727169         0\n",
            " 0.343618  0.742707         1\n",
            "-1.763040  0.425493         0\n"
          ]
        }
      ]
    },
    {
      "cell_type": "code",
      "source": [
        "url = 'https://ml-repository-krakers.s3-eu-west-1.amazonaws.com/kaggle+/churn_modelling/Telco-Customer-Churn.csv'\n",
        "\n",
        "df = pd.read_csv(url)\n",
        "print(df.head())"
      ],
      "metadata": {
        "colab": {
          "base_uri": "https://localhost:8080/"
        },
        "id": "8WGAag4V-oHM",
        "outputId": "92fc617e-05a7-44b1-e273-795861b7b9d9"
      },
      "execution_count": 171,
      "outputs": [
        {
          "output_type": "stream",
          "name": "stdout",
          "text": [
            "   customerID  gender  SeniorCitizen Partner Dependents  tenure PhoneService  \\\n",
            "0  7590-VHVEG  Female              0     Yes         No       1           No   \n",
            "1  5575-GNVDE    Male              0      No         No      34          Yes   \n",
            "2  3668-QPYBK    Male              0      No         No       2          Yes   \n",
            "3  7795-CFOCW    Male              0      No         No      45           No   \n",
            "4  9237-HQITU  Female              0      No         No       2          Yes   \n",
            "\n",
            "      MultipleLines InternetService OnlineSecurity  ... DeviceProtection  \\\n",
            "0  No phone service             DSL             No  ...               No   \n",
            "1                No             DSL            Yes  ...              Yes   \n",
            "2                No             DSL            Yes  ...               No   \n",
            "3  No phone service             DSL            Yes  ...              Yes   \n",
            "4                No     Fiber optic             No  ...               No   \n",
            "\n",
            "  TechSupport StreamingTV StreamingMovies        Contract PaperlessBilling  \\\n",
            "0          No          No              No  Month-to-month              Yes   \n",
            "1          No          No              No        One year               No   \n",
            "2          No          No              No  Month-to-month              Yes   \n",
            "3         Yes          No              No        One year               No   \n",
            "4          No          No              No  Month-to-month              Yes   \n",
            "\n",
            "               PaymentMethod MonthlyCharges  TotalCharges Churn  \n",
            "0           Electronic check          29.85         29.85    No  \n",
            "1               Mailed check          56.95        1889.5    No  \n",
            "2               Mailed check          53.85        108.15   Yes  \n",
            "3  Bank transfer (automatic)          42.30       1840.75    No  \n",
            "4           Electronic check          70.70        151.65   Yes  \n",
            "\n",
            "[5 rows x 21 columns]\n"
          ]
        }
      ]
    },
    {
      "cell_type": "code",
      "source": [
        "import pandas as pd\n",
        "\n",
        "\n",
        "url = 'https://ml-repository-krakers.s3-eu-west-1.amazonaws.com/kaggle+/churn_modelling/Telco-Customer-Churn.csv'\n",
        "df = pd.read_csv(url)\n",
        "print(df.head())"
      ],
      "metadata": {
        "colab": {
          "base_uri": "https://localhost:8080/"
        },
        "id": "K2pJd16oBbug",
        "outputId": "1ff882ac-24a1-432c-ba9d-993104970a37"
      },
      "execution_count": 172,
      "outputs": [
        {
          "output_type": "stream",
          "name": "stdout",
          "text": [
            "   customerID  gender  SeniorCitizen Partner Dependents  tenure PhoneService  \\\n",
            "0  7590-VHVEG  Female              0     Yes         No       1           No   \n",
            "1  5575-GNVDE    Male              0      No         No      34          Yes   \n",
            "2  3668-QPYBK    Male              0      No         No       2          Yes   \n",
            "3  7795-CFOCW    Male              0      No         No      45           No   \n",
            "4  9237-HQITU  Female              0      No         No       2          Yes   \n",
            "\n",
            "      MultipleLines InternetService OnlineSecurity  ... DeviceProtection  \\\n",
            "0  No phone service             DSL             No  ...               No   \n",
            "1                No             DSL            Yes  ...              Yes   \n",
            "2                No             DSL            Yes  ...               No   \n",
            "3  No phone service             DSL            Yes  ...              Yes   \n",
            "4                No     Fiber optic             No  ...               No   \n",
            "\n",
            "  TechSupport StreamingTV StreamingMovies        Contract PaperlessBilling  \\\n",
            "0          No          No              No  Month-to-month              Yes   \n",
            "1          No          No              No        One year               No   \n",
            "2          No          No              No  Month-to-month              Yes   \n",
            "3         Yes          No              No        One year               No   \n",
            "4          No          No              No  Month-to-month              Yes   \n",
            "\n",
            "               PaymentMethod MonthlyCharges  TotalCharges Churn  \n",
            "0           Electronic check          29.85         29.85    No  \n",
            "1               Mailed check          56.95        1889.5    No  \n",
            "2               Mailed check          53.85        108.15   Yes  \n",
            "3  Bank transfer (automatic)          42.30       1840.75    No  \n",
            "4           Electronic check          70.70        151.65   Yes  \n",
            "\n",
            "[5 rows x 21 columns]\n"
          ]
        }
      ]
    },
    {
      "cell_type": "code",
      "source": [
        "df['TotalCharges'].info()"
      ],
      "metadata": {
        "colab": {
          "base_uri": "https://localhost:8080/"
        },
        "id": "30cxZPSPDQ6K",
        "outputId": "3ea39a29-500a-4462-eb71-4359a16df113"
      },
      "execution_count": 173,
      "outputs": [
        {
          "output_type": "stream",
          "name": "stdout",
          "text": [
            "<class 'pandas.core.series.Series'>\n",
            "RangeIndex: 7043 entries, 0 to 7042\n",
            "Series name: TotalCharges\n",
            "Non-Null Count  Dtype \n",
            "--------------  ----- \n",
            "7043 non-null   object\n",
            "dtypes: object(1)\n",
            "memory usage: 55.2+ KB\n"
          ]
        }
      ]
    },
    {
      "cell_type": "code",
      "source": [
        "df['TotalCharges'] = pd.to_numeric(df['TotalCharges'], errors='coerce')\n",
        "print(df['TotalCharges'].info())"
      ],
      "metadata": {
        "id": "f2LxOG5lDrtL",
        "colab": {
          "base_uri": "https://localhost:8080/"
        },
        "outputId": "08af8cc7-d7e3-4a05-a37f-bce5e3719d74"
      },
      "execution_count": 174,
      "outputs": [
        {
          "output_type": "stream",
          "name": "stdout",
          "text": [
            "<class 'pandas.core.series.Series'>\n",
            "RangeIndex: 7043 entries, 0 to 7042\n",
            "Series name: TotalCharges\n",
            "Non-Null Count  Dtype  \n",
            "--------------  -----  \n",
            "7032 non-null   float64\n",
            "dtypes: float64(1)\n",
            "memory usage: 55.2 KB\n",
            "None\n"
          ]
        }
      ]
    },
    {
      "cell_type": "code",
      "source": [
        "# Calculation of the median for the TotalCharges column\n",
        "median = df['TotalCharges'][df['TotalCharges'] != ' '].median()\n",
        "\n",
        "# Fill the missing values with median\n",
        "df.loc[df['TotalCharges'] == ' ', 'TotalCharges'] = median\n",
        "\n",
        "# Convert TotalCharges column to float type\n",
        "df['TotalCharges'] = df['TotalCharges'].astype('float')\n",
        "\n",
        "print(df['TotalCharges'].value_counts())"
      ],
      "metadata": {
        "colab": {
          "base_uri": "https://localhost:8080/"
        },
        "id": "ofycmSogBzmF",
        "outputId": "de606d56-53dd-4bf6-a700-29d031da7bc7"
      },
      "execution_count": 175,
      "outputs": [
        {
          "output_type": "stream",
          "name": "stdout",
          "text": [
            "TotalCharges\n",
            "20.20      11\n",
            "19.75       9\n",
            "19.65       8\n",
            "19.90       8\n",
            "20.05       8\n",
            "           ..\n",
            "130.15      1\n",
            "3211.90     1\n",
            "7843.55     1\n",
            "2196.30     1\n",
            "197.40      1\n",
            "Name: count, Length: 6530, dtype: int64\n"
          ]
        }
      ]
    },
    {
      "cell_type": "code",
      "source": [
        "url = 'https://ml-repository-krakers.s3-eu-west-1.amazonaws.com/kaggle+/churn_modelling/Telco-Customer-Churn.csv'\n",
        "df = pd.read_csv(url, index_col=0)\n",
        "print(df)"
      ],
      "metadata": {
        "colab": {
          "base_uri": "https://localhost:8080/"
        },
        "id": "0E9NWevGGG4j",
        "outputId": "ddb55a45-d215-4ac9-dc94-15cf09242ff8"
      },
      "execution_count": 176,
      "outputs": [
        {
          "output_type": "stream",
          "name": "stdout",
          "text": [
            "            gender  SeniorCitizen Partner Dependents  tenure PhoneService  \\\n",
            "customerID                                                                  \n",
            "7590-VHVEG  Female              0     Yes         No       1           No   \n",
            "5575-GNVDE    Male              0      No         No      34          Yes   \n",
            "3668-QPYBK    Male              0      No         No       2          Yes   \n",
            "7795-CFOCW    Male              0      No         No      45           No   \n",
            "9237-HQITU  Female              0      No         No       2          Yes   \n",
            "...            ...            ...     ...        ...     ...          ...   \n",
            "6840-RESVB    Male              0     Yes        Yes      24          Yes   \n",
            "2234-XADUH  Female              0     Yes        Yes      72          Yes   \n",
            "4801-JZAZL  Female              0     Yes        Yes      11           No   \n",
            "8361-LTMKD    Male              1     Yes         No       4          Yes   \n",
            "3186-AJIEK    Male              0      No         No      66          Yes   \n",
            "\n",
            "               MultipleLines InternetService OnlineSecurity OnlineBackup  \\\n",
            "customerID                                                                 \n",
            "7590-VHVEG  No phone service             DSL             No          Yes   \n",
            "5575-GNVDE                No             DSL            Yes           No   \n",
            "3668-QPYBK                No             DSL            Yes          Yes   \n",
            "7795-CFOCW  No phone service             DSL            Yes           No   \n",
            "9237-HQITU                No     Fiber optic             No           No   \n",
            "...                      ...             ...            ...          ...   \n",
            "6840-RESVB               Yes             DSL            Yes           No   \n",
            "2234-XADUH               Yes     Fiber optic             No          Yes   \n",
            "4801-JZAZL  No phone service             DSL            Yes           No   \n",
            "8361-LTMKD               Yes     Fiber optic             No           No   \n",
            "3186-AJIEK                No     Fiber optic            Yes           No   \n",
            "\n",
            "           DeviceProtection TechSupport StreamingTV StreamingMovies  \\\n",
            "customerID                                                            \n",
            "7590-VHVEG               No          No          No              No   \n",
            "5575-GNVDE              Yes          No          No              No   \n",
            "3668-QPYBK               No          No          No              No   \n",
            "7795-CFOCW              Yes         Yes          No              No   \n",
            "9237-HQITU               No          No          No              No   \n",
            "...                     ...         ...         ...             ...   \n",
            "6840-RESVB              Yes         Yes         Yes             Yes   \n",
            "2234-XADUH              Yes          No         Yes             Yes   \n",
            "4801-JZAZL               No          No          No              No   \n",
            "8361-LTMKD               No          No          No              No   \n",
            "3186-AJIEK              Yes         Yes         Yes             Yes   \n",
            "\n",
            "                  Contract PaperlessBilling              PaymentMethod  \\\n",
            "customerID                                                               \n",
            "7590-VHVEG  Month-to-month              Yes           Electronic check   \n",
            "5575-GNVDE        One year               No               Mailed check   \n",
            "3668-QPYBK  Month-to-month              Yes               Mailed check   \n",
            "7795-CFOCW        One year               No  Bank transfer (automatic)   \n",
            "9237-HQITU  Month-to-month              Yes           Electronic check   \n",
            "...                    ...              ...                        ...   \n",
            "6840-RESVB        One year              Yes               Mailed check   \n",
            "2234-XADUH        One year              Yes    Credit card (automatic)   \n",
            "4801-JZAZL  Month-to-month              Yes           Electronic check   \n",
            "8361-LTMKD  Month-to-month              Yes               Mailed check   \n",
            "3186-AJIEK        Two year              Yes  Bank transfer (automatic)   \n",
            "\n",
            "            MonthlyCharges TotalCharges Churn  \n",
            "customerID                                     \n",
            "7590-VHVEG           29.85        29.85    No  \n",
            "5575-GNVDE           56.95       1889.5    No  \n",
            "3668-QPYBK           53.85       108.15   Yes  \n",
            "7795-CFOCW           42.30      1840.75    No  \n",
            "9237-HQITU           70.70       151.65   Yes  \n",
            "...                    ...          ...   ...  \n",
            "6840-RESVB           84.80       1990.5    No  \n",
            "2234-XADUH          103.20       7362.9    No  \n",
            "4801-JZAZL           29.60       346.45    No  \n",
            "8361-LTMKD           74.40        306.6   Yes  \n",
            "3186-AJIEK          105.65       6844.5    No  \n",
            "\n",
            "[7043 rows x 20 columns]\n"
          ]
        }
      ]
    },
    {
      "cell_type": "code",
      "source": [
        "print(df['Churn'].value_counts())"
      ],
      "metadata": {
        "colab": {
          "base_uri": "https://localhost:8080/"
        },
        "id": "PVAi5zspHL6O",
        "outputId": "24fa5077-8684-43b1-ee66-4652802972d9"
      },
      "execution_count": 177,
      "outputs": [
        {
          "output_type": "stream",
          "name": "stdout",
          "text": [
            "Churn\n",
            "No     5174\n",
            "Yes    1869\n",
            "Name: count, dtype: int64\n"
          ]
        }
      ]
    },
    {
      "cell_type": "code",
      "source": [
        "# Group by 'Churn' and 'PaymentMethod, then calculate the mean of 'MonthlyCharges'\n",
        "\n",
        "result = df.groupby(['Churn', 'PaymentMethod'])['MonthlyCharges'].mean()\n",
        "\n",
        "# Print result\n",
        "print(result)\n"
      ],
      "metadata": {
        "colab": {
          "base_uri": "https://localhost:8080/"
        },
        "id": "DogdsQB0H6wS",
        "outputId": "98325470-e98d-4af3-847c-945be4f3b6ce"
      },
      "execution_count": 178,
      "outputs": [
        {
          "output_type": "stream",
          "name": "stdout",
          "text": [
            "Churn  PaymentMethod            \n",
            "No     Bank transfer (automatic)    65.049417\n",
            "       Credit card (automatic)      64.562209\n",
            "       Electronic check             74.232032\n",
            "       Mailed check                 41.403911\n",
            "Yes    Bank transfer (automatic)    77.875581\n",
            "       Credit card (automatic)      77.356034\n",
            "       Electronic check             78.700980\n",
            "       Mailed check                 54.557143\n",
            "Name: MonthlyCharges, dtype: float64\n"
          ]
        }
      ]
    },
    {
      "cell_type": "code",
      "source": [
        "# Map 'Yes' to 1 and 'No' to 0 in the 'Churn' column\n",
        "df['Churn'] = df['Churn'].map({'Yes': 1, 'No': 0})\n",
        "\n",
        "# Display the first five rows of the 'Churn' column\n",
        "print(df['Churn'].head())"
      ],
      "metadata": {
        "colab": {
          "base_uri": "https://localhost:8080/"
        },
        "id": "H2rtpFwwJSR-",
        "outputId": "833efc94-6f84-4458-9744-a5b097541af4"
      },
      "execution_count": 179,
      "outputs": [
        {
          "output_type": "stream",
          "name": "stdout",
          "text": [
            "customerID\n",
            "7590-VHVEG    0\n",
            "5575-GNVDE    0\n",
            "3668-QPYBK    1\n",
            "7795-CFOCW    0\n",
            "9237-HQITU    1\n",
            "Name: Churn, dtype: int64\n"
          ]
        }
      ]
    },
    {
      "cell_type": "code",
      "source": [
        "# Calculate the correlation matrix\n",
        "correlation_matrix = df.corr(numeric_only=True)\n",
        "\n",
        "# Print the correlation matrix\n",
        "print(correlation_matrix)"
      ],
      "metadata": {
        "colab": {
          "base_uri": "https://localhost:8080/"
        },
        "id": "pdO0ZoYmKj9v",
        "outputId": "8e8c2aa4-0514-4c37-8509-a831aacf2bab"
      },
      "execution_count": 180,
      "outputs": [
        {
          "output_type": "stream",
          "name": "stdout",
          "text": [
            "                SeniorCitizen    tenure  MonthlyCharges     Churn\n",
            "SeniorCitizen        1.000000  0.016567        0.220173  0.150889\n",
            "tenure               0.016567  1.000000        0.247900 -0.352229\n",
            "MonthlyCharges       0.220173  0.247900        1.000000  0.193356\n",
            "Churn                0.150889 -0.352229        0.193356  1.000000\n"
          ]
        }
      ]
    },
    {
      "cell_type": "code",
      "source": [
        "sample_df = df.sample(n=10, random_state=42)\n",
        "sample_df.to_csv('sample_10.csv')"
      ],
      "metadata": {
        "id": "hsc3-VgWLAxi"
      },
      "execution_count": 181,
      "outputs": []
    },
    {
      "cell_type": "code",
      "source": [
        "import numpy as np\n",
        "import pandas as pd\n",
        "\n",
        "\n",
        "np.random.seed(42)\n",
        "s1 = pd.Series(np.random.rand(20))\n",
        "s2 = pd.Series(np.random.randn(20))\n",
        "\n",
        "# Combine into a DataFrame\n",
        "df = pd.DataFrame({\n",
        "    'col1': s1,\n",
        "    'col2': s2\n",
        "})\n",
        "print(df)"
      ],
      "metadata": {
        "colab": {
          "base_uri": "https://localhost:8080/"
        },
        "id": "0HvfSi8CL4Z_",
        "outputId": "3cfdfd9e-2d7c-4bf3-8f09-ba2c81f400dd"
      },
      "execution_count": 182,
      "outputs": [
        {
          "output_type": "stream",
          "name": "stdout",
          "text": [
            "        col1      col2\n",
            "0   0.374540 -1.012831\n",
            "1   0.950714  0.314247\n",
            "2   0.731994 -0.908024\n",
            "3   0.598658 -1.412304\n",
            "4   0.156019  1.465649\n",
            "5   0.155995 -0.225776\n",
            "6   0.058084  0.067528\n",
            "7   0.866176 -1.424748\n",
            "8   0.601115 -0.544383\n",
            "9   0.708073  0.110923\n",
            "10  0.020584 -1.150994\n",
            "11  0.969910  0.375698\n",
            "12  0.832443 -0.600639\n",
            "13  0.212339 -0.291694\n",
            "14  0.181825 -0.601707\n",
            "15  0.183405  1.852278\n",
            "16  0.304242 -0.013497\n",
            "17  0.524756 -1.057711\n",
            "18  0.431945  0.822545\n",
            "19  0.291229 -1.220844\n"
          ]
        }
      ]
    },
    {
      "cell_type": "code",
      "source": [
        "# Filter rows col2 is between 0.0 and 1.0 (inclusive)\n",
        "filtered_df = df[df['col2'].between(0.0, 1.0)]\n",
        "print(filtered_df)"
      ],
      "metadata": {
        "colab": {
          "base_uri": "https://localhost:8080/"
        },
        "id": "SGcxZLQyN8W3",
        "outputId": "8071e2eb-aacf-46e6-a392-e0e26f59ade2"
      },
      "execution_count": 183,
      "outputs": [
        {
          "output_type": "stream",
          "name": "stdout",
          "text": [
            "        col1      col2\n",
            "1   0.950714  0.314247\n",
            "6   0.058084  0.067528\n",
            "9   0.708073  0.110923\n",
            "11  0.969910  0.375698\n",
            "18  0.431945  0.822545\n"
          ]
        }
      ]
    },
    {
      "cell_type": "code",
      "source": [
        "# Assign new 'col3' based on values in 'col2'\n",
        "df['col3'] = np.where(df['col2'] >= 0, 1, -1)\n",
        "\n",
        "print(df)"
      ],
      "metadata": {
        "colab": {
          "base_uri": "https://localhost:8080/"
        },
        "id": "I3utK7rQO1HZ",
        "outputId": "db4f283a-a824-4178-9eaa-04ac909422dc"
      },
      "execution_count": 184,
      "outputs": [
        {
          "output_type": "stream",
          "name": "stdout",
          "text": [
            "        col1      col2  col3\n",
            "0   0.374540 -1.012831    -1\n",
            "1   0.950714  0.314247     1\n",
            "2   0.731994 -0.908024    -1\n",
            "3   0.598658 -1.412304    -1\n",
            "4   0.156019  1.465649     1\n",
            "5   0.155995 -0.225776    -1\n",
            "6   0.058084  0.067528     1\n",
            "7   0.866176 -1.424748    -1\n",
            "8   0.601115 -0.544383    -1\n",
            "9   0.708073  0.110923     1\n",
            "10  0.020584 -1.150994    -1\n",
            "11  0.969910  0.375698     1\n",
            "12  0.832443 -0.600639    -1\n",
            "13  0.212339 -0.291694    -1\n",
            "14  0.181825 -0.601707    -1\n",
            "15  0.183405  1.852278     1\n",
            "16  0.304242 -0.013497    -1\n",
            "17  0.524756 -1.057711    -1\n",
            "18  0.431945  0.822545     1\n",
            "19  0.291229 -1.220844    -1\n"
          ]
        }
      ]
    },
    {
      "cell_type": "code",
      "source": [
        "import numpy as np\n",
        "import pandas as pd\n",
        "\n",
        "\n",
        "np.random.seed(42)\n",
        "s1 = pd.Series(np.random.rand(20))\n",
        "s2 = pd.Series(np.random.randn(20))\n",
        "\n",
        "df = pd.concat([s1, s2], axis=1)\n",
        "df.columns = ['col1', 'col2']\n",
        "df['col3'] = df['col2'].map(lambda x: 1 if x >= 0 else -1)"
      ],
      "metadata": {
        "id": "MgAHqVcwPogL"
      },
      "execution_count": 185,
      "outputs": []
    },
    {
      "cell_type": "code",
      "source": [
        "print(df)"
      ],
      "metadata": {
        "colab": {
          "base_uri": "https://localhost:8080/"
        },
        "id": "px3Oazy7Lp8G",
        "outputId": "55875dde-c577-44f4-94fb-4265f212c1ed"
      },
      "execution_count": 186,
      "outputs": [
        {
          "output_type": "stream",
          "name": "stdout",
          "text": [
            "        col1      col2  col3\n",
            "0   0.374540 -1.012831    -1\n",
            "1   0.950714  0.314247     1\n",
            "2   0.731994 -0.908024    -1\n",
            "3   0.598658 -1.412304    -1\n",
            "4   0.156019  1.465649     1\n",
            "5   0.155995 -0.225776    -1\n",
            "6   0.058084  0.067528     1\n",
            "7   0.866176 -1.424748    -1\n",
            "8   0.601115 -0.544383    -1\n",
            "9   0.708073  0.110923     1\n",
            "10  0.020584 -1.150994    -1\n",
            "11  0.969910  0.375698     1\n",
            "12  0.832443 -0.600639    -1\n",
            "13  0.212339 -0.291694    -1\n",
            "14  0.181825 -0.601707    -1\n",
            "15  0.183405  1.852278     1\n",
            "16  0.304242 -0.013497    -1\n",
            "17  0.524756 -1.057711    -1\n",
            "18  0.431945  0.822545     1\n",
            "19  0.291229 -1.220844    -1\n"
          ]
        }
      ]
    },
    {
      "cell_type": "code",
      "source": [
        "df['col4'] = df['col2'].clip(-1.0, 1.0)\n",
        "print(df)"
      ],
      "metadata": {
        "colab": {
          "base_uri": "https://localhost:8080/"
        },
        "id": "cRlSqmuKLreR",
        "outputId": "9d62a6ce-2d03-402e-dd44-12c3cabbdaad"
      },
      "execution_count": 187,
      "outputs": [
        {
          "output_type": "stream",
          "name": "stdout",
          "text": [
            "        col1      col2  col3      col4\n",
            "0   0.374540 -1.012831    -1 -1.000000\n",
            "1   0.950714  0.314247     1  0.314247\n",
            "2   0.731994 -0.908024    -1 -0.908024\n",
            "3   0.598658 -1.412304    -1 -1.000000\n",
            "4   0.156019  1.465649     1  1.000000\n",
            "5   0.155995 -0.225776    -1 -0.225776\n",
            "6   0.058084  0.067528     1  0.067528\n",
            "7   0.866176 -1.424748    -1 -1.000000\n",
            "8   0.601115 -0.544383    -1 -0.544383\n",
            "9   0.708073  0.110923     1  0.110923\n",
            "10  0.020584 -1.150994    -1 -1.000000\n",
            "11  0.969910  0.375698     1  0.375698\n",
            "12  0.832443 -0.600639    -1 -0.600639\n",
            "13  0.212339 -0.291694    -1 -0.291694\n",
            "14  0.181825 -0.601707    -1 -0.601707\n",
            "15  0.183405  1.852278     1  1.000000\n",
            "16  0.304242 -0.013497    -1 -0.013497\n",
            "17  0.524756 -1.057711    -1 -1.000000\n",
            "18  0.431945  0.822545     1  0.822545\n",
            "19  0.291229 -1.220844    -1 -1.000000\n"
          ]
        }
      ]
    },
    {
      "cell_type": "code",
      "source": [
        "import numpy as np\n",
        "import pandas as pd\n",
        "\n",
        "\n",
        "np.random.seed(42)\n",
        "s1 = pd.Series(np.random.rand(20))\n",
        "s2 = pd.Series(np.random.randn(20))\n",
        "\n",
        "df = pd.concat([s1, s2], axis=1)\n",
        "df.columns = ['col1', 'col2']\n",
        "print(df)"
      ],
      "metadata": {
        "colab": {
          "base_uri": "https://localhost:8080/"
        },
        "id": "4CmGUk5GMSNK",
        "outputId": "27d92c67-f23b-4575-d88d-2b74a7ecc211"
      },
      "execution_count": 188,
      "outputs": [
        {
          "output_type": "stream",
          "name": "stdout",
          "text": [
            "        col1      col2\n",
            "0   0.374540 -1.012831\n",
            "1   0.950714  0.314247\n",
            "2   0.731994 -0.908024\n",
            "3   0.598658 -1.412304\n",
            "4   0.156019  1.465649\n",
            "5   0.155995 -0.225776\n",
            "6   0.058084  0.067528\n",
            "7   0.866176 -1.424748\n",
            "8   0.601115 -0.544383\n",
            "9   0.708073  0.110923\n",
            "10  0.020584 -1.150994\n",
            "11  0.969910  0.375698\n",
            "12  0.832443 -0.600639\n",
            "13  0.212339 -0.291694\n",
            "14  0.181825 -0.601707\n",
            "15  0.183405  1.852278\n",
            "16  0.304242 -0.013497\n",
            "17  0.524756 -1.057711\n",
            "18  0.431945  0.822545\n",
            "19  0.291229 -1.220844\n"
          ]
        }
      ]
    },
    {
      "cell_type": "code",
      "source": [
        "import numpy as np\n",
        "import pandas as pd\n",
        "\n",
        "\n",
        "np.random.seed(42)\n",
        "s1 = pd.Series(np.random.rand(20))\n",
        "s2 = pd.Series(np.random.randn(20))\n",
        "\n",
        "df = pd.concat([s1, s2], axis=1)\n",
        "df.columns = ['col1', 'col2']"
      ],
      "metadata": {
        "id": "5X6iBzd7Mkk-"
      },
      "execution_count": 189,
      "outputs": []
    },
    {
      "cell_type": "code",
      "source": [
        "print(df['col2'].nlargest(5))"
      ],
      "metadata": {
        "colab": {
          "base_uri": "https://localhost:8080/"
        },
        "id": "ADrUkXGXMzYu",
        "outputId": "66581387-3bd6-4937-fa98-415171dad0b1"
      },
      "execution_count": 190,
      "outputs": [
        {
          "output_type": "stream",
          "name": "stdout",
          "text": [
            "15    1.852278\n",
            "4     1.465649\n",
            "18    0.822545\n",
            "11    0.375698\n",
            "1     0.314247\n",
            "Name: col2, dtype: float64\n"
          ]
        }
      ]
    },
    {
      "cell_type": "code",
      "source": [
        "print(df['col2'].nsmallest(5))"
      ],
      "metadata": {
        "colab": {
          "base_uri": "https://localhost:8080/"
        },
        "id": "rfE934cCM6Cw",
        "outputId": "630a6a0a-ef85-4631-8c3d-c809b87fd228"
      },
      "execution_count": 191,
      "outputs": [
        {
          "output_type": "stream",
          "name": "stdout",
          "text": [
            "7    -1.424748\n",
            "3    -1.412304\n",
            "19   -1.220844\n",
            "10   -1.150994\n",
            "17   -1.057711\n",
            "Name: col2, dtype: float64\n"
          ]
        }
      ]
    },
    {
      "cell_type": "code",
      "source": [
        "import numpy as np\n",
        "import pandas as pd\n",
        "\n",
        "\n",
        "np.random.seed(42)\n",
        "s1 = pd.Series(np.random.rand(20))\n",
        "s2 = pd.Series(np.random.randn(20))\n",
        "\n",
        "df = pd.concat([s1, s2], axis=1)\n",
        "df.columns = ['col1', 'col2']\n",
        "print(df)"
      ],
      "metadata": {
        "colab": {
          "base_uri": "https://localhost:8080/"
        },
        "id": "1CXydXYINEk5",
        "outputId": "dace076a-3add-4ca0-9e58-d4714e6afef4"
      },
      "execution_count": 192,
      "outputs": [
        {
          "output_type": "stream",
          "name": "stdout",
          "text": [
            "        col1      col2\n",
            "0   0.374540 -1.012831\n",
            "1   0.950714  0.314247\n",
            "2   0.731994 -0.908024\n",
            "3   0.598658 -1.412304\n",
            "4   0.156019  1.465649\n",
            "5   0.155995 -0.225776\n",
            "6   0.058084  0.067528\n",
            "7   0.866176 -1.424748\n",
            "8   0.601115 -0.544383\n",
            "9   0.708073  0.110923\n",
            "10  0.020584 -1.150994\n",
            "11  0.969910  0.375698\n",
            "12  0.832443 -0.600639\n",
            "13  0.212339 -0.291694\n",
            "14  0.181825 -0.601707\n",
            "15  0.183405  1.852278\n",
            "16  0.304242 -0.013497\n",
            "17  0.524756 -1.057711\n",
            "18  0.431945  0.822545\n",
            "19  0.291229 -1.220844\n"
          ]
        }
      ]
    },
    {
      "cell_type": "code",
      "source": [
        "print(df.cumsum())"
      ],
      "metadata": {
        "colab": {
          "base_uri": "https://localhost:8080/"
        },
        "id": "pmWsXUtxNfG3",
        "outputId": "57eb486b-8bd3-44a3-92c6-d1d54891266f"
      },
      "execution_count": 193,
      "outputs": [
        {
          "output_type": "stream",
          "name": "stdout",
          "text": [
            "        col1      col2\n",
            "0   0.374540 -1.012831\n",
            "1   1.325254 -0.698584\n",
            "2   2.057248 -1.606608\n",
            "3   2.655907 -3.018912\n",
            "4   2.811925 -1.553263\n",
            "5   2.967920 -1.779039\n",
            "6   3.026004 -1.711511\n",
            "7   3.892180 -3.136259\n",
            "8   4.493295 -3.680642\n",
            "9   5.201367 -3.569719\n",
            "10  5.221952 -4.720713\n",
            "11  6.191862 -4.345015\n",
            "12  7.024304 -4.945653\n",
            "13  7.236643 -5.237347\n",
            "14  7.418468 -5.839054\n",
            "15  7.601873 -3.986776\n",
            "16  7.906115 -4.000273\n",
            "17  8.430872 -5.057984\n",
            "18  8.862817 -4.235439\n",
            "19  9.154046 -5.456283\n"
          ]
        }
      ]
    },
    {
      "cell_type": "code",
      "source": [
        "import numpy as np\n",
        "import pandas as pd\n",
        "\n",
        "\n",
        "np.random.seed(42)\n",
        "s1 = pd.Series(np.random.rand(20))\n",
        "s2 = pd.Series(np.random.randn(20))\n",
        "\n",
        "df = pd.concat([s1, s2], axis=1)\n",
        "df.columns = ['col1', 'col2']\n",
        "print(df['col2'].median())"
      ],
      "metadata": {
        "colab": {
          "base_uri": "https://localhost:8080/"
        },
        "id": "HMzD8miDOIpi",
        "outputId": "fb12ddd2-cd06-4be7-99bd-7ddb0c1e4e94"
      },
      "execution_count": 194,
      "outputs": [
        {
          "output_type": "stream",
          "name": "stdout",
          "text": [
            "-0.4180382371592297\n"
          ]
        }
      ]
    },
    {
      "cell_type": "code",
      "source": [
        "filtered_df = df[df['col2']>0]\n",
        "print(filtered_df)"
      ],
      "metadata": {
        "colab": {
          "base_uri": "https://localhost:8080/"
        },
        "id": "InjNYb2pOgNn",
        "outputId": "b3a5ac20-352d-46b9-f583-429ad3c769a8"
      },
      "execution_count": 195,
      "outputs": [
        {
          "output_type": "stream",
          "name": "stdout",
          "text": [
            "        col1      col2\n",
            "1   0.950714  0.314247\n",
            "4   0.156019  1.465649\n",
            "6   0.058084  0.067528\n",
            "9   0.708073  0.110923\n",
            "11  0.969910  0.375698\n",
            "15  0.183405  1.852278\n",
            "18  0.431945  0.822545\n"
          ]
        }
      ]
    },
    {
      "cell_type": "code",
      "source": [
        "print(df.head().to_dict())"
      ],
      "metadata": {
        "colab": {
          "base_uri": "https://localhost:8080/"
        },
        "id": "jM22DXs2PQ1V",
        "outputId": "f79d0952-f071-43b7-884d-60931f3e4c81"
      },
      "execution_count": 196,
      "outputs": [
        {
          "output_type": "stream",
          "name": "stdout",
          "text": [
            "{'col1': {0: 0.3745401188473625, 1: 0.9507143064099162, 2: 0.7319939418114051, 3: 0.5986584841970366, 4: 0.15601864044243652}, 'col2': {0: -1.0128311203344238, 1: 0.3142473325952739, 2: -0.9080240755212109, 3: -1.4123037013352915, 4: 1.465648768921554}}\n"
          ]
        }
      ]
    },
    {
      "cell_type": "code",
      "source": [
        "print(df.head().to_html())"
      ],
      "metadata": {
        "colab": {
          "base_uri": "https://localhost:8080/"
        },
        "id": "Mg8t-xZOPoiw",
        "outputId": "a80d0f7f-c492-4938-9b68-219b45c94b06"
      },
      "execution_count": 197,
      "outputs": [
        {
          "output_type": "stream",
          "name": "stdout",
          "text": [
            "<table border=\"1\" class=\"dataframe\">\n",
            "  <thead>\n",
            "    <tr style=\"text-align: right;\">\n",
            "      <th></th>\n",
            "      <th>col1</th>\n",
            "      <th>col2</th>\n",
            "    </tr>\n",
            "  </thead>\n",
            "  <tbody>\n",
            "    <tr>\n",
            "      <th>0</th>\n",
            "      <td>0.374540</td>\n",
            "      <td>-1.012831</td>\n",
            "    </tr>\n",
            "    <tr>\n",
            "      <th>1</th>\n",
            "      <td>0.950714</td>\n",
            "      <td>0.314247</td>\n",
            "    </tr>\n",
            "    <tr>\n",
            "      <th>2</th>\n",
            "      <td>0.731994</td>\n",
            "      <td>-0.908024</td>\n",
            "    </tr>\n",
            "    <tr>\n",
            "      <th>3</th>\n",
            "      <td>0.598658</td>\n",
            "      <td>-1.412304</td>\n",
            "    </tr>\n",
            "    <tr>\n",
            "      <th>4</th>\n",
            "      <td>0.156019</td>\n",
            "      <td>1.465649</td>\n",
            "    </tr>\n",
            "  </tbody>\n",
            "</table>\n"
          ]
        }
      ]
    },
    {
      "cell_type": "code",
      "source": [
        "import numpy as np\n",
        "import pandas as pd\n",
        "\n",
        "\n",
        "np.random.seed(42)\n",
        "df = pd.DataFrame(np.random.rand(10, 4), columns=list('ABCD'))\n",
        "print(df)"
      ],
      "metadata": {
        "colab": {
          "base_uri": "https://localhost:8080/"
        },
        "id": "sl1rw2C7QSDB",
        "outputId": "a26ee432-5e50-4f4e-d199-0170a02adf4e"
      },
      "execution_count": 198,
      "outputs": [
        {
          "output_type": "stream",
          "name": "stdout",
          "text": [
            "          A         B         C         D\n",
            "0  0.374540  0.950714  0.731994  0.598658\n",
            "1  0.156019  0.155995  0.058084  0.866176\n",
            "2  0.601115  0.708073  0.020584  0.969910\n",
            "3  0.832443  0.212339  0.181825  0.183405\n",
            "4  0.304242  0.524756  0.431945  0.291229\n",
            "5  0.611853  0.139494  0.292145  0.366362\n",
            "6  0.456070  0.785176  0.199674  0.514234\n",
            "7  0.592415  0.046450  0.607545  0.170524\n",
            "8  0.065052  0.948886  0.965632  0.808397\n",
            "9  0.304614  0.097672  0.684233  0.440152\n"
          ]
        }
      ]
    },
    {
      "cell_type": "code",
      "source": [
        "print(df)"
      ],
      "metadata": {
        "colab": {
          "base_uri": "https://localhost:8080/"
        },
        "id": "zE3YGYJlQ0qU",
        "outputId": "52b620e1-5362-47c0-f382-451a64a625ea"
      },
      "execution_count": 199,
      "outputs": [
        {
          "output_type": "stream",
          "name": "stdout",
          "text": [
            "          A         B         C         D\n",
            "0  0.374540  0.950714  0.731994  0.598658\n",
            "1  0.156019  0.155995  0.058084  0.866176\n",
            "2  0.601115  0.708073  0.020584  0.969910\n",
            "3  0.832443  0.212339  0.181825  0.183405\n",
            "4  0.304242  0.524756  0.431945  0.291229\n",
            "5  0.611853  0.139494  0.292145  0.366362\n",
            "6  0.456070  0.785176  0.199674  0.514234\n",
            "7  0.592415  0.046450  0.607545  0.170524\n",
            "8  0.065052  0.948886  0.965632  0.808397\n",
            "9  0.304614  0.097672  0.684233  0.440152\n"
          ]
        }
      ]
    },
    {
      "cell_type": "code",
      "source": [
        "# Extract rows where column C > 0.8\n",
        "filtered_df = df[df['C'] > 0.8]\n",
        "\n",
        "print(filtered_df)"
      ],
      "metadata": {
        "colab": {
          "base_uri": "https://localhost:8080/"
        },
        "id": "HbLiZ-UNROsm",
        "outputId": "f99d830f-0f35-46dc-9262-ec06a7f97ee4"
      },
      "execution_count": 200,
      "outputs": [
        {
          "output_type": "stream",
          "name": "stdout",
          "text": [
            "          A         B         C         D\n",
            "8  0.065052  0.948886  0.965632  0.808397\n"
          ]
        }
      ]
    },
    {
      "cell_type": "code",
      "source": [
        "import numpy as np\n",
        "import pandas as pd\n",
        "\n",
        "\n",
        "np.random.seed(42)\n",
        "df = pd.DataFrame(np.random.rand(10, 4), columns=list('ABCD'))"
      ],
      "metadata": {
        "id": "uTe_VJ8_RTpH"
      },
      "execution_count": 201,
      "outputs": []
    },
    {
      "cell_type": "code",
      "source": [
        "filtered_df = df[(df['C'] > 0.3) & (df['D'] < 0.7)]\n",
        "print(filtered_df)"
      ],
      "metadata": {
        "colab": {
          "base_uri": "https://localhost:8080/"
        },
        "id": "e3cd8q48RrNU",
        "outputId": "3badaf6a-381e-458d-b5a4-c0f923982991"
      },
      "execution_count": 202,
      "outputs": [
        {
          "output_type": "stream",
          "name": "stdout",
          "text": [
            "          A         B         C         D\n",
            "0  0.374540  0.950714  0.731994  0.598658\n",
            "4  0.304242  0.524756  0.431945  0.291229\n",
            "7  0.592415  0.046450  0.607545  0.170524\n",
            "9  0.304614  0.097672  0.684233  0.440152\n"
          ]
        }
      ]
    },
    {
      "cell_type": "code",
      "source": [
        "import numpy as np\n",
        "import pandas as pd\n",
        "\n",
        "\n",
        "np.random.seed(42)\n",
        "df = pd.DataFrame(np.random.rand(10, 4), columns=list('ABCD'))"
      ],
      "metadata": {
        "id": "RlT8AXiNR-h9"
      },
      "execution_count": 203,
      "outputs": []
    },
    {
      "cell_type": "code",
      "source": [
        "import numpy as np\n",
        "import pandas as pd\n",
        "\n",
        "\n",
        "np.random.seed(42)\n",
        "df = pd.DataFrame(np.random.rand(10, 4), columns=list('ABCD'))\n",
        "df.iloc[3, 1] = np.nan\n",
        "df.loc[8, 'D'] = np.nan\n",
        "print(df)"
      ],
      "metadata": {
        "colab": {
          "base_uri": "https://localhost:8080/"
        },
        "id": "Ld3cajrITd-T",
        "outputId": "ce15eafd-9985-430b-8fc6-9c4dff518f3d"
      },
      "execution_count": 204,
      "outputs": [
        {
          "output_type": "stream",
          "name": "stdout",
          "text": [
            "          A         B         C         D\n",
            "0  0.374540  0.950714  0.731994  0.598658\n",
            "1  0.156019  0.155995  0.058084  0.866176\n",
            "2  0.601115  0.708073  0.020584  0.969910\n",
            "3  0.832443       NaN  0.181825  0.183405\n",
            "4  0.304242  0.524756  0.431945  0.291229\n",
            "5  0.611853  0.139494  0.292145  0.366362\n",
            "6  0.456070  0.785176  0.199674  0.514234\n",
            "7  0.592415  0.046450  0.607545  0.170524\n",
            "8  0.065052  0.948886  0.965632       NaN\n",
            "9  0.304614  0.097672  0.684233  0.440152\n"
          ]
        }
      ]
    },
    {
      "cell_type": "code",
      "source": [
        "df1 = df.dropna()\n",
        "print(df1)"
      ],
      "metadata": {
        "colab": {
          "base_uri": "https://localhost:8080/"
        },
        "id": "ktmLBedsUzDB",
        "outputId": "057ac7d2-f105-4e5c-8de6-cc828977fd00"
      },
      "execution_count": 205,
      "outputs": [
        {
          "output_type": "stream",
          "name": "stdout",
          "text": [
            "          A         B         C         D\n",
            "0  0.374540  0.950714  0.731994  0.598658\n",
            "1  0.156019  0.155995  0.058084  0.866176\n",
            "2  0.601115  0.708073  0.020584  0.969910\n",
            "4  0.304242  0.524756  0.431945  0.291229\n",
            "5  0.611853  0.139494  0.292145  0.366362\n",
            "6  0.456070  0.785176  0.199674  0.514234\n",
            "7  0.592415  0.046450  0.607545  0.170524\n",
            "9  0.304614  0.097672  0.684233  0.440152\n"
          ]
        }
      ]
    },
    {
      "cell_type": "code",
      "source": [
        "df1=df1.reset_index(drop=True)\n",
        "print(df1)"
      ],
      "metadata": {
        "colab": {
          "base_uri": "https://localhost:8080/"
        },
        "id": "3jYaTh2EVS38",
        "outputId": "9c04e201-9caa-49ef-e4ec-6dd939a60892"
      },
      "execution_count": 206,
      "outputs": [
        {
          "output_type": "stream",
          "name": "stdout",
          "text": [
            "          A         B         C         D\n",
            "0  0.374540  0.950714  0.731994  0.598658\n",
            "1  0.156019  0.155995  0.058084  0.866176\n",
            "2  0.601115  0.708073  0.020584  0.969910\n",
            "3  0.304242  0.524756  0.431945  0.291229\n",
            "4  0.611853  0.139494  0.292145  0.366362\n",
            "5  0.456070  0.785176  0.199674  0.514234\n",
            "6  0.592415  0.046450  0.607545  0.170524\n",
            "7  0.304614  0.097672  0.684233  0.440152\n"
          ]
        }
      ]
    },
    {
      "cell_type": "code",
      "source": [
        "missing_values = df.isna().sum()\n",
        "print(missing_values)"
      ],
      "metadata": {
        "colab": {
          "base_uri": "https://localhost:8080/"
        },
        "id": "WYYyXysBVkGM",
        "outputId": "2a9b02da-641c-494e-b2be-df9bf1679f83"
      },
      "execution_count": 207,
      "outputs": [
        {
          "output_type": "stream",
          "name": "stdout",
          "text": [
            "A    0\n",
            "B    1\n",
            "C    0\n",
            "D    1\n",
            "dtype: int64\n"
          ]
        }
      ]
    },
    {
      "cell_type": "code",
      "source": [
        "print(df)"
      ],
      "metadata": {
        "colab": {
          "base_uri": "https://localhost:8080/"
        },
        "id": "Bj8KHDrOWc2-",
        "outputId": "c2f2772d-208d-4b61-8193-84794d6c9793"
      },
      "execution_count": 208,
      "outputs": [
        {
          "output_type": "stream",
          "name": "stdout",
          "text": [
            "          A         B         C         D\n",
            "0  0.374540  0.950714  0.731994  0.598658\n",
            "1  0.156019  0.155995  0.058084  0.866176\n",
            "2  0.601115  0.708073  0.020584  0.969910\n",
            "3  0.832443       NaN  0.181825  0.183405\n",
            "4  0.304242  0.524756  0.431945  0.291229\n",
            "5  0.611853  0.139494  0.292145  0.366362\n",
            "6  0.456070  0.785176  0.199674  0.514234\n",
            "7  0.592415  0.046450  0.607545  0.170524\n",
            "8  0.065052  0.948886  0.965632       NaN\n",
            "9  0.304614  0.097672  0.684233  0.440152\n"
          ]
        }
      ]
    },
    {
      "cell_type": "code",
      "source": [
        "df = df.fillna(0)\n",
        "print(df)"
      ],
      "metadata": {
        "colab": {
          "base_uri": "https://localhost:8080/"
        },
        "id": "D7L4SqfKWrXA",
        "outputId": "1fa460ae-fd23-4576-c4e5-9c1a39b9be04"
      },
      "execution_count": 209,
      "outputs": [
        {
          "output_type": "stream",
          "name": "stdout",
          "text": [
            "          A         B         C         D\n",
            "0  0.374540  0.950714  0.731994  0.598658\n",
            "1  0.156019  0.155995  0.058084  0.866176\n",
            "2  0.601115  0.708073  0.020584  0.969910\n",
            "3  0.832443  0.000000  0.181825  0.183405\n",
            "4  0.304242  0.524756  0.431945  0.291229\n",
            "5  0.611853  0.139494  0.292145  0.366362\n",
            "6  0.456070  0.785176  0.199674  0.514234\n",
            "7  0.592415  0.046450  0.607545  0.170524\n",
            "8  0.065052  0.948886  0.965632  0.000000\n",
            "9  0.304614  0.097672  0.684233  0.440152\n"
          ]
        }
      ]
    },
    {
      "cell_type": "code",
      "source": [
        "df = df[['D', 'A', 'B', 'C']]\n",
        "print(df)"
      ],
      "metadata": {
        "colab": {
          "base_uri": "https://localhost:8080/"
        },
        "id": "fUxxDrkZW5vh",
        "outputId": "6cd4a28c-e222-4ef8-9072-30cf0cb95f9d"
      },
      "execution_count": 210,
      "outputs": [
        {
          "output_type": "stream",
          "name": "stdout",
          "text": [
            "          D         A         B         C\n",
            "0  0.598658  0.374540  0.950714  0.731994\n",
            "1  0.866176  0.156019  0.155995  0.058084\n",
            "2  0.969910  0.601115  0.708073  0.020584\n",
            "3  0.183405  0.832443  0.000000  0.181825\n",
            "4  0.291229  0.304242  0.524756  0.431945\n",
            "5  0.366362  0.611853  0.139494  0.292145\n",
            "6  0.514234  0.456070  0.785176  0.199674\n",
            "7  0.170524  0.592415  0.046450  0.607545\n",
            "8  0.000000  0.065052  0.948886  0.965632\n",
            "9  0.440152  0.304614  0.097672  0.684233\n"
          ]
        }
      ]
    },
    {
      "cell_type": "code",
      "source": [
        "import numpy as np\n",
        "import pandas as pd\n",
        "\n",
        "\n",
        "np.random.seed(42)\n",
        "df = pd.DataFrame(np.random.rand(10, 4), columns=list('ABCD'))"
      ],
      "metadata": {
        "id": "hEnZZQDeXUhC"
      },
      "execution_count": 211,
      "outputs": []
    },
    {
      "cell_type": "code",
      "source": [
        "df =df[['A', 'B', 'C']]\n",
        "print(df)"
      ],
      "metadata": {
        "colab": {
          "base_uri": "https://localhost:8080/"
        },
        "id": "cWqarCqQXh1z",
        "outputId": "2b5583dc-ebe4-4b56-d818-a63e125c1809"
      },
      "execution_count": 212,
      "outputs": [
        {
          "output_type": "stream",
          "name": "stdout",
          "text": [
            "          A         B         C\n",
            "0  0.374540  0.950714  0.731994\n",
            "1  0.156019  0.155995  0.058084\n",
            "2  0.601115  0.708073  0.020584\n",
            "3  0.832443  0.212339  0.181825\n",
            "4  0.304242  0.524756  0.431945\n",
            "5  0.611853  0.139494  0.292145\n",
            "6  0.456070  0.785176  0.199674\n",
            "7  0.592415  0.046450  0.607545\n",
            "8  0.065052  0.948886  0.965632\n",
            "9  0.304614  0.097672  0.684233\n"
          ]
        }
      ]
    },
    {
      "cell_type": "code",
      "source": [
        "import pandas as pd\n",
        "\n",
        "\n",
        "url = 'https://storage.googleapis.com/esmartdata-courses-files/dash-course/data.csv'\n",
        "df = pd.read_csv(url, index_col=0)\n",
        "print(df)"
      ],
      "metadata": {
        "colab": {
          "base_uri": "https://localhost:8080/"
        },
        "id": "sJUjnaPZXoJL",
        "outputId": "92207863-edbc-4db0-fca9-fbeff3c3ccdc"
      },
      "execution_count": 213,
      "outputs": [
        {
          "output_type": "stream",
          "name": "stdout",
          "text": [
            "                                  Name    Location  Year  Kilometers_Driven  \\\n",
            "0               Maruti Wagon R LXI CNG      Mumbai  2010              72000   \n",
            "1     Hyundai Creta 1.6 CRDi SX Option        Pune  2015              41000   \n",
            "2                         Honda Jazz V     Chennai  2011              46000   \n",
            "3                    Maruti Ertiga VDI     Chennai  2012              87000   \n",
            "4      Audi A4 New 2.0 TDI Multitronic  Coimbatore  2013              40670   \n",
            "...                                ...         ...   ...                ...   \n",
            "6014                  Maruti Swift VDI       Delhi  2014              27365   \n",
            "6015          Hyundai Xcent 1.1 CRDi S      Jaipur  2015             100000   \n",
            "6016             Mahindra Xylo D4 BSIV      Jaipur  2012              55000   \n",
            "6017                Maruti Wagon R VXI     Kolkata  2013              46000   \n",
            "6018             Chevrolet Beat Diesel   Hyderabad  2011              47000   \n",
            "\n",
            "     Fuel_Type Transmission Owner_Type     Mileage   Engine      Power  Seats  \\\n",
            "0          CNG       Manual      First  26.6 km/kg   998 CC  58.16 bhp    5.0   \n",
            "1       Diesel       Manual      First  19.67 kmpl  1582 CC  126.2 bhp    5.0   \n",
            "2       Petrol       Manual      First   18.2 kmpl  1199 CC   88.7 bhp    5.0   \n",
            "3       Diesel       Manual      First  20.77 kmpl  1248 CC  88.76 bhp    7.0   \n",
            "4       Diesel    Automatic     Second   15.2 kmpl  1968 CC  140.8 bhp    5.0   \n",
            "...        ...          ...        ...         ...      ...        ...    ...   \n",
            "6014    Diesel       Manual      First   28.4 kmpl  1248 CC     74 bhp    5.0   \n",
            "6015    Diesel       Manual      First   24.4 kmpl  1120 CC     71 bhp    5.0   \n",
            "6016    Diesel       Manual     Second   14.0 kmpl  2498 CC    112 bhp    8.0   \n",
            "6017    Petrol       Manual      First   18.9 kmpl   998 CC   67.1 bhp    5.0   \n",
            "6018    Diesel       Manual      First  25.44 kmpl   936 CC   57.6 bhp    5.0   \n",
            "\n",
            "      New_Price  Price  \n",
            "0           NaN   1.75  \n",
            "1           NaN  12.50  \n",
            "2     8.61 Lakh   4.50  \n",
            "3           NaN   6.00  \n",
            "4           NaN  17.74  \n",
            "...         ...    ...  \n",
            "6014  7.88 Lakh   4.75  \n",
            "6015        NaN   4.00  \n",
            "6016        NaN   2.90  \n",
            "6017        NaN   2.65  \n",
            "6018        NaN   2.50  \n",
            "\n",
            "[6019 rows x 13 columns]\n"
          ]
        }
      ]
    },
    {
      "cell_type": "code",
      "source": [
        "column_list = list(df.columns)\n",
        "print(column_list)"
      ],
      "metadata": {
        "colab": {
          "base_uri": "https://localhost:8080/"
        },
        "id": "yzQ_LOT7X3nQ",
        "outputId": "aff09e79-4215-4bb0-edc1-fd6fcd534835"
      },
      "execution_count": 214,
      "outputs": [
        {
          "output_type": "stream",
          "name": "stdout",
          "text": [
            "['Name', 'Location', 'Year', 'Kilometers_Driven', 'Fuel_Type', 'Transmission', 'Owner_Type', 'Mileage', 'Engine', 'Power', 'Seats', 'New_Price', 'Price']\n"
          ]
        }
      ]
    },
    {
      "cell_type": "code",
      "source": [
        "print(df)"
      ],
      "metadata": {
        "colab": {
          "base_uri": "https://localhost:8080/"
        },
        "id": "jeOQAoWiYdTL",
        "outputId": "686745ff-778f-41af-ecc4-85d7efcb8566"
      },
      "execution_count": 215,
      "outputs": [
        {
          "output_type": "stream",
          "name": "stdout",
          "text": [
            "                                  Name    Location  Year  Kilometers_Driven  \\\n",
            "0               Maruti Wagon R LXI CNG      Mumbai  2010              72000   \n",
            "1     Hyundai Creta 1.6 CRDi SX Option        Pune  2015              41000   \n",
            "2                         Honda Jazz V     Chennai  2011              46000   \n",
            "3                    Maruti Ertiga VDI     Chennai  2012              87000   \n",
            "4      Audi A4 New 2.0 TDI Multitronic  Coimbatore  2013              40670   \n",
            "...                                ...         ...   ...                ...   \n",
            "6014                  Maruti Swift VDI       Delhi  2014              27365   \n",
            "6015          Hyundai Xcent 1.1 CRDi S      Jaipur  2015             100000   \n",
            "6016             Mahindra Xylo D4 BSIV      Jaipur  2012              55000   \n",
            "6017                Maruti Wagon R VXI     Kolkata  2013              46000   \n",
            "6018             Chevrolet Beat Diesel   Hyderabad  2011              47000   \n",
            "\n",
            "     Fuel_Type Transmission Owner_Type     Mileage   Engine      Power  Seats  \\\n",
            "0          CNG       Manual      First  26.6 km/kg   998 CC  58.16 bhp    5.0   \n",
            "1       Diesel       Manual      First  19.67 kmpl  1582 CC  126.2 bhp    5.0   \n",
            "2       Petrol       Manual      First   18.2 kmpl  1199 CC   88.7 bhp    5.0   \n",
            "3       Diesel       Manual      First  20.77 kmpl  1248 CC  88.76 bhp    7.0   \n",
            "4       Diesel    Automatic     Second   15.2 kmpl  1968 CC  140.8 bhp    5.0   \n",
            "...        ...          ...        ...         ...      ...        ...    ...   \n",
            "6014    Diesel       Manual      First   28.4 kmpl  1248 CC     74 bhp    5.0   \n",
            "6015    Diesel       Manual      First   24.4 kmpl  1120 CC     71 bhp    5.0   \n",
            "6016    Diesel       Manual     Second   14.0 kmpl  2498 CC    112 bhp    8.0   \n",
            "6017    Petrol       Manual      First   18.9 kmpl   998 CC   67.1 bhp    5.0   \n",
            "6018    Diesel       Manual      First  25.44 kmpl   936 CC   57.6 bhp    5.0   \n",
            "\n",
            "      New_Price  Price  \n",
            "0           NaN   1.75  \n",
            "1           NaN  12.50  \n",
            "2     8.61 Lakh   4.50  \n",
            "3           NaN   6.00  \n",
            "4           NaN  17.74  \n",
            "...         ...    ...  \n",
            "6014  7.88 Lakh   4.75  \n",
            "6015        NaN   4.00  \n",
            "6016        NaN   2.90  \n",
            "6017        NaN   2.65  \n",
            "6018        NaN   2.50  \n",
            "\n",
            "[6019 rows x 13 columns]\n"
          ]
        }
      ]
    },
    {
      "cell_type": "code",
      "source": [
        "df_filtered = df.drop(columns=['New_Price'])\n",
        "print(df_filtered.head(5))"
      ],
      "metadata": {
        "colab": {
          "base_uri": "https://localhost:8080/"
        },
        "id": "3VYJ5ln8ZDEA",
        "outputId": "57046654-3e43-4d37-a1e2-c65acc4ff58a"
      },
      "execution_count": 216,
      "outputs": [
        {
          "output_type": "stream",
          "name": "stdout",
          "text": [
            "                               Name    Location  Year  Kilometers_Driven  \\\n",
            "0            Maruti Wagon R LXI CNG      Mumbai  2010              72000   \n",
            "1  Hyundai Creta 1.6 CRDi SX Option        Pune  2015              41000   \n",
            "2                      Honda Jazz V     Chennai  2011              46000   \n",
            "3                 Maruti Ertiga VDI     Chennai  2012              87000   \n",
            "4   Audi A4 New 2.0 TDI Multitronic  Coimbatore  2013              40670   \n",
            "\n",
            "  Fuel_Type Transmission Owner_Type     Mileage   Engine      Power  Seats  \\\n",
            "0       CNG       Manual      First  26.6 km/kg   998 CC  58.16 bhp    5.0   \n",
            "1    Diesel       Manual      First  19.67 kmpl  1582 CC  126.2 bhp    5.0   \n",
            "2    Petrol       Manual      First   18.2 kmpl  1199 CC   88.7 bhp    5.0   \n",
            "3    Diesel       Manual      First  20.77 kmpl  1248 CC  88.76 bhp    7.0   \n",
            "4    Diesel    Automatic     Second   15.2 kmpl  1968 CC  140.8 bhp    5.0   \n",
            "\n",
            "   Price  \n",
            "0   1.75  \n",
            "1  12.50  \n",
            "2   4.50  \n",
            "3   6.00  \n",
            "4  17.74  \n"
          ]
        }
      ]
    },
    {
      "cell_type": "code",
      "source": [
        "missing_values = df.isna().sum()\n",
        "print(missing_values)"
      ],
      "metadata": {
        "colab": {
          "base_uri": "https://localhost:8080/"
        },
        "id": "O8FM9RgWZUpd",
        "outputId": "7df334ba-8946-4e14-c7df-19881d5161fc"
      },
      "execution_count": 217,
      "outputs": [
        {
          "output_type": "stream",
          "name": "stdout",
          "text": [
            "Name                    0\n",
            "Location                0\n",
            "Year                    0\n",
            "Kilometers_Driven       0\n",
            "Fuel_Type               0\n",
            "Transmission            0\n",
            "Owner_Type              0\n",
            "Mileage                 2\n",
            "Engine                 36\n",
            "Power                  36\n",
            "Seats                  42\n",
            "New_Price            5195\n",
            "Price                   0\n",
            "dtype: int64\n"
          ]
        }
      ]
    },
    {
      "cell_type": "code",
      "source": [
        "missing_values = df_filtered.isna().sum()\n",
        "print(missing_values)"
      ],
      "metadata": {
        "colab": {
          "base_uri": "https://localhost:8080/"
        },
        "id": "lHiSXUqnZwsM",
        "outputId": "09707009-530d-4344-b245-3047e4dfff50"
      },
      "execution_count": 218,
      "outputs": [
        {
          "output_type": "stream",
          "name": "stdout",
          "text": [
            "Name                  0\n",
            "Location              0\n",
            "Year                  0\n",
            "Kilometers_Driven     0\n",
            "Fuel_Type             0\n",
            "Transmission          0\n",
            "Owner_Type            0\n",
            "Mileage               2\n",
            "Engine               36\n",
            "Power                36\n",
            "Seats                42\n",
            "Price                 0\n",
            "dtype: int64\n"
          ]
        }
      ]
    },
    {
      "cell_type": "code",
      "source": [
        "df.dropna(inplace=True)\n",
        "df.info()"
      ],
      "metadata": {
        "colab": {
          "base_uri": "https://localhost:8080/"
        },
        "id": "6OPOfa0qal8U",
        "outputId": "2b253583-5e5e-42d5-c365-a84b99627829"
      },
      "execution_count": 219,
      "outputs": [
        {
          "output_type": "stream",
          "name": "stdout",
          "text": [
            "<class 'pandas.core.frame.DataFrame'>\n",
            "Index: 823 entries, 2 to 6014\n",
            "Data columns (total 13 columns):\n",
            " #   Column             Non-Null Count  Dtype  \n",
            "---  ------             --------------  -----  \n",
            " 0   Name               823 non-null    object \n",
            " 1   Location           823 non-null    object \n",
            " 2   Year               823 non-null    int64  \n",
            " 3   Kilometers_Driven  823 non-null    int64  \n",
            " 4   Fuel_Type          823 non-null    object \n",
            " 5   Transmission       823 non-null    object \n",
            " 6   Owner_Type         823 non-null    object \n",
            " 7   Mileage            823 non-null    object \n",
            " 8   Engine             823 non-null    object \n",
            " 9   Power              823 non-null    object \n",
            " 10  Seats              823 non-null    float64\n",
            " 11  New_Price          823 non-null    object \n",
            " 12  Price              823 non-null    float64\n",
            "dtypes: float64(2), int64(2), object(9)\n",
            "memory usage: 90.0+ KB\n"
          ]
        }
      ]
    },
    {
      "cell_type": "code",
      "source": [
        "import pandas as pd\n",
        "\n",
        "\n",
        "url = 'https://storage.googleapis.com/esmartdata-courses-files/dash-course/data.csv'\n",
        "df = pd.read_csv(url, index_col=0)\n",
        "print(df)"
      ],
      "metadata": {
        "id": "XFQ47C_dbB_1",
        "colab": {
          "base_uri": "https://localhost:8080/"
        },
        "outputId": "0f2725b0-4183-451e-b017-3c996e5507f1"
      },
      "execution_count": 220,
      "outputs": [
        {
          "output_type": "stream",
          "name": "stdout",
          "text": [
            "                                  Name    Location  Year  Kilometers_Driven  \\\n",
            "0               Maruti Wagon R LXI CNG      Mumbai  2010              72000   \n",
            "1     Hyundai Creta 1.6 CRDi SX Option        Pune  2015              41000   \n",
            "2                         Honda Jazz V     Chennai  2011              46000   \n",
            "3                    Maruti Ertiga VDI     Chennai  2012              87000   \n",
            "4      Audi A4 New 2.0 TDI Multitronic  Coimbatore  2013              40670   \n",
            "...                                ...         ...   ...                ...   \n",
            "6014                  Maruti Swift VDI       Delhi  2014              27365   \n",
            "6015          Hyundai Xcent 1.1 CRDi S      Jaipur  2015             100000   \n",
            "6016             Mahindra Xylo D4 BSIV      Jaipur  2012              55000   \n",
            "6017                Maruti Wagon R VXI     Kolkata  2013              46000   \n",
            "6018             Chevrolet Beat Diesel   Hyderabad  2011              47000   \n",
            "\n",
            "     Fuel_Type Transmission Owner_Type     Mileage   Engine      Power  Seats  \\\n",
            "0          CNG       Manual      First  26.6 km/kg   998 CC  58.16 bhp    5.0   \n",
            "1       Diesel       Manual      First  19.67 kmpl  1582 CC  126.2 bhp    5.0   \n",
            "2       Petrol       Manual      First   18.2 kmpl  1199 CC   88.7 bhp    5.0   \n",
            "3       Diesel       Manual      First  20.77 kmpl  1248 CC  88.76 bhp    7.0   \n",
            "4       Diesel    Automatic     Second   15.2 kmpl  1968 CC  140.8 bhp    5.0   \n",
            "...        ...          ...        ...         ...      ...        ...    ...   \n",
            "6014    Diesel       Manual      First   28.4 kmpl  1248 CC     74 bhp    5.0   \n",
            "6015    Diesel       Manual      First   24.4 kmpl  1120 CC     71 bhp    5.0   \n",
            "6016    Diesel       Manual     Second   14.0 kmpl  2498 CC    112 bhp    8.0   \n",
            "6017    Petrol       Manual      First   18.9 kmpl   998 CC   67.1 bhp    5.0   \n",
            "6018    Diesel       Manual      First  25.44 kmpl   936 CC   57.6 bhp    5.0   \n",
            "\n",
            "      New_Price  Price  \n",
            "0           NaN   1.75  \n",
            "1           NaN  12.50  \n",
            "2     8.61 Lakh   4.50  \n",
            "3           NaN   6.00  \n",
            "4           NaN  17.74  \n",
            "...         ...    ...  \n",
            "6014  7.88 Lakh   4.75  \n",
            "6015        NaN   4.00  \n",
            "6016        NaN   2.90  \n",
            "6017        NaN   2.65  \n",
            "6018        NaN   2.50  \n",
            "\n",
            "[6019 rows x 13 columns]\n"
          ]
        }
      ]
    },
    {
      "cell_type": "code",
      "source": [
        "df.columns = df.columns.str.lower()\n",
        "print(df.head())"
      ],
      "metadata": {
        "colab": {
          "base_uri": "https://localhost:8080/"
        },
        "id": "jCAWfxUA-tPT",
        "outputId": "2844ce02-a2df-4217-a8a6-e5480caaf7ac"
      },
      "execution_count": 221,
      "outputs": [
        {
          "output_type": "stream",
          "name": "stdout",
          "text": [
            "                               name    location  year  kilometers_driven  \\\n",
            "0            Maruti Wagon R LXI CNG      Mumbai  2010              72000   \n",
            "1  Hyundai Creta 1.6 CRDi SX Option        Pune  2015              41000   \n",
            "2                      Honda Jazz V     Chennai  2011              46000   \n",
            "3                 Maruti Ertiga VDI     Chennai  2012              87000   \n",
            "4   Audi A4 New 2.0 TDI Multitronic  Coimbatore  2013              40670   \n",
            "\n",
            "  fuel_type transmission owner_type     mileage   engine      power  seats  \\\n",
            "0       CNG       Manual      First  26.6 km/kg   998 CC  58.16 bhp    5.0   \n",
            "1    Diesel       Manual      First  19.67 kmpl  1582 CC  126.2 bhp    5.0   \n",
            "2    Petrol       Manual      First   18.2 kmpl  1199 CC   88.7 bhp    5.0   \n",
            "3    Diesel       Manual      First  20.77 kmpl  1248 CC  88.76 bhp    7.0   \n",
            "4    Diesel    Automatic     Second   15.2 kmpl  1968 CC  140.8 bhp    5.0   \n",
            "\n",
            "   new_price  price  \n",
            "0        NaN   1.75  \n",
            "1        NaN  12.50  \n",
            "2  8.61 Lakh   4.50  \n",
            "3        NaN   6.00  \n",
            "4        NaN  17.74  \n"
          ]
        }
      ]
    },
    {
      "cell_type": "code",
      "source": [
        "import pandas as pd\n",
        "\n",
        "\n",
        "url = 'https://storage.googleapis.com/esmartdata-courses-files/dash-course/data.csv'\n",
        "df = pd.read_csv(url, index_col=0)\n",
        "df.columns = [col.lower() for col in df.columns]\n",
        "print(df.head())"
      ],
      "metadata": {
        "colab": {
          "base_uri": "https://localhost:8080/"
        },
        "id": "LaDzThdb_DV2",
        "outputId": "8bf55e3e-daf6-4588-d30f-8b5e69f52b76"
      },
      "execution_count": 222,
      "outputs": [
        {
          "output_type": "stream",
          "name": "stdout",
          "text": [
            "                               name    location  year  kilometers_driven  \\\n",
            "0            Maruti Wagon R LXI CNG      Mumbai  2010              72000   \n",
            "1  Hyundai Creta 1.6 CRDi SX Option        Pune  2015              41000   \n",
            "2                      Honda Jazz V     Chennai  2011              46000   \n",
            "3                 Maruti Ertiga VDI     Chennai  2012              87000   \n",
            "4   Audi A4 New 2.0 TDI Multitronic  Coimbatore  2013              40670   \n",
            "\n",
            "  fuel_type transmission owner_type     mileage   engine      power  seats  \\\n",
            "0       CNG       Manual      First  26.6 km/kg   998 CC  58.16 bhp    5.0   \n",
            "1    Diesel       Manual      First  19.67 kmpl  1582 CC  126.2 bhp    5.0   \n",
            "2    Petrol       Manual      First   18.2 kmpl  1199 CC   88.7 bhp    5.0   \n",
            "3    Diesel       Manual      First  20.77 kmpl  1248 CC  88.76 bhp    7.0   \n",
            "4    Diesel    Automatic     Second   15.2 kmpl  1968 CC  140.8 bhp    5.0   \n",
            "\n",
            "   new_price  price  \n",
            "0        NaN   1.75  \n",
            "1        NaN  12.50  \n",
            "2  8.61 Lakh   4.50  \n",
            "3        NaN   6.00  \n",
            "4        NaN  17.74  \n"
          ]
        }
      ]
    },
    {
      "cell_type": "code",
      "source": [
        "print(df[\"owner_type\"].value_counts())"
      ],
      "metadata": {
        "colab": {
          "base_uri": "https://localhost:8080/"
        },
        "id": "AI3iAtXN_gy8",
        "outputId": "30cb9e1b-a8c4-4032-9b98-3ed2df619e08"
      },
      "execution_count": 223,
      "outputs": [
        {
          "output_type": "stream",
          "name": "stdout",
          "text": [
            "owner_type\n",
            "First             4929\n",
            "Second             968\n",
            "Third              113\n",
            "Fourth & Above       9\n",
            "Name: count, dtype: int64\n"
          ]
        }
      ]
    },
    {
      "cell_type": "code",
      "source": [
        "import pandas as pd\n",
        "\n",
        "\n",
        "url = 'https://storage.googleapis.com/esmartdata-courses-files/dash-course/data.csv'\n",
        "df = pd.read_csv(url, index_col=0)\n",
        "df.columns = [col.lower() for col in df.columns]\n",
        "df.dropna(inplace=True)\n",
        "print(df)"
      ],
      "metadata": {
        "colab": {
          "base_uri": "https://localhost:8080/"
        },
        "id": "Mlau4nqv_9zZ",
        "outputId": "01cf97c4-92cf-4707-f637-a02e2d3319ce"
      },
      "execution_count": 224,
      "outputs": [
        {
          "output_type": "stream",
          "name": "stdout",
          "text": [
            "                                   name location  year  kilometers_driven  \\\n",
            "2                          Honda Jazz V  Chennai  2011              46000   \n",
            "7     Toyota Innova Crysta 2.8 GX AT 8S   Mumbai  2016              36000   \n",
            "10                     Maruti Ciaz Zeta    Kochi  2018              25692   \n",
            "15          Mitsubishi Pajero Sport 4X4    Delhi  2014             110000   \n",
            "20                    BMW 3 Series 320d    Kochi  2014              32982   \n",
            "...                                 ...      ...   ...                ...   \n",
            "5999              Tata Bolt Revotron XT  Chennai  2016              10000   \n",
            "6002      Volkswagen Vento 1.6 Highline   Mumbai  2011              38000   \n",
            "6005           Maruti Vitara Brezza VDi     Pune  2016              37208   \n",
            "6010               Honda Brio 1.2 VX MT    Delhi  2013              33746   \n",
            "6014                   Maruti Swift VDI    Delhi  2014              27365   \n",
            "\n",
            "     fuel_type transmission owner_type     mileage   engine       power  \\\n",
            "2       Petrol       Manual      First   18.2 kmpl  1199 CC    88.7 bhp   \n",
            "7       Diesel    Automatic      First  11.36 kmpl  2755 CC   171.5 bhp   \n",
            "10      Petrol       Manual      First  21.56 kmpl  1462 CC  103.25 bhp   \n",
            "15      Diesel       Manual      First   13.5 kmpl  2477 CC  175.56 bhp   \n",
            "20      Diesel    Automatic      First  22.69 kmpl  1995 CC     190 bhp   \n",
            "...        ...          ...        ...         ...      ...         ...   \n",
            "5999    Petrol       Manual      First  17.57 kmpl  1193 CC    88.7 bhp   \n",
            "6002    Petrol       Manual      First  16.09 kmpl  1598 CC   103.5 bhp   \n",
            "6005    Diesel       Manual      First   24.3 kmpl  1248 CC    88.5 bhp   \n",
            "6010    Petrol       Manual      First   18.5 kmpl  1198 CC    86.8 bhp   \n",
            "6014    Diesel       Manual      First   28.4 kmpl  1248 CC      74 bhp   \n",
            "\n",
            "      seats   new_price  price  \n",
            "2       5.0   8.61 Lakh   4.50  \n",
            "7       8.0     21 Lakh  17.50  \n",
            "10      5.0  10.65 Lakh   9.95  \n",
            "15      7.0  32.01 Lakh  15.00  \n",
            "20      5.0  47.87 Lakh  18.55  \n",
            "...     ...         ...    ...  \n",
            "5999    5.0   7.77 Lakh   4.00  \n",
            "6002    5.0  11.91 Lakh   3.25  \n",
            "6005    5.0   9.93 Lakh   7.43  \n",
            "6010    5.0   6.63 Lakh   3.20  \n",
            "6014    5.0   7.88 Lakh   4.75  \n",
            "\n",
            "[823 rows x 13 columns]\n"
          ]
        }
      ]
    },
    {
      "cell_type": "code",
      "source": [
        "df[\"engine\"].describe()"
      ],
      "metadata": {
        "colab": {
          "base_uri": "https://localhost:8080/",
          "height": 209
        },
        "id": "oESJ2omcASx4",
        "outputId": "98c3bd7e-f7ba-4f9d-e4c9-52b911c89af6"
      },
      "execution_count": 225,
      "outputs": [
        {
          "output_type": "execute_result",
          "data": {
            "text/plain": [
              "count         823\n",
              "unique         58\n",
              "top       1248 CC\n",
              "freq           92\n",
              "Name: engine, dtype: object"
            ],
            "text/html": [
              "<div>\n",
              "<style scoped>\n",
              "    .dataframe tbody tr th:only-of-type {\n",
              "        vertical-align: middle;\n",
              "    }\n",
              "\n",
              "    .dataframe tbody tr th {\n",
              "        vertical-align: top;\n",
              "    }\n",
              "\n",
              "    .dataframe thead th {\n",
              "        text-align: right;\n",
              "    }\n",
              "</style>\n",
              "<table border=\"1\" class=\"dataframe\">\n",
              "  <thead>\n",
              "    <tr style=\"text-align: right;\">\n",
              "      <th></th>\n",
              "      <th>engine</th>\n",
              "    </tr>\n",
              "  </thead>\n",
              "  <tbody>\n",
              "    <tr>\n",
              "      <th>count</th>\n",
              "      <td>823</td>\n",
              "    </tr>\n",
              "    <tr>\n",
              "      <th>unique</th>\n",
              "      <td>58</td>\n",
              "    </tr>\n",
              "    <tr>\n",
              "      <th>top</th>\n",
              "      <td>1248 CC</td>\n",
              "    </tr>\n",
              "    <tr>\n",
              "      <th>freq</th>\n",
              "      <td>92</td>\n",
              "    </tr>\n",
              "  </tbody>\n",
              "</table>\n",
              "</div><br><label><b>dtype:</b> object</label>"
            ]
          },
          "metadata": {},
          "execution_count": 225
        }
      ]
    },
    {
      "cell_type": "code",
      "source": [
        "import numpy as np\n",
        "import pandas as pd\n",
        "\n",
        "\n",
        "url = 'https://storage.googleapis.com/esmartdata-courses-files/dash-course/data.csv'\n",
        "df = pd.read_csv(url, index_col=0)\n",
        "df.columns = [col.lower() for col in df.columns]\n",
        "print(df)"
      ],
      "metadata": {
        "colab": {
          "base_uri": "https://localhost:8080/"
        },
        "id": "ujoDnXPCA4Q-",
        "outputId": "ecd66007-847e-4c90-a5d7-23104e5a02fb"
      },
      "execution_count": 226,
      "outputs": [
        {
          "output_type": "stream",
          "name": "stdout",
          "text": [
            "                                  name    location  year  kilometers_driven  \\\n",
            "0               Maruti Wagon R LXI CNG      Mumbai  2010              72000   \n",
            "1     Hyundai Creta 1.6 CRDi SX Option        Pune  2015              41000   \n",
            "2                         Honda Jazz V     Chennai  2011              46000   \n",
            "3                    Maruti Ertiga VDI     Chennai  2012              87000   \n",
            "4      Audi A4 New 2.0 TDI Multitronic  Coimbatore  2013              40670   \n",
            "...                                ...         ...   ...                ...   \n",
            "6014                  Maruti Swift VDI       Delhi  2014              27365   \n",
            "6015          Hyundai Xcent 1.1 CRDi S      Jaipur  2015             100000   \n",
            "6016             Mahindra Xylo D4 BSIV      Jaipur  2012              55000   \n",
            "6017                Maruti Wagon R VXI     Kolkata  2013              46000   \n",
            "6018             Chevrolet Beat Diesel   Hyderabad  2011              47000   \n",
            "\n",
            "     fuel_type transmission owner_type     mileage   engine      power  seats  \\\n",
            "0          CNG       Manual      First  26.6 km/kg   998 CC  58.16 bhp    5.0   \n",
            "1       Diesel       Manual      First  19.67 kmpl  1582 CC  126.2 bhp    5.0   \n",
            "2       Petrol       Manual      First   18.2 kmpl  1199 CC   88.7 bhp    5.0   \n",
            "3       Diesel       Manual      First  20.77 kmpl  1248 CC  88.76 bhp    7.0   \n",
            "4       Diesel    Automatic     Second   15.2 kmpl  1968 CC  140.8 bhp    5.0   \n",
            "...        ...          ...        ...         ...      ...        ...    ...   \n",
            "6014    Diesel       Manual      First   28.4 kmpl  1248 CC     74 bhp    5.0   \n",
            "6015    Diesel       Manual      First   24.4 kmpl  1120 CC     71 bhp    5.0   \n",
            "6016    Diesel       Manual     Second   14.0 kmpl  2498 CC    112 bhp    8.0   \n",
            "6017    Petrol       Manual      First   18.9 kmpl   998 CC   67.1 bhp    5.0   \n",
            "6018    Diesel       Manual      First  25.44 kmpl   936 CC   57.6 bhp    5.0   \n",
            "\n",
            "      new_price  price  \n",
            "0           NaN   1.75  \n",
            "1           NaN  12.50  \n",
            "2     8.61 Lakh   4.50  \n",
            "3           NaN   6.00  \n",
            "4           NaN  17.74  \n",
            "...         ...    ...  \n",
            "6014  7.88 Lakh   4.75  \n",
            "6015        NaN   4.00  \n",
            "6016        NaN   2.90  \n",
            "6017        NaN   2.65  \n",
            "6018        NaN   2.50  \n",
            "\n",
            "[6019 rows x 13 columns]\n"
          ]
        }
      ]
    },
    {
      "cell_type": "code",
      "source": [
        "df[\"power\"] = np.where(df[\"power\"] == \"null bhp\", np.nan, df[\"power\"])\n",
        "print(df[\"power\"].value_counts().head())"
      ],
      "metadata": {
        "colab": {
          "base_uri": "https://localhost:8080/"
        },
        "id": "70mJSITCBvq2",
        "outputId": "0e5d2cc6-9d08-4b3f-8958-e86f4950aa40"
      },
      "execution_count": 227,
      "outputs": [
        {
          "output_type": "stream",
          "name": "stdout",
          "text": [
            "power\n",
            "74 bhp      235\n",
            "98.6 bhp    131\n",
            "73.9 bhp    125\n",
            "140 bhp     123\n",
            "78.9 bhp    111\n",
            "Name: count, dtype: int64\n"
          ]
        }
      ]
    },
    {
      "cell_type": "code",
      "source": [
        "import pandas as pd\n",
        "\n",
        "\n",
        "url = 'https://storage.googleapis.com/esmartdata-courses-files/dash-course/data.csv'\n",
        "df = pd.read_csv(url, index_col=0)\n",
        "df.columns = [col.lower() for col in df.columns]\n",
        "print(df)"
      ],
      "metadata": {
        "colab": {
          "base_uri": "https://localhost:8080/"
        },
        "id": "UcGTrnRPCfyT",
        "outputId": "ecad81f0-7ee5-4f2f-8504-644df2219f60"
      },
      "execution_count": 228,
      "outputs": [
        {
          "output_type": "stream",
          "name": "stdout",
          "text": [
            "                                  name    location  year  kilometers_driven  \\\n",
            "0               Maruti Wagon R LXI CNG      Mumbai  2010              72000   \n",
            "1     Hyundai Creta 1.6 CRDi SX Option        Pune  2015              41000   \n",
            "2                         Honda Jazz V     Chennai  2011              46000   \n",
            "3                    Maruti Ertiga VDI     Chennai  2012              87000   \n",
            "4      Audi A4 New 2.0 TDI Multitronic  Coimbatore  2013              40670   \n",
            "...                                ...         ...   ...                ...   \n",
            "6014                  Maruti Swift VDI       Delhi  2014              27365   \n",
            "6015          Hyundai Xcent 1.1 CRDi S      Jaipur  2015             100000   \n",
            "6016             Mahindra Xylo D4 BSIV      Jaipur  2012              55000   \n",
            "6017                Maruti Wagon R VXI     Kolkata  2013              46000   \n",
            "6018             Chevrolet Beat Diesel   Hyderabad  2011              47000   \n",
            "\n",
            "     fuel_type transmission owner_type     mileage   engine      power  seats  \\\n",
            "0          CNG       Manual      First  26.6 km/kg   998 CC  58.16 bhp    5.0   \n",
            "1       Diesel       Manual      First  19.67 kmpl  1582 CC  126.2 bhp    5.0   \n",
            "2       Petrol       Manual      First   18.2 kmpl  1199 CC   88.7 bhp    5.0   \n",
            "3       Diesel       Manual      First  20.77 kmpl  1248 CC  88.76 bhp    7.0   \n",
            "4       Diesel    Automatic     Second   15.2 kmpl  1968 CC  140.8 bhp    5.0   \n",
            "...        ...          ...        ...         ...      ...        ...    ...   \n",
            "6014    Diesel       Manual      First   28.4 kmpl  1248 CC     74 bhp    5.0   \n",
            "6015    Diesel       Manual      First   24.4 kmpl  1120 CC     71 bhp    5.0   \n",
            "6016    Diesel       Manual     Second   14.0 kmpl  2498 CC    112 bhp    8.0   \n",
            "6017    Petrol       Manual      First   18.9 kmpl   998 CC   67.1 bhp    5.0   \n",
            "6018    Diesel       Manual      First  25.44 kmpl   936 CC   57.6 bhp    5.0   \n",
            "\n",
            "      new_price  price  \n",
            "0           NaN   1.75  \n",
            "1           NaN  12.50  \n",
            "2     8.61 Lakh   4.50  \n",
            "3           NaN   6.00  \n",
            "4           NaN  17.74  \n",
            "...         ...    ...  \n",
            "6014  7.88 Lakh   4.75  \n",
            "6015        NaN   4.00  \n",
            "6016        NaN   2.90  \n",
            "6017        NaN   2.65  \n",
            "6018        NaN   2.50  \n",
            "\n",
            "[6019 rows x 13 columns]\n"
          ]
        }
      ]
    },
    {
      "cell_type": "code",
      "source": [
        "print(df.groupby(\"year\").size())"
      ],
      "metadata": {
        "colab": {
          "base_uri": "https://localhost:8080/"
        },
        "id": "BTBRUhpoC6kD",
        "outputId": "5f4614ad-9b41-40ea-f4de-bcae048fea6d"
      },
      "execution_count": 229,
      "outputs": [
        {
          "output_type": "stream",
          "name": "stdout",
          "text": [
            "year\n",
            "1998      4\n",
            "1999      2\n",
            "2000      4\n",
            "2001      8\n",
            "2002     15\n",
            "2003     17\n",
            "2004     31\n",
            "2005     57\n",
            "2006     78\n",
            "2007    125\n",
            "2008    174\n",
            "2009    198\n",
            "2010    342\n",
            "2011    466\n",
            "2012    580\n",
            "2013    649\n",
            "2014    797\n",
            "2015    744\n",
            "2016    741\n",
            "2017    587\n",
            "2018    298\n",
            "2019    102\n",
            "dtype: int64\n"
          ]
        }
      ]
    },
    {
      "cell_type": "code",
      "source": [
        "df[\"transmission\"] = df[\"transmission\"].map({\"Manual\": 0, \"Automatic\": 1})\n",
        "print(df[\"transmission\"].head())"
      ],
      "metadata": {
        "colab": {
          "base_uri": "https://localhost:8080/"
        },
        "id": "bisMhiiKDGh4",
        "outputId": "e395b190-9ed9-415c-e75d-c3b5e6960c0a"
      },
      "execution_count": 230,
      "outputs": [
        {
          "output_type": "stream",
          "name": "stdout",
          "text": [
            "0    0\n",
            "1    0\n",
            "2    0\n",
            "3    0\n",
            "4    1\n",
            "Name: transmission, dtype: int64\n"
          ]
        }
      ]
    },
    {
      "cell_type": "code",
      "source": [
        "import pandas as pd\n",
        "\n",
        "\n",
        "url = 'https://storage.googleapis.com/esmartdata-courses-files/dash-course/data.csv'\n",
        "df = pd.read_csv(url, index_col=0)\n",
        "df.columns = [col.lower() for col in df.columns]"
      ],
      "metadata": {
        "id": "vSjfdlLPD96M"
      },
      "execution_count": 231,
      "outputs": []
    },
    {
      "cell_type": "code",
      "source": [
        "df.to_csv(\"cars.csv\", index=False)"
      ],
      "metadata": {
        "id": "SSuvJlIiE_cs"
      },
      "execution_count": 232,
      "outputs": []
    },
    {
      "cell_type": "code",
      "source": [
        "import pandas as pd\n",
        "\n",
        "\n",
        "url = 'https://storage.googleapis.com/esmartdata-courses-files/ds-bootcamp/london_bike.csv'\n",
        "\n",
        "df = pd.read_csv(url, index_col=0)\n",
        "print(df.describe())"
      ],
      "metadata": {
        "colab": {
          "base_uri": "https://localhost:8080/"
        },
        "id": "j7LqY7xWFIhd",
        "outputId": "8b02b7c8-3212-4ac1-dfe7-de97f5df47f0"
      },
      "execution_count": 233,
      "outputs": [
        {
          "output_type": "stream",
          "name": "stdout",
          "text": [
            "                cnt            t1            t2           hum    wind_speed  \\\n",
            "count  17414.000000  17414.000000  17414.000000  17414.000000  17414.000000   \n",
            "mean    1143.101642     12.468091     11.520836     72.324954     15.913063   \n",
            "std     1085.108068      5.571818      6.615145     14.313186      7.894570   \n",
            "min        0.000000     -1.500000     -6.000000     20.500000      0.000000   \n",
            "25%      257.000000      8.000000      6.000000     63.000000     10.000000   \n",
            "50%      844.000000     12.500000     12.500000     74.500000     15.000000   \n",
            "75%     1671.750000     16.000000     16.000000     83.000000     20.500000   \n",
            "max     7860.000000     34.000000     34.000000    100.000000     56.500000   \n",
            "\n",
            "       weather_code    is_holiday    is_weekend        season  \n",
            "count  17414.000000  17414.000000  17414.000000  17414.000000  \n",
            "mean       2.722752      0.022051      0.285403      1.492075  \n",
            "std        2.341163      0.146854      0.451619      1.118911  \n",
            "min        1.000000      0.000000      0.000000      0.000000  \n",
            "25%        1.000000      0.000000      0.000000      0.000000  \n",
            "50%        2.000000      0.000000      0.000000      1.000000  \n",
            "75%        3.000000      0.000000      1.000000      2.000000  \n",
            "max       26.000000      1.000000      1.000000      3.000000  \n"
          ]
        }
      ]
    },
    {
      "cell_type": "code",
      "source": [
        "print(df.info())"
      ],
      "metadata": {
        "colab": {
          "base_uri": "https://localhost:8080/"
        },
        "id": "JlmTaO3XFt-h",
        "outputId": "21bc7d1d-e259-441b-d66e-9c2f45016417"
      },
      "execution_count": 234,
      "outputs": [
        {
          "output_type": "stream",
          "name": "stdout",
          "text": [
            "<class 'pandas.core.frame.DataFrame'>\n",
            "Index: 17414 entries, 2015-01-04 00:00:00 to 2017-01-03 23:00:00\n",
            "Data columns (total 9 columns):\n",
            " #   Column        Non-Null Count  Dtype  \n",
            "---  ------        --------------  -----  \n",
            " 0   cnt           17414 non-null  int64  \n",
            " 1   t1            17414 non-null  float64\n",
            " 2   t2            17414 non-null  float64\n",
            " 3   hum           17414 non-null  float64\n",
            " 4   wind_speed    17414 non-null  float64\n",
            " 5   weather_code  17414 non-null  float64\n",
            " 6   is_holiday    17414 non-null  float64\n",
            " 7   is_weekend    17414 non-null  float64\n",
            " 8   season        17414 non-null  float64\n",
            "dtypes: float64(8), int64(1)\n",
            "memory usage: 1.3+ MB\n",
            "None\n"
          ]
        }
      ]
    },
    {
      "cell_type": "code",
      "source": [
        "import pandas as pd\n",
        "\n",
        "\n",
        "url = 'https://storage.googleapis.com/esmartdata-courses-files/ds-bootcamp/london_bike.csv'\n",
        "df = pd.read_csv(url, index_col=0)"
      ],
      "metadata": {
        "id": "J-WOeFA2GvMi"
      },
      "execution_count": 235,
      "outputs": []
    },
    {
      "cell_type": "code",
      "source": [
        "print(df.head())\n",
        "print(df.tail())"
      ],
      "metadata": {
        "colab": {
          "base_uri": "https://localhost:8080/"
        },
        "id": "SVB1FQFfG7lh",
        "outputId": "4678989d-a055-4fc6-b3b4-300a82cd0e98"
      },
      "execution_count": 236,
      "outputs": [
        {
          "output_type": "stream",
          "name": "stdout",
          "text": [
            "                     cnt   t1   t2    hum  wind_speed  weather_code  \\\n",
            "timestamp                                                             \n",
            "2015-01-04 00:00:00  182  3.0  2.0   93.0         6.0           3.0   \n",
            "2015-01-04 01:00:00  138  3.0  2.5   93.0         5.0           1.0   \n",
            "2015-01-04 02:00:00  134  2.5  2.5   96.5         0.0           1.0   \n",
            "2015-01-04 03:00:00   72  2.0  2.0  100.0         0.0           1.0   \n",
            "2015-01-04 04:00:00   47  2.0  0.0   93.0         6.5           1.0   \n",
            "\n",
            "                     is_holiday  is_weekend  season  \n",
            "timestamp                                            \n",
            "2015-01-04 00:00:00         0.0         1.0     3.0  \n",
            "2015-01-04 01:00:00         0.0         1.0     3.0  \n",
            "2015-01-04 02:00:00         0.0         1.0     3.0  \n",
            "2015-01-04 03:00:00         0.0         1.0     3.0  \n",
            "2015-01-04 04:00:00         0.0         1.0     3.0  \n",
            "                      cnt   t1   t2   hum  wind_speed  weather_code  \\\n",
            "timestamp                                                             \n",
            "2017-01-03 19:00:00  1042  5.0  1.0  81.0        19.0           3.0   \n",
            "2017-01-03 20:00:00   541  5.0  1.0  81.0        21.0           4.0   \n",
            "2017-01-03 21:00:00   337  5.5  1.5  78.5        24.0           4.0   \n",
            "2017-01-03 22:00:00   224  5.5  1.5  76.0        23.0           4.0   \n",
            "2017-01-03 23:00:00   139  5.0  1.0  76.0        22.0           2.0   \n",
            "\n",
            "                     is_holiday  is_weekend  season  \n",
            "timestamp                                            \n",
            "2017-01-03 19:00:00         0.0         0.0     3.0  \n",
            "2017-01-03 20:00:00         0.0         0.0     3.0  \n",
            "2017-01-03 21:00:00         0.0         0.0     3.0  \n",
            "2017-01-03 22:00:00         0.0         0.0     3.0  \n",
            "2017-01-03 23:00:00         0.0         0.0     3.0  \n"
          ]
        }
      ]
    },
    {
      "cell_type": "code",
      "source": [
        "df.info()"
      ],
      "metadata": {
        "colab": {
          "base_uri": "https://localhost:8080/"
        },
        "id": "SJw3YNSuIhjg",
        "outputId": "03123c14-f7cb-46ac-c9f1-aa696f5fd1e5"
      },
      "execution_count": 237,
      "outputs": [
        {
          "output_type": "stream",
          "name": "stdout",
          "text": [
            "<class 'pandas.core.frame.DataFrame'>\n",
            "Index: 17414 entries, 2015-01-04 00:00:00 to 2017-01-03 23:00:00\n",
            "Data columns (total 9 columns):\n",
            " #   Column        Non-Null Count  Dtype  \n",
            "---  ------        --------------  -----  \n",
            " 0   cnt           17414 non-null  int64  \n",
            " 1   t1            17414 non-null  float64\n",
            " 2   t2            17414 non-null  float64\n",
            " 3   hum           17414 non-null  float64\n",
            " 4   wind_speed    17414 non-null  float64\n",
            " 5   weather_code  17414 non-null  float64\n",
            " 6   is_holiday    17414 non-null  float64\n",
            " 7   is_weekend    17414 non-null  float64\n",
            " 8   season        17414 non-null  float64\n",
            "dtypes: float64(8), int64(1)\n",
            "memory usage: 1.3+ MB\n"
          ]
        }
      ]
    },
    {
      "cell_type": "code",
      "source": [
        "print(df)"
      ],
      "metadata": {
        "colab": {
          "base_uri": "https://localhost:8080/"
        },
        "id": "R-5H6ThOIv-X",
        "outputId": "3f64c658-fff1-4a52-fe53-37c2146f64df"
      },
      "execution_count": 238,
      "outputs": [
        {
          "output_type": "stream",
          "name": "stdout",
          "text": [
            "                      cnt   t1   t2    hum  wind_speed  weather_code  \\\n",
            "timestamp                                                              \n",
            "2015-01-04 00:00:00   182  3.0  2.0   93.0         6.0           3.0   \n",
            "2015-01-04 01:00:00   138  3.0  2.5   93.0         5.0           1.0   \n",
            "2015-01-04 02:00:00   134  2.5  2.5   96.5         0.0           1.0   \n",
            "2015-01-04 03:00:00    72  2.0  2.0  100.0         0.0           1.0   \n",
            "2015-01-04 04:00:00    47  2.0  0.0   93.0         6.5           1.0   \n",
            "...                   ...  ...  ...    ...         ...           ...   \n",
            "2017-01-03 19:00:00  1042  5.0  1.0   81.0        19.0           3.0   \n",
            "2017-01-03 20:00:00   541  5.0  1.0   81.0        21.0           4.0   \n",
            "2017-01-03 21:00:00   337  5.5  1.5   78.5        24.0           4.0   \n",
            "2017-01-03 22:00:00   224  5.5  1.5   76.0        23.0           4.0   \n",
            "2017-01-03 23:00:00   139  5.0  1.0   76.0        22.0           2.0   \n",
            "\n",
            "                     is_holiday  is_weekend  season  \n",
            "timestamp                                            \n",
            "2015-01-04 00:00:00         0.0         1.0     3.0  \n",
            "2015-01-04 01:00:00         0.0         1.0     3.0  \n",
            "2015-01-04 02:00:00         0.0         1.0     3.0  \n",
            "2015-01-04 03:00:00         0.0         1.0     3.0  \n",
            "2015-01-04 04:00:00         0.0         1.0     3.0  \n",
            "...                         ...         ...     ...  \n",
            "2017-01-03 19:00:00         0.0         0.0     3.0  \n",
            "2017-01-03 20:00:00         0.0         0.0     3.0  \n",
            "2017-01-03 21:00:00         0.0         0.0     3.0  \n",
            "2017-01-03 22:00:00         0.0         0.0     3.0  \n",
            "2017-01-03 23:00:00         0.0         0.0     3.0  \n",
            "\n",
            "[17414 rows x 9 columns]\n"
          ]
        }
      ]
    },
    {
      "cell_type": "code",
      "source": [
        "df_weekend = df[df[\"is_weekend\"] == 1.0].copy()\n",
        "print(df_weekend)"
      ],
      "metadata": {
        "colab": {
          "base_uri": "https://localhost:8080/"
        },
        "id": "HMyfIp__ACbp",
        "outputId": "50a5e4ab-b970-4ee8-d76e-0ad226f17728"
      },
      "execution_count": 239,
      "outputs": [
        {
          "output_type": "stream",
          "name": "stdout",
          "text": [
            "                     cnt   t1   t2    hum  wind_speed  weather_code  \\\n",
            "timestamp                                                             \n",
            "2015-01-04 00:00:00  182  3.0  2.0   93.0         6.0           3.0   \n",
            "2015-01-04 01:00:00  138  3.0  2.5   93.0         5.0           1.0   \n",
            "2015-01-04 02:00:00  134  2.5  2.5   96.5         0.0           1.0   \n",
            "2015-01-04 03:00:00   72  2.0  2.0  100.0         0.0           1.0   \n",
            "2015-01-04 04:00:00   47  2.0  0.0   93.0         6.5           1.0   \n",
            "...                  ...  ...  ...    ...         ...           ...   \n",
            "2017-01-01 19:00:00  136  5.0  2.0   93.0        15.0           7.0   \n",
            "2017-01-01 20:00:00  116  5.0  2.0   93.0        14.0           7.0   \n",
            "2017-01-01 21:00:00  110  5.0  2.0   93.0        14.0          26.0   \n",
            "2017-01-01 22:00:00  119  5.0  2.0   93.0        12.0           3.0   \n",
            "2017-01-01 23:00:00   89  5.0  2.5   90.0        10.0           1.0   \n",
            "\n",
            "                     is_holiday  is_weekend  season  \n",
            "timestamp                                            \n",
            "2015-01-04 00:00:00         0.0         1.0     3.0  \n",
            "2015-01-04 01:00:00         0.0         1.0     3.0  \n",
            "2015-01-04 02:00:00         0.0         1.0     3.0  \n",
            "2015-01-04 03:00:00         0.0         1.0     3.0  \n",
            "2015-01-04 04:00:00         0.0         1.0     3.0  \n",
            "...                         ...         ...     ...  \n",
            "2017-01-01 19:00:00         0.0         1.0     3.0  \n",
            "2017-01-01 20:00:00         0.0         1.0     3.0  \n",
            "2017-01-01 21:00:00         0.0         1.0     3.0  \n",
            "2017-01-01 22:00:00         0.0         1.0     3.0  \n",
            "2017-01-01 23:00:00         0.0         1.0     3.0  \n",
            "\n",
            "[4970 rows x 9 columns]\n"
          ]
        }
      ]
    },
    {
      "cell_type": "code",
      "source": [
        "df_weekend.to_csv(\"weekend.csv\", index=False)"
      ],
      "metadata": {
        "id": "9fk2HyRFA6kh"
      },
      "execution_count": 240,
      "outputs": []
    },
    {
      "cell_type": "code",
      "source": [
        "import pandas as pd\n",
        "\n",
        "\n",
        "url = 'https://storage.googleapis.com/esmartdata-courses-files/ml-course/insurance.csv'"
      ],
      "metadata": {
        "id": "XUi3jS75BSZt"
      },
      "execution_count": 241,
      "outputs": []
    },
    {
      "cell_type": "code",
      "source": [
        "df = pd.read_csv(url)\n",
        "print(df.head())"
      ],
      "metadata": {
        "colab": {
          "base_uri": "https://localhost:8080/"
        },
        "id": "6AQdm5AKEa4E",
        "outputId": "9f89dc8f-f5f3-4c12-daa6-24f9d2a55598"
      },
      "execution_count": 242,
      "outputs": [
        {
          "output_type": "stream",
          "name": "stdout",
          "text": [
            "   age     sex     bmi  children smoker     region      charges\n",
            "0   19  female  27.900         0    yes  southwest  16884.92400\n",
            "1   18    male  33.770         1     no  southeast   1725.55230\n",
            "2   28    male  33.000         3     no  southeast   4449.46200\n",
            "3   33    male  22.705         0     no  northwest  21984.47061\n",
            "4   32    male  28.880         0     no  northwest   3866.85520\n"
          ]
        }
      ]
    },
    {
      "cell_type": "code",
      "source": [
        "duplicates = df[df.duplicated()]\n",
        "print(duplicates)"
      ],
      "metadata": {
        "colab": {
          "base_uri": "https://localhost:8080/"
        },
        "id": "d4D4QqsAFjf2",
        "outputId": "3b94382e-5132-4fcb-f2c6-943f7b349759"
      },
      "execution_count": 243,
      "outputs": [
        {
          "output_type": "stream",
          "name": "stdout",
          "text": [
            "     age   sex    bmi  children smoker     region    charges\n",
            "581   19  male  30.59         0     no  northwest  1639.5631\n"
          ]
        }
      ]
    },
    {
      "cell_type": "code",
      "source": [
        "df = df.drop_duplicates()\n",
        "print(df.info())"
      ],
      "metadata": {
        "colab": {
          "base_uri": "https://localhost:8080/"
        },
        "id": "Dp-ldDQVFues",
        "outputId": "bef79aeb-06be-4d79-ce00-7c7c81249538"
      },
      "execution_count": 244,
      "outputs": [
        {
          "output_type": "stream",
          "name": "stdout",
          "text": [
            "<class 'pandas.core.frame.DataFrame'>\n",
            "Index: 1337 entries, 0 to 1337\n",
            "Data columns (total 7 columns):\n",
            " #   Column    Non-Null Count  Dtype  \n",
            "---  ------    --------------  -----  \n",
            " 0   age       1337 non-null   int64  \n",
            " 1   sex       1337 non-null   object \n",
            " 2   bmi       1337 non-null   float64\n",
            " 3   children  1337 non-null   int64  \n",
            " 4   smoker    1337 non-null   object \n",
            " 5   region    1337 non-null   object \n",
            " 6   charges   1337 non-null   float64\n",
            "dtypes: float64(2), int64(2), object(3)\n",
            "memory usage: 83.6+ KB\n",
            "None\n"
          ]
        }
      ]
    },
    {
      "cell_type": "code",
      "source": [
        "import pandas as pd\n",
        "\n",
        "\n",
        "url = 'https://storage.googleapis.com/esmartdata-courses-files/ml-course/insurance.csv'\n",
        "df = pd.read_csv(url)"
      ],
      "metadata": {
        "id": "gF9KzdOhGEfx"
      },
      "execution_count": 245,
      "outputs": []
    },
    {
      "cell_type": "code",
      "source": [
        "print(df.select_dtypes(\"object\"))"
      ],
      "metadata": {
        "colab": {
          "base_uri": "https://localhost:8080/"
        },
        "id": "gfo614D4DlPW",
        "outputId": "351b038f-a189-4e2d-81f7-1c5623c050c4"
      },
      "execution_count": 246,
      "outputs": [
        {
          "output_type": "stream",
          "name": "stdout",
          "text": [
            "         sex smoker     region\n",
            "0     female    yes  southwest\n",
            "1       male     no  southeast\n",
            "2       male     no  southeast\n",
            "3       male     no  northwest\n",
            "4       male     no  northwest\n",
            "...      ...    ...        ...\n",
            "1333    male     no  northwest\n",
            "1334  female     no  northeast\n",
            "1335  female     no  southeast\n",
            "1336  female     no  southwest\n",
            "1337  female    yes  northwest\n",
            "\n",
            "[1338 rows x 3 columns]\n"
          ]
        }
      ]
    },
    {
      "cell_type": "code",
      "source": [
        "df[[\"sex\", \"smoker\", \"region\"]] = df[[\"sex\", \"smoker\", \"region\"]].astype(\"category\")\n",
        "df.info()"
      ],
      "metadata": {
        "colab": {
          "base_uri": "https://localhost:8080/"
        },
        "id": "nLhGzvETDsbr",
        "outputId": "c23d7e13-1158-4944-fd05-7b865cd7239d"
      },
      "execution_count": 247,
      "outputs": [
        {
          "output_type": "stream",
          "name": "stdout",
          "text": [
            "<class 'pandas.core.frame.DataFrame'>\n",
            "RangeIndex: 1338 entries, 0 to 1337\n",
            "Data columns (total 7 columns):\n",
            " #   Column    Non-Null Count  Dtype   \n",
            "---  ------    --------------  -----   \n",
            " 0   age       1338 non-null   int64   \n",
            " 1   sex       1338 non-null   category\n",
            " 2   bmi       1338 non-null   float64 \n",
            " 3   children  1338 non-null   int64   \n",
            " 4   smoker    1338 non-null   category\n",
            " 5   region    1338 non-null   category\n",
            " 6   charges   1338 non-null   float64 \n",
            "dtypes: category(3), float64(2), int64(2)\n",
            "memory usage: 46.3 KB\n"
          ]
        }
      ]
    },
    {
      "cell_type": "code",
      "source": [
        "numeric_cols = list(df.select_dtypes(include=[\"int64\", \"float64\"]).columns)\n",
        "print(numeric_cols)"
      ],
      "metadata": {
        "colab": {
          "base_uri": "https://localhost:8080/"
        },
        "id": "nge1TPNbEU_Y",
        "outputId": "d4e9624c-77c9-4a83-8946-152295c8edc2"
      },
      "execution_count": 248,
      "outputs": [
        {
          "output_type": "stream",
          "name": "stdout",
          "text": [
            "['age', 'bmi', 'children', 'charges']\n"
          ]
        }
      ]
    },
    {
      "cell_type": "code",
      "source": [
        "import pandas as pd\n",
        "\n",
        "\n",
        "url = 'https://storage.googleapis.com/esmartdata-courses-files/ml-course/insurance.csv'\n",
        "df = pd.read_csv(url)\n",
        "for col in list(df.select_dtypes(include=['object']).columns):\n",
        "    df[col] = df[col].astype('category')\n",
        "\n",
        "print(df)"
      ],
      "metadata": {
        "colab": {
          "base_uri": "https://localhost:8080/"
        },
        "id": "RVugg75sFUJi",
        "outputId": "9bae75b1-3d5f-4765-ed2c-2cf42b4dc39d"
      },
      "execution_count": 249,
      "outputs": [
        {
          "output_type": "stream",
          "name": "stdout",
          "text": [
            "      age     sex     bmi  children smoker     region      charges\n",
            "0      19  female  27.900         0    yes  southwest  16884.92400\n",
            "1      18    male  33.770         1     no  southeast   1725.55230\n",
            "2      28    male  33.000         3     no  southeast   4449.46200\n",
            "3      33    male  22.705         0     no  northwest  21984.47061\n",
            "4      32    male  28.880         0     no  northwest   3866.85520\n",
            "...   ...     ...     ...       ...    ...        ...          ...\n",
            "1333   50    male  30.970         3     no  northwest  10600.54830\n",
            "1334   18  female  31.920         0     no  northeast   2205.98080\n",
            "1335   18  female  36.850         0     no  southeast   1629.83350\n",
            "1336   21  female  25.800         0     no  southwest   2007.94500\n",
            "1337   61  female  29.070         0    yes  northwest  29141.36030\n",
            "\n",
            "[1338 rows x 7 columns]\n"
          ]
        }
      ]
    },
    {
      "cell_type": "code",
      "source": [
        "df_cat = df.select_dtypes(\"category\").copy\n",
        "print(df_cat)"
      ],
      "metadata": {
        "colab": {
          "base_uri": "https://localhost:8080/"
        },
        "id": "yzRgRBJOF24d",
        "outputId": "5c5bd46d-c3cc-4ad6-ffc4-cb611a7607ce"
      },
      "execution_count": 250,
      "outputs": [
        {
          "output_type": "stream",
          "name": "stdout",
          "text": [
            "<bound method NDFrame.copy of          sex smoker     region\n",
            "0     female    yes  southwest\n",
            "1       male     no  southeast\n",
            "2       male     no  southeast\n",
            "3       male     no  northwest\n",
            "4       male     no  northwest\n",
            "...      ...    ...        ...\n",
            "1333    male     no  northwest\n",
            "1334  female     no  northeast\n",
            "1335  female     no  southeast\n",
            "1336  female     no  southwest\n",
            "1337  female    yes  northwest\n",
            "\n",
            "[1338 rows x 3 columns]>\n"
          ]
        }
      ]
    },
    {
      "cell_type": "code",
      "source": [
        "df_num = df.select_dtypes(include=[\"int64\", \"float64\"]).copy()\n",
        "print(df_num)"
      ],
      "metadata": {
        "colab": {
          "base_uri": "https://localhost:8080/"
        },
        "id": "lwf0OAyGGGSY",
        "outputId": "c3e5e3c6-f6d0-4f78-d570-a15895d04167"
      },
      "execution_count": 251,
      "outputs": [
        {
          "output_type": "stream",
          "name": "stdout",
          "text": [
            "      age     bmi  children      charges\n",
            "0      19  27.900         0  16884.92400\n",
            "1      18  33.770         1   1725.55230\n",
            "2      28  33.000         3   4449.46200\n",
            "3      33  22.705         0  21984.47061\n",
            "4      32  28.880         0   3866.85520\n",
            "...   ...     ...       ...          ...\n",
            "1333   50  30.970         3  10600.54830\n",
            "1334   18  31.920         0   2205.98080\n",
            "1335   18  36.850         0   1629.83350\n",
            "1336   21  25.800         0   2007.94500\n",
            "1337   61  29.070         0  29141.36030\n",
            "\n",
            "[1338 rows x 4 columns]\n"
          ]
        }
      ]
    },
    {
      "cell_type": "code",
      "source": [
        "import pandas as pd\n",
        "\n",
        "\n",
        "url = 'https://storage.googleapis.com/esmartdata-courses-files/ml-course/insurance.csv'\n",
        "df = pd.read_csv(url)\n",
        "for col in list(df.select_dtypes(include=['object']).columns):\n",
        "    df[col] = df[col].astype('category')\n",
        "df_cat = df.select_dtypes(include=['category']).copy()"
      ],
      "metadata": {
        "id": "rptpdhPQHX02"
      },
      "execution_count": 252,
      "outputs": []
    },
    {
      "cell_type": "code",
      "source": [
        "df_cat.describe()"
      ],
      "metadata": {
        "colab": {
          "base_uri": "https://localhost:8080/",
          "height": 175
        },
        "id": "zS_MJnGjHlql",
        "outputId": "b4b8ed92-c0d0-4a74-c691-3176f92b8cfd"
      },
      "execution_count": 253,
      "outputs": [
        {
          "output_type": "execute_result",
          "data": {
            "text/plain": [
              "         sex smoker     region\n",
              "count   1338   1338       1338\n",
              "unique     2      2          4\n",
              "top     male     no  southeast\n",
              "freq     676   1064        364"
            ],
            "text/html": [
              "\n",
              "  <div id=\"df-24000da0-b446-4438-8490-9ad90bf54d75\" class=\"colab-df-container\">\n",
              "    <div>\n",
              "<style scoped>\n",
              "    .dataframe tbody tr th:only-of-type {\n",
              "        vertical-align: middle;\n",
              "    }\n",
              "\n",
              "    .dataframe tbody tr th {\n",
              "        vertical-align: top;\n",
              "    }\n",
              "\n",
              "    .dataframe thead th {\n",
              "        text-align: right;\n",
              "    }\n",
              "</style>\n",
              "<table border=\"1\" class=\"dataframe\">\n",
              "  <thead>\n",
              "    <tr style=\"text-align: right;\">\n",
              "      <th></th>\n",
              "      <th>sex</th>\n",
              "      <th>smoker</th>\n",
              "      <th>region</th>\n",
              "    </tr>\n",
              "  </thead>\n",
              "  <tbody>\n",
              "    <tr>\n",
              "      <th>count</th>\n",
              "      <td>1338</td>\n",
              "      <td>1338</td>\n",
              "      <td>1338</td>\n",
              "    </tr>\n",
              "    <tr>\n",
              "      <th>unique</th>\n",
              "      <td>2</td>\n",
              "      <td>2</td>\n",
              "      <td>4</td>\n",
              "    </tr>\n",
              "    <tr>\n",
              "      <th>top</th>\n",
              "      <td>male</td>\n",
              "      <td>no</td>\n",
              "      <td>southeast</td>\n",
              "    </tr>\n",
              "    <tr>\n",
              "      <th>freq</th>\n",
              "      <td>676</td>\n",
              "      <td>1064</td>\n",
              "      <td>364</td>\n",
              "    </tr>\n",
              "  </tbody>\n",
              "</table>\n",
              "</div>\n",
              "    <div class=\"colab-df-buttons\">\n",
              "\n",
              "  <div class=\"colab-df-container\">\n",
              "    <button class=\"colab-df-convert\" onclick=\"convertToInteractive('df-24000da0-b446-4438-8490-9ad90bf54d75')\"\n",
              "            title=\"Convert this dataframe to an interactive table.\"\n",
              "            style=\"display:none;\">\n",
              "\n",
              "  <svg xmlns=\"http://www.w3.org/2000/svg\" height=\"24px\" viewBox=\"0 -960 960 960\">\n",
              "    <path d=\"M120-120v-720h720v720H120Zm60-500h600v-160H180v160Zm220 220h160v-160H400v160Zm0 220h160v-160H400v160ZM180-400h160v-160H180v160Zm440 0h160v-160H620v160ZM180-180h160v-160H180v160Zm440 0h160v-160H620v160Z\"/>\n",
              "  </svg>\n",
              "    </button>\n",
              "\n",
              "  <style>\n",
              "    .colab-df-container {\n",
              "      display:flex;\n",
              "      gap: 12px;\n",
              "    }\n",
              "\n",
              "    .colab-df-convert {\n",
              "      background-color: #E8F0FE;\n",
              "      border: none;\n",
              "      border-radius: 50%;\n",
              "      cursor: pointer;\n",
              "      display: none;\n",
              "      fill: #1967D2;\n",
              "      height: 32px;\n",
              "      padding: 0 0 0 0;\n",
              "      width: 32px;\n",
              "    }\n",
              "\n",
              "    .colab-df-convert:hover {\n",
              "      background-color: #E2EBFA;\n",
              "      box-shadow: 0px 1px 2px rgba(60, 64, 67, 0.3), 0px 1px 3px 1px rgba(60, 64, 67, 0.15);\n",
              "      fill: #174EA6;\n",
              "    }\n",
              "\n",
              "    .colab-df-buttons div {\n",
              "      margin-bottom: 4px;\n",
              "    }\n",
              "\n",
              "    [theme=dark] .colab-df-convert {\n",
              "      background-color: #3B4455;\n",
              "      fill: #D2E3FC;\n",
              "    }\n",
              "\n",
              "    [theme=dark] .colab-df-convert:hover {\n",
              "      background-color: #434B5C;\n",
              "      box-shadow: 0px 1px 3px 1px rgba(0, 0, 0, 0.15);\n",
              "      filter: drop-shadow(0px 1px 2px rgba(0, 0, 0, 0.3));\n",
              "      fill: #FFFFFF;\n",
              "    }\n",
              "  </style>\n",
              "\n",
              "    <script>\n",
              "      const buttonEl =\n",
              "        document.querySelector('#df-24000da0-b446-4438-8490-9ad90bf54d75 button.colab-df-convert');\n",
              "      buttonEl.style.display =\n",
              "        google.colab.kernel.accessAllowed ? 'block' : 'none';\n",
              "\n",
              "      async function convertToInteractive(key) {\n",
              "        const element = document.querySelector('#df-24000da0-b446-4438-8490-9ad90bf54d75');\n",
              "        const dataTable =\n",
              "          await google.colab.kernel.invokeFunction('convertToInteractive',\n",
              "                                                    [key], {});\n",
              "        if (!dataTable) return;\n",
              "\n",
              "        const docLinkHtml = 'Like what you see? Visit the ' +\n",
              "          '<a target=\"_blank\" href=https://colab.research.google.com/notebooks/data_table.ipynb>data table notebook</a>'\n",
              "          + ' to learn more about interactive tables.';\n",
              "        element.innerHTML = '';\n",
              "        dataTable['output_type'] = 'display_data';\n",
              "        await google.colab.output.renderOutput(dataTable, element);\n",
              "        const docLink = document.createElement('div');\n",
              "        docLink.innerHTML = docLinkHtml;\n",
              "        element.appendChild(docLink);\n",
              "      }\n",
              "    </script>\n",
              "  </div>\n",
              "\n",
              "\n",
              "    <div id=\"df-173c05ac-cc63-4eef-8902-5654e2d98325\">\n",
              "      <button class=\"colab-df-quickchart\" onclick=\"quickchart('df-173c05ac-cc63-4eef-8902-5654e2d98325')\"\n",
              "                title=\"Suggest charts\"\n",
              "                style=\"display:none;\">\n",
              "\n",
              "<svg xmlns=\"http://www.w3.org/2000/svg\" height=\"24px\"viewBox=\"0 0 24 24\"\n",
              "     width=\"24px\">\n",
              "    <g>\n",
              "        <path d=\"M19 3H5c-1.1 0-2 .9-2 2v14c0 1.1.9 2 2 2h14c1.1 0 2-.9 2-2V5c0-1.1-.9-2-2-2zM9 17H7v-7h2v7zm4 0h-2V7h2v10zm4 0h-2v-4h2v4z\"/>\n",
              "    </g>\n",
              "</svg>\n",
              "      </button>\n",
              "\n",
              "<style>\n",
              "  .colab-df-quickchart {\n",
              "      --bg-color: #E8F0FE;\n",
              "      --fill-color: #1967D2;\n",
              "      --hover-bg-color: #E2EBFA;\n",
              "      --hover-fill-color: #174EA6;\n",
              "      --disabled-fill-color: #AAA;\n",
              "      --disabled-bg-color: #DDD;\n",
              "  }\n",
              "\n",
              "  [theme=dark] .colab-df-quickchart {\n",
              "      --bg-color: #3B4455;\n",
              "      --fill-color: #D2E3FC;\n",
              "      --hover-bg-color: #434B5C;\n",
              "      --hover-fill-color: #FFFFFF;\n",
              "      --disabled-bg-color: #3B4455;\n",
              "      --disabled-fill-color: #666;\n",
              "  }\n",
              "\n",
              "  .colab-df-quickchart {\n",
              "    background-color: var(--bg-color);\n",
              "    border: none;\n",
              "    border-radius: 50%;\n",
              "    cursor: pointer;\n",
              "    display: none;\n",
              "    fill: var(--fill-color);\n",
              "    height: 32px;\n",
              "    padding: 0;\n",
              "    width: 32px;\n",
              "  }\n",
              "\n",
              "  .colab-df-quickchart:hover {\n",
              "    background-color: var(--hover-bg-color);\n",
              "    box-shadow: 0 1px 2px rgba(60, 64, 67, 0.3), 0 1px 3px 1px rgba(60, 64, 67, 0.15);\n",
              "    fill: var(--button-hover-fill-color);\n",
              "  }\n",
              "\n",
              "  .colab-df-quickchart-complete:disabled,\n",
              "  .colab-df-quickchart-complete:disabled:hover {\n",
              "    background-color: var(--disabled-bg-color);\n",
              "    fill: var(--disabled-fill-color);\n",
              "    box-shadow: none;\n",
              "  }\n",
              "\n",
              "  .colab-df-spinner {\n",
              "    border: 2px solid var(--fill-color);\n",
              "    border-color: transparent;\n",
              "    border-bottom-color: var(--fill-color);\n",
              "    animation:\n",
              "      spin 1s steps(1) infinite;\n",
              "  }\n",
              "\n",
              "  @keyframes spin {\n",
              "    0% {\n",
              "      border-color: transparent;\n",
              "      border-bottom-color: var(--fill-color);\n",
              "      border-left-color: var(--fill-color);\n",
              "    }\n",
              "    20% {\n",
              "      border-color: transparent;\n",
              "      border-left-color: var(--fill-color);\n",
              "      border-top-color: var(--fill-color);\n",
              "    }\n",
              "    30% {\n",
              "      border-color: transparent;\n",
              "      border-left-color: var(--fill-color);\n",
              "      border-top-color: var(--fill-color);\n",
              "      border-right-color: var(--fill-color);\n",
              "    }\n",
              "    40% {\n",
              "      border-color: transparent;\n",
              "      border-right-color: var(--fill-color);\n",
              "      border-top-color: var(--fill-color);\n",
              "    }\n",
              "    60% {\n",
              "      border-color: transparent;\n",
              "      border-right-color: var(--fill-color);\n",
              "    }\n",
              "    80% {\n",
              "      border-color: transparent;\n",
              "      border-right-color: var(--fill-color);\n",
              "      border-bottom-color: var(--fill-color);\n",
              "    }\n",
              "    90% {\n",
              "      border-color: transparent;\n",
              "      border-bottom-color: var(--fill-color);\n",
              "    }\n",
              "  }\n",
              "</style>\n",
              "\n",
              "      <script>\n",
              "        async function quickchart(key) {\n",
              "          const quickchartButtonEl =\n",
              "            document.querySelector('#' + key + ' button');\n",
              "          quickchartButtonEl.disabled = true;  // To prevent multiple clicks.\n",
              "          quickchartButtonEl.classList.add('colab-df-spinner');\n",
              "          try {\n",
              "            const charts = await google.colab.kernel.invokeFunction(\n",
              "                'suggestCharts', [key], {});\n",
              "          } catch (error) {\n",
              "            console.error('Error during call to suggestCharts:', error);\n",
              "          }\n",
              "          quickchartButtonEl.classList.remove('colab-df-spinner');\n",
              "          quickchartButtonEl.classList.add('colab-df-quickchart-complete');\n",
              "        }\n",
              "        (() => {\n",
              "          let quickchartButtonEl =\n",
              "            document.querySelector('#df-173c05ac-cc63-4eef-8902-5654e2d98325 button');\n",
              "          quickchartButtonEl.style.display =\n",
              "            google.colab.kernel.accessAllowed ? 'block' : 'none';\n",
              "        })();\n",
              "      </script>\n",
              "    </div>\n",
              "\n",
              "    </div>\n",
              "  </div>\n"
            ],
            "application/vnd.google.colaboratory.intrinsic+json": {
              "type": "dataframe",
              "summary": "{\n  \"name\": \"df_cat\",\n  \"rows\": 4,\n  \"fields\": [\n    {\n      \"column\": \"sex\",\n      \"properties\": {\n        \"dtype\": \"string\",\n        \"num_unique_values\": 4,\n        \"samples\": [\n          2,\n          \"676\",\n          \"1338\"\n        ],\n        \"semantic_type\": \"\",\n        \"description\": \"\"\n      }\n    },\n    {\n      \"column\": \"smoker\",\n      \"properties\": {\n        \"dtype\": \"string\",\n        \"num_unique_values\": 4,\n        \"samples\": [\n          2,\n          \"1064\",\n          \"1338\"\n        ],\n        \"semantic_type\": \"\",\n        \"description\": \"\"\n      }\n    },\n    {\n      \"column\": \"region\",\n      \"properties\": {\n        \"dtype\": \"string\",\n        \"num_unique_values\": 4,\n        \"samples\": [\n          4,\n          \"364\",\n          \"1338\"\n        ],\n        \"semantic_type\": \"\",\n        \"description\": \"\"\n      }\n    }\n  ]\n}"
            }
          },
          "metadata": {},
          "execution_count": 253
        }
      ]
    },
    {
      "cell_type": "code",
      "source": [
        "import pandas as pd\n",
        "\n",
        "\n",
        "url = 'https://storage.googleapis.com/esmartdata-courses-files/ml-course/insurance.csv'\n",
        "df = pd.read_csv(url)\n",
        "for col in list(df.select_dtypes(include=['object']).columns):\n",
        "    df[col] = df[col].astype('category')\n",
        "df_num = df.select_dtypes(include=['float', 'int']).copy()"
      ],
      "metadata": {
        "id": "geUk00B0HnaO"
      },
      "execution_count": 254,
      "outputs": []
    },
    {
      "cell_type": "code",
      "source": [
        "print(df_num.describe())"
      ],
      "metadata": {
        "colab": {
          "base_uri": "https://localhost:8080/"
        },
        "id": "q1fR2C8lIEjQ",
        "outputId": "9ae79de7-0ec3-4998-a8d7-776b011d0300"
      },
      "execution_count": 255,
      "outputs": [
        {
          "output_type": "stream",
          "name": "stdout",
          "text": [
            "               age          bmi     children       charges\n",
            "count  1338.000000  1338.000000  1338.000000   1338.000000\n",
            "mean     39.207025    30.663397     1.094918  13270.422265\n",
            "std      14.049960     6.098187     1.205493  12110.011237\n",
            "min      18.000000    15.960000     0.000000   1121.873900\n",
            "25%      27.000000    26.296250     0.000000   4740.287150\n",
            "50%      39.000000    30.400000     1.000000   9382.033000\n",
            "75%      51.000000    34.693750     2.000000  16639.912515\n",
            "max      64.000000    53.130000     5.000000  63770.428010\n"
          ]
        }
      ]
    },
    {
      "cell_type": "code",
      "source": [
        "import pandas as pd\n",
        "\n",
        "\n",
        "url = 'https://storage.googleapis.com/esmartdata-courses-files/ml-course/insurance.csv'\n",
        "df = pd.read_csv(url)"
      ],
      "metadata": {
        "id": "8WJk5tP0IGy5"
      },
      "execution_count": 256,
      "outputs": []
    },
    {
      "cell_type": "code",
      "source": [
        "print(df.head())"
      ],
      "metadata": {
        "colab": {
          "base_uri": "https://localhost:8080/"
        },
        "id": "nuP2NWj8IUEZ",
        "outputId": "0d00c1e9-5981-476c-f94e-0cae2dec9f33"
      },
      "execution_count": 257,
      "outputs": [
        {
          "output_type": "stream",
          "name": "stdout",
          "text": [
            "   age     sex     bmi  children smoker     region      charges\n",
            "0   19  female  27.900         0    yes  southwest  16884.92400\n",
            "1   18    male  33.770         1     no  southeast   1725.55230\n",
            "2   28    male  33.000         3     no  southeast   4449.46200\n",
            "3   33    male  22.705         0     no  northwest  21984.47061\n",
            "4   32    male  28.880         0     no  northwest   3866.85520\n"
          ]
        }
      ]
    },
    {
      "cell_type": "code",
      "source": [
        "stats = df.describe().T[[\"mean\",\"std\"]]\n",
        "print(stats)"
      ],
      "metadata": {
        "colab": {
          "base_uri": "https://localhost:8080/"
        },
        "id": "ubdkjEW2IsP2",
        "outputId": "60c54886-7fcb-4d43-d56f-4851ee8122d8"
      },
      "execution_count": 258,
      "outputs": [
        {
          "output_type": "stream",
          "name": "stdout",
          "text": [
            "                  mean           std\n",
            "age          39.207025     14.049960\n",
            "bmi          30.663397      6.098187\n",
            "children      1.094918      1.205493\n",
            "charges   13270.422265  12110.011237\n"
          ]
        }
      ]
    },
    {
      "cell_type": "code",
      "source": [
        "import pandas as pd\n",
        "\n",
        "\n",
        "url = 'https://storage.googleapis.com/esmartdata-courses-files/ml-course/insurance.csv'\n",
        "df = pd.read_csv(url)\n"
      ],
      "metadata": {
        "id": "LPXLWlBZJagy"
      },
      "execution_count": 259,
      "outputs": []
    },
    {
      "cell_type": "code",
      "source": [
        "print(df.isnull().sum())"
      ],
      "metadata": {
        "colab": {
          "base_uri": "https://localhost:8080/"
        },
        "id": "o5CxpL01Jl5v",
        "outputId": "bdbaf4e9-5c24-47bd-8bea-b9c51b902dee"
      },
      "execution_count": 260,
      "outputs": [
        {
          "output_type": "stream",
          "name": "stdout",
          "text": [
            "age         0\n",
            "sex         0\n",
            "bmi         0\n",
            "children    0\n",
            "smoker      0\n",
            "region      0\n",
            "charges     0\n",
            "dtype: int64\n"
          ]
        }
      ]
    },
    {
      "cell_type": "code",
      "source": [
        "import pandas as pd\n",
        "\n",
        "\n",
        "\n",
        "url = 'https://storage.googleapis.com/esmartdata-courses-files/ml-course/insurance.csv'\n",
        "df = pd.read_csv(url)\n",
        "for col in list(df.select_dtypes(include=['object']).columns):\n",
        "    df[col] = df[col].astype('category')"
      ],
      "metadata": {
        "id": "MCNWBx0bKF2e"
      },
      "execution_count": 261,
      "outputs": []
    },
    {
      "cell_type": "code",
      "source": [
        "print(df.head())"
      ],
      "metadata": {
        "colab": {
          "base_uri": "https://localhost:8080/"
        },
        "id": "94qq2BTfKZr_",
        "outputId": "d6afa39b-941b-43a6-c93f-b17110b11ea6"
      },
      "execution_count": 262,
      "outputs": [
        {
          "output_type": "stream",
          "name": "stdout",
          "text": [
            "   age     sex     bmi  children smoker     region      charges\n",
            "0   19  female  27.900         0    yes  southwest  16884.92400\n",
            "1   18    male  33.770         1     no  southeast   1725.55230\n",
            "2   28    male  33.000         3     no  southeast   4449.46200\n",
            "3   33    male  22.705         0     no  northwest  21984.47061\n",
            "4   32    male  28.880         0     no  northwest   3866.85520\n"
          ]
        }
      ]
    },
    {
      "cell_type": "code",
      "source": [
        "df_dummies = pd.get_dummies(df, drop_first=True)\n",
        "print(df_dummies.head())"
      ],
      "metadata": {
        "colab": {
          "base_uri": "https://localhost:8080/"
        },
        "id": "noxUAvkvKbZz",
        "outputId": "033fed04-358d-43f0-b64b-0373123ece74"
      },
      "execution_count": 263,
      "outputs": [
        {
          "output_type": "stream",
          "name": "stdout",
          "text": [
            "   age     bmi  children      charges  sex_male  smoker_yes  region_northwest  \\\n",
            "0   19  27.900         0  16884.92400     False        True             False   \n",
            "1   18  33.770         1   1725.55230      True       False             False   \n",
            "2   28  33.000         3   4449.46200      True       False             False   \n",
            "3   33  22.705         0  21984.47061      True       False              True   \n",
            "4   32  28.880         0   3866.85520      True       False              True   \n",
            "\n",
            "   region_southeast  region_southwest  \n",
            "0             False              True  \n",
            "1              True             False  \n",
            "2              True             False  \n",
            "3             False             False  \n",
            "4             False             False  \n"
          ]
        }
      ]
    },
    {
      "cell_type": "code",
      "source": [
        "corr = df_dummies.corr()\n",
        "print(corr)"
      ],
      "metadata": {
        "colab": {
          "base_uri": "https://localhost:8080/"
        },
        "id": "rV7BjCFcKra1",
        "outputId": "161c6106-eba9-4c4c-de3f-3e3b8d0c2d1f"
      },
      "execution_count": 264,
      "outputs": [
        {
          "output_type": "stream",
          "name": "stdout",
          "text": [
            "                       age       bmi  children   charges  sex_male  \\\n",
            "age               1.000000  0.109272  0.042469  0.299008 -0.020856   \n",
            "bmi               0.109272  1.000000  0.012759  0.198341  0.046371   \n",
            "children          0.042469  0.012759  1.000000  0.067998  0.017163   \n",
            "charges           0.299008  0.198341  0.067998  1.000000  0.057292   \n",
            "sex_male         -0.020856  0.046371  0.017163  0.057292  1.000000   \n",
            "smoker_yes       -0.025019  0.003750  0.007673  0.787251  0.076185   \n",
            "region_northwest -0.000407 -0.135996  0.024806 -0.039905 -0.011156   \n",
            "region_southeast -0.011642  0.270025 -0.023066  0.073982  0.017117   \n",
            "region_southwest  0.010016 -0.006205  0.021914 -0.043210 -0.004184   \n",
            "\n",
            "                  smoker_yes  region_northwest  region_southeast  \\\n",
            "age                -0.025019         -0.000407         -0.011642   \n",
            "bmi                 0.003750         -0.135996          0.270025   \n",
            "children            0.007673          0.024806         -0.023066   \n",
            "charges             0.787251         -0.039905          0.073982   \n",
            "sex_male            0.076185         -0.011156          0.017117   \n",
            "smoker_yes          1.000000         -0.036945          0.068498   \n",
            "region_northwest   -0.036945          1.000000         -0.346265   \n",
            "region_southeast    0.068498         -0.346265          1.000000   \n",
            "region_southwest   -0.036945         -0.320829         -0.346265   \n",
            "\n",
            "                  region_southwest  \n",
            "age                       0.010016  \n",
            "bmi                      -0.006205  \n",
            "children                  0.021914  \n",
            "charges                  -0.043210  \n",
            "sex_male                 -0.004184  \n",
            "smoker_yes               -0.036945  \n",
            "region_northwest         -0.320829  \n",
            "region_southeast         -0.346265  \n",
            "region_southwest          1.000000  \n"
          ]
        }
      ]
    },
    {
      "cell_type": "code",
      "source": [
        "charges_corr = corr[[\"charges\"]]\n",
        "charges_corr_sorted = charges_corr.sort_values(by=\"charges\", ascending=False)\n",
        "print(charges_corr_sorted)"
      ],
      "metadata": {
        "colab": {
          "base_uri": "https://localhost:8080/"
        },
        "id": "fX4OLTWwLNkf",
        "outputId": "b041ef0e-adbd-4963-ba92-25c2b3a51ae8"
      },
      "execution_count": 265,
      "outputs": [
        {
          "output_type": "stream",
          "name": "stdout",
          "text": [
            "                   charges\n",
            "charges           1.000000\n",
            "smoker_yes        0.787251\n",
            "age               0.299008\n",
            "bmi               0.198341\n",
            "region_southeast  0.073982\n",
            "children          0.067998\n",
            "sex_male          0.057292\n",
            "region_northwest -0.039905\n",
            "region_southwest -0.043210\n"
          ]
        }
      ]
    },
    {
      "cell_type": "code",
      "source": [
        "import pandas as pd\n",
        "\n",
        "\n",
        "url = 'https://storage.googleapis.com/esmartdata-courses-files/ml-course/insurance.csv'\n",
        "df = pd.read_csv(url)\n",
        "for col in list(df.select_dtypes(include=['object']).columns):\n",
        "    df[col] = df[col].astype('category')\n",
        "df_dummies = pd.get_dummies(df, drop_first=True)"
      ],
      "metadata": {
        "id": "gI5jVQ_OL7CP"
      },
      "execution_count": 266,
      "outputs": []
    },
    {
      "cell_type": "code",
      "source": [
        "data = df_dummies.copy()"
      ],
      "metadata": {
        "id": "nYZlYypuMVYI"
      },
      "execution_count": 267,
      "outputs": []
    },
    {
      "cell_type": "code",
      "source": [
        "print(data.head())"
      ],
      "metadata": {
        "colab": {
          "base_uri": "https://localhost:8080/"
        },
        "id": "fglUap60Mz-c",
        "outputId": "cb3546e8-720a-4bd7-af66-43fc24481ca7"
      },
      "execution_count": 268,
      "outputs": [
        {
          "output_type": "stream",
          "name": "stdout",
          "text": [
            "   age     bmi  children      charges  sex_male  smoker_yes  region_northwest  \\\n",
            "0   19  27.900         0  16884.92400     False        True             False   \n",
            "1   18  33.770         1   1725.55230      True       False             False   \n",
            "2   28  33.000         3   4449.46200      True       False             False   \n",
            "3   33  22.705         0  21984.47061      True       False              True   \n",
            "4   32  28.880         0   3866.85520      True       False              True   \n",
            "\n",
            "   region_southeast  region_southwest  \n",
            "0             False              True  \n",
            "1              True             False  \n",
            "2              True             False  \n",
            "3             False             False  \n",
            "4             False             False  \n"
          ]
        }
      ]
    },
    {
      "cell_type": "code",
      "source": [
        "import pandas as pd\n",
        "\n",
        "\n",
        "data = {\n",
        "    'size': ['XL', 'L', 'M', 'L', 'M'],\n",
        "    'color': ['red', 'green', 'blue', 'green', 'red'],\n",
        "    'gender': ['female', 'male', 'male', 'female', 'female'],\n",
        "    'price': [199.0, 89.0, 99.0, 129.0, 79.0],\n",
        "    'weight': [500, 450, 300, 380, 410],\n",
        "    'bought': ['yes', 'no', 'yes', 'no', 'yes']\n",
        "}"
      ],
      "metadata": {
        "id": "7fvZyqOANFgu"
      },
      "execution_count": 269,
      "outputs": []
    },
    {
      "cell_type": "code",
      "source": [
        "df = pd.DataFrame(data=data)"
      ],
      "metadata": {
        "id": "bXBDLDZ9NzXT"
      },
      "execution_count": 270,
      "outputs": []
    },
    {
      "cell_type": "code",
      "source": [
        "print(df)"
      ],
      "metadata": {
        "colab": {
          "base_uri": "https://localhost:8080/"
        },
        "id": "bAtsM4sKN5If",
        "outputId": "efd66c79-2692-4fc4-c8bf-391c74a9ef5d"
      },
      "execution_count": 271,
      "outputs": [
        {
          "output_type": "stream",
          "name": "stdout",
          "text": [
            "  size  color  gender  price  weight bought\n",
            "0   XL    red  female  199.0     500    yes\n",
            "1    L  green    male   89.0     450     no\n",
            "2    M   blue    male   99.0     300    yes\n",
            "3    L  green  female  129.0     380     no\n",
            "4    M    red  female   79.0     410    yes\n"
          ]
        }
      ]
    },
    {
      "cell_type": "code",
      "source": [
        "df[\"size\"] = df[\"size\"].astype('category')\n",
        "df[\"color\"] = df[\"color\"].astype('category')\n",
        "df[\"gender\"] = df[\"gender\"].astype('category')\n",
        "df[\"weight\"] = df[\"weight\"].astype('float')\n",
        "df[\"bought\"] = df[\"bought\"].astype('category')\n",
        "\n",
        "df.info()"
      ],
      "metadata": {
        "colab": {
          "base_uri": "https://localhost:8080/"
        },
        "id": "kSVamyz1N6QQ",
        "outputId": "9c54e5b7-a0f4-451a-d762-668406203265"
      },
      "execution_count": 272,
      "outputs": [
        {
          "output_type": "stream",
          "name": "stdout",
          "text": [
            "<class 'pandas.core.frame.DataFrame'>\n",
            "RangeIndex: 5 entries, 0 to 4\n",
            "Data columns (total 6 columns):\n",
            " #   Column  Non-Null Count  Dtype   \n",
            "---  ------  --------------  -----   \n",
            " 0   size    5 non-null      category\n",
            " 1   color   5 non-null      category\n",
            " 2   gender  5 non-null      category\n",
            " 3   price   5 non-null      float64 \n",
            " 4   weight  5 non-null      float64 \n",
            " 5   bought  5 non-null      category\n",
            "dtypes: category(4), float64(2)\n",
            "memory usage: 744.0 bytes\n"
          ]
        }
      ]
    },
    {
      "cell_type": "code",
      "source": [
        "df_dummies = pd.get_dummies(df, drop_first=True)\n",
        "print(df_dummies)"
      ],
      "metadata": {
        "colab": {
          "base_uri": "https://localhost:8080/"
        },
        "id": "B6z98WewOzGa",
        "outputId": "9da296ba-6dba-4644-b175-cd0eea1a719b"
      },
      "execution_count": 273,
      "outputs": [
        {
          "output_type": "stream",
          "name": "stdout",
          "text": [
            "   price  weight  size_M  size_XL  color_green  color_red  gender_male  \\\n",
            "0  199.0   500.0   False     True        False       True        False   \n",
            "1   89.0   450.0   False    False         True      False         True   \n",
            "2   99.0   300.0    True    False        False      False         True   \n",
            "3  129.0   380.0   False    False         True      False        False   \n",
            "4   79.0   410.0    True    False        False       True        False   \n",
            "\n",
            "   bought_yes  \n",
            "0        True  \n",
            "1       False  \n",
            "2        True  \n",
            "3       False  \n",
            "4        True  \n"
          ]
        }
      ]
    },
    {
      "cell_type": "code",
      "source": [
        "import pandas as pd\n",
        "\n",
        "\n",
        "products_dict = {\n",
        "    'product_id': ['001', '004', '007', '010'],\n",
        "    'name': ['mobile phone', 'laptop', 'mouse', 'tablet'],\n",
        "    'price': [1490.0, 3400.0, 59.99, 999.00]\n",
        "}\n",
        "\n",
        "orders_day_1_dict = {\n",
        "    'order_id': ['1001', '1002', '1003', '1004'],\n",
        "    'product_id': ['004', '001', '001', '007'],\n",
        "    'quantity': [2, 1, 1, 3]\n",
        "}\n",
        "\n",
        "orders_day_2_dict = {\n",
        "    'order_id': ['1005', '1006', '1007'],\n",
        "    'product_id': ['010', '001', '007'],\n",
        "    'quantity': [2, 1, 1]\n",
        "}\n",
        "\n",
        "\n",
        "products = pd.DataFrame(products_dict)\n",
        "orders_day_1 = pd.DataFrame(orders_day_1_dict)\n",
        "orders_day_2 = pd.DataFrame(orders_day_2_dict)"
      ],
      "metadata": {
        "id": "ioHfmh-f_HUj"
      },
      "execution_count": 274,
      "outputs": []
    },
    {
      "cell_type": "code",
      "source": [
        "print(products)\n",
        "print(orders_day_1)\n",
        "print(orders_day_2)"
      ],
      "metadata": {
        "colab": {
          "base_uri": "https://localhost:8080/"
        },
        "id": "zG8n7303L290",
        "outputId": "e0a1f469-e5dd-4b53-e2c2-14f879e108b2"
      },
      "execution_count": 275,
      "outputs": [
        {
          "output_type": "stream",
          "name": "stdout",
          "text": [
            "  product_id          name    price\n",
            "0        001  mobile phone  1490.00\n",
            "1        004        laptop  3400.00\n",
            "2        007         mouse    59.99\n",
            "3        010        tablet   999.00\n",
            "  order_id product_id  quantity\n",
            "0     1001        004         2\n",
            "1     1002        001         1\n",
            "2     1003        001         1\n",
            "3     1004        007         3\n",
            "  order_id product_id  quantity\n",
            "0     1005        010         2\n",
            "1     1006        001         1\n",
            "2     1007        007         1\n"
          ]
        }
      ]
    },
    {
      "cell_type": "code",
      "source": [
        "orders = pd.concat([orders_day_1, orders_day_2], ignore_index=True)\n",
        "print(orders)"
      ],
      "metadata": {
        "colab": {
          "base_uri": "https://localhost:8080/"
        },
        "id": "GInVRtvRL6NF",
        "outputId": "75e42fb8-16ac-460f-9f2b-c48099102efe"
      },
      "execution_count": 277,
      "outputs": [
        {
          "output_type": "stream",
          "name": "stdout",
          "text": [
            "  order_id product_id  quantity\n",
            "0     1001        004         2\n",
            "1     1002        001         1\n",
            "2     1003        001         1\n",
            "3     1004        007         3\n",
            "4     1005        010         2\n",
            "5     1006        001         1\n",
            "6     1007        007         1\n"
          ]
        }
      ]
    },
    {
      "cell_type": "code",
      "source": [
        "result = pd.merge(orders, products, on=\"product_id\")\n",
        "print(result)"
      ],
      "metadata": {
        "colab": {
          "base_uri": "https://localhost:8080/"
        },
        "id": "ebOs_6yjMTEH",
        "outputId": "cf3b493b-9627-464c-c636-c9325e0b469c"
      },
      "execution_count": 278,
      "outputs": [
        {
          "output_type": "stream",
          "name": "stdout",
          "text": [
            "  order_id product_id  quantity          name    price\n",
            "0     1001        004         2        laptop  3400.00\n",
            "1     1002        001         1  mobile phone  1490.00\n",
            "2     1003        001         1  mobile phone  1490.00\n",
            "3     1004        007         3         mouse    59.99\n",
            "4     1005        010         2        tablet   999.00\n",
            "5     1006        001         1  mobile phone  1490.00\n",
            "6     1007        007         1         mouse    59.99\n"
          ]
        }
      ]
    },
    {
      "cell_type": "code",
      "source": [
        "result[\"total\"] = result[\"quantity\"] * result[\"price\"]\n",
        "print(result)"
      ],
      "metadata": {
        "colab": {
          "base_uri": "https://localhost:8080/"
        },
        "id": "bNYQtR0sNARu",
        "outputId": "71aa959c-dfae-4173-b62e-8aae4e9f34e3"
      },
      "execution_count": 279,
      "outputs": [
        {
          "output_type": "stream",
          "name": "stdout",
          "text": [
            "  order_id product_id  quantity          name    price    total\n",
            "0     1001        004         2        laptop  3400.00  6800.00\n",
            "1     1002        001         1  mobile phone  1490.00  1490.00\n",
            "2     1003        001         1  mobile phone  1490.00  1490.00\n",
            "3     1004        007         3         mouse    59.99   179.97\n",
            "4     1005        010         2        tablet   999.00  1998.00\n",
            "5     1006        001         1  mobile phone  1490.00  1490.00\n",
            "6     1007        007         1         mouse    59.99    59.99\n"
          ]
        }
      ]
    },
    {
      "cell_type": "code",
      "source": [
        "result.to_csv(\"result.csv\", index=False)\n",
        "result.to_html(\"result.html\", index=False)\n",
        "result.to_json(\"result.json\", orient='records', indent=4)"
      ],
      "metadata": {
        "id": "Da5N_9VXNaKS"
      },
      "execution_count": 281,
      "outputs": []
    },
    {
      "cell_type": "code",
      "source": [
        "import pandas as pd\n",
        "\n",
        "\n",
        "employees = pd.DataFrame({\n",
        "    'emp_id': ['1001', '1002', '1003', '1004'],\n",
        "    'first_name': ['John', 'Mark', 'Bob', 'Alice'],\n",
        "    'last_name': ['Smith', 'Cook', 'Cat', 'Lee'],\n",
        "    'dept_id': ['002', '001', '001', '005']\n",
        "})\n",
        "\n",
        "departments = pd.DataFrame({\n",
        "    'dept_id': ['001', '002', '003', '004'],\n",
        "    'dept_name': ['IT', 'Sales', 'Marketing', 'Support']\n",
        "})"
      ],
      "metadata": {
        "id": "wdNTiHBGN0Vw"
      },
      "execution_count": 282,
      "outputs": []
    },
    {
      "cell_type": "code",
      "source": [
        "result = pd.merge(employees, departments, on=\"dept_id\", how=\"inner\")\n",
        "print(result)"
      ],
      "metadata": {
        "colab": {
          "base_uri": "https://localhost:8080/"
        },
        "id": "GlLPtVJuONoU",
        "outputId": "959939f8-b20f-41b6-82d5-91944d86b9e0"
      },
      "execution_count": 283,
      "outputs": [
        {
          "output_type": "stream",
          "name": "stdout",
          "text": [
            "  emp_id first_name last_name dept_id dept_name\n",
            "0   1001       John     Smith     002     Sales\n",
            "1   1002       Mark      Cook     001        IT\n",
            "2   1003        Bob       Cat     001        IT\n"
          ]
        }
      ]
    },
    {
      "cell_type": "code",
      "source": [
        "result = pd.merge(employees, departments, on=\"dept_id\", how=\"left\")\n",
        "print(result)"
      ],
      "metadata": {
        "colab": {
          "base_uri": "https://localhost:8080/"
        },
        "id": "82F6LjgOOeP7",
        "outputId": "3bbc5131-0e95-4b7e-8db4-527755e4fadc"
      },
      "execution_count": 284,
      "outputs": [
        {
          "output_type": "stream",
          "name": "stdout",
          "text": [
            "  emp_id first_name last_name dept_id dept_name\n",
            "0   1001       John     Smith     002     Sales\n",
            "1   1002       Mark      Cook     001        IT\n",
            "2   1003        Bob       Cat     001        IT\n",
            "3   1004      Alice       Lee     005       NaN\n"
          ]
        }
      ]
    },
    {
      "cell_type": "code",
      "source": [
        "result = pd.merge(employees, departments, on=\"dept_id\", how=\"right\")\n",
        "print(result)"
      ],
      "metadata": {
        "colab": {
          "base_uri": "https://localhost:8080/"
        },
        "id": "w9rK44zBRNF5",
        "outputId": "3798e282-e765-4eba-e300-8632070f59db"
      },
      "execution_count": 285,
      "outputs": [
        {
          "output_type": "stream",
          "name": "stdout",
          "text": [
            "  emp_id first_name last_name dept_id  dept_name\n",
            "0   1002       Mark      Cook     001         IT\n",
            "1   1003        Bob       Cat     001         IT\n",
            "2   1001       John     Smith     002      Sales\n",
            "3    NaN        NaN       NaN     003  Marketing\n",
            "4    NaN        NaN       NaN     004    Support\n"
          ]
        }
      ]
    },
    {
      "cell_type": "code",
      "source": [
        "result = pd.merge(employees, departments, on=\"dept_id\", how=\"outer\")\n",
        "print(result)"
      ],
      "metadata": {
        "colab": {
          "base_uri": "https://localhost:8080/"
        },
        "id": "s4cupIbERuLz",
        "outputId": "d4785b6c-cc81-48ed-d5b4-50520c5ab119"
      },
      "execution_count": 286,
      "outputs": [
        {
          "output_type": "stream",
          "name": "stdout",
          "text": [
            "  emp_id first_name last_name dept_id  dept_name\n",
            "0   1002       Mark      Cook     001         IT\n",
            "1   1003        Bob       Cat     001         IT\n",
            "2   1001       John     Smith     002      Sales\n",
            "3    NaN        NaN       NaN     003  Marketing\n",
            "4    NaN        NaN       NaN     004    Support\n",
            "5   1004      Alice       Lee     005        NaN\n"
          ]
        }
      ]
    },
    {
      "cell_type": "code",
      "source": [
        "import pandas as pd\n",
        "\n",
        "\n",
        "employees = pd.DataFrame({\n",
        "    'emp_id': ['1001', '1002', '1003', '1003', '1004'],\n",
        "    'first_name': ['John', 'Mark', 'Bob', 'Bob', 'Alice'],\n",
        "    'last_name': ['Smith', 'Cook', 'Cat', 'Cat', 'Lee'],\n",
        "    'dept_id': ['002', '001', '001', '001', '005']\n",
        "})\n",
        "\n",
        "departments = pd.DataFrame({\n",
        "    'dept_id': ['001', '002', '003', '004'],\n",
        "    'dept_name': ['IT', 'Sales', 'Marketing', 'Support']\n",
        "})"
      ],
      "metadata": {
        "id": "-7_DXmSPSmTt"
      },
      "execution_count": 287,
      "outputs": []
    },
    {
      "cell_type": "code",
      "source": [
        "result = pd.merge(employees, departments, on=\"dept_id\", how=\"inner\")\n",
        "print(result)"
      ],
      "metadata": {
        "colab": {
          "base_uri": "https://localhost:8080/"
        },
        "id": "Cnw4BZo3S4MX",
        "outputId": "cf4eeccd-b7ef-406b-8cae-508f1b27f08b"
      },
      "execution_count": 288,
      "outputs": [
        {
          "output_type": "stream",
          "name": "stdout",
          "text": [
            "  emp_id first_name last_name dept_id dept_name\n",
            "0   1001       John     Smith     002     Sales\n",
            "1   1002       Mark      Cook     001        IT\n",
            "2   1003        Bob       Cat     001        IT\n",
            "3   1003        Bob       Cat     001        IT\n"
          ]
        }
      ]
    },
    {
      "cell_type": "code",
      "source": [
        "employees_unique = employees.drop_duplicates(subset=['emp_id'])\n",
        "print(employees_unique)\n"
      ],
      "metadata": {
        "colab": {
          "base_uri": "https://localhost:8080/"
        },
        "id": "uLztjxiATC2Q",
        "outputId": "6dc94255-91bf-45d6-af1d-8cbf2dee421c"
      },
      "execution_count": 289,
      "outputs": [
        {
          "output_type": "stream",
          "name": "stdout",
          "text": [
            "  emp_id first_name last_name dept_id\n",
            "0   1001       John     Smith     002\n",
            "1   1002       Mark      Cook     001\n",
            "2   1003        Bob       Cat     001\n",
            "4   1004      Alice       Lee     005\n"
          ]
        }
      ]
    },
    {
      "cell_type": "code",
      "source": [
        "result = pd.merge(employees_unique, departments, on=\"dept_id\", how=\"inner\")\n",
        "print(result)"
      ],
      "metadata": {
        "colab": {
          "base_uri": "https://localhost:8080/"
        },
        "id": "j78RfbMWTaw6",
        "outputId": "eeb85517-68aa-47f4-98cb-ff243c287530"
      },
      "execution_count": 290,
      "outputs": [
        {
          "output_type": "stream",
          "name": "stdout",
          "text": [
            "  emp_id first_name last_name dept_id dept_name\n",
            "0   1001       John     Smith     002     Sales\n",
            "1   1002       Mark      Cook     001        IT\n",
            "2   1003        Bob       Cat     001        IT\n"
          ]
        }
      ]
    },
    {
      "cell_type": "code",
      "source": [
        "import pandas as pd\n",
        "import numpy as np\n",
        "\n",
        "\n",
        "pd.set_option('display.max_columns', 30)\n",
        "pd.set_option('display.width', 1000)\n",
        "tips = pd.read_csv('https://raw.githubusercontent.com/mwaskom/seaborn-data/master/tips.csv')\n"
      ],
      "metadata": {
        "id": "3fK4N_FATimw"
      },
      "execution_count": 291,
      "outputs": []
    },
    {
      "cell_type": "code",
      "source": [
        "result = pd.pivot_table(tips, values=['tip','total_bill'], index='day', aggfunc='mean')\n",
        "print(result)"
      ],
      "metadata": {
        "colab": {
          "base_uri": "https://localhost:8080/"
        },
        "id": "n8ecrCMsT1qh",
        "outputId": "c750dae8-edb2-4c67-dfa8-771e89c5e14a"
      },
      "execution_count": 295,
      "outputs": [
        {
          "output_type": "stream",
          "name": "stdout",
          "text": [
            "           tip  total_bill\n",
            "day                       \n",
            "Fri   2.734737   17.151579\n",
            "Sat   2.993103   20.441379\n",
            "Sun   3.255132   21.410000\n",
            "Thur  2.771452   17.682742\n"
          ]
        }
      ]
    },
    {
      "cell_type": "code",
      "source": [],
      "metadata": {
        "id": "0FA9KRFgVyqj"
      },
      "execution_count": null,
      "outputs": []
    },
    {
      "cell_type": "code",
      "source": [
        "result = pd.pivot_table(tips, values=['tip','total_bill'], index=['day', 'sex'], aggfunc=np.mean)\n",
        "print(result)"
      ],
      "metadata": {
        "colab": {
          "base_uri": "https://localhost:8080/"
        },
        "id": "LP_vw9lKUR6C",
        "outputId": "7a9a4b9c-d209-49ed-ba37-2468556bc788"
      },
      "execution_count": 297,
      "outputs": [
        {
          "output_type": "stream",
          "name": "stdout",
          "text": [
            "                  tip  total_bill\n",
            "day  sex                         \n",
            "Fri  Female  2.781111   14.145556\n",
            "     Male    2.693000   19.857000\n",
            "Sat  Female  2.801786   19.680357\n",
            "     Male    3.083898   20.802542\n",
            "Sun  Female  3.367222   19.872222\n",
            "     Male    3.220345   21.887241\n",
            "Thur Female  2.575625   16.715312\n",
            "     Male    2.980333   18.714667\n"
          ]
        },
        {
          "output_type": "stream",
          "name": "stderr",
          "text": [
            "/tmp/ipython-input-2077118080.py:1: FutureWarning: The provided callable <function mean at 0x7c4e89325c60> is currently using DataFrameGroupBy.mean. In a future version of pandas, the provided callable will be used directly. To keep current behavior pass the string \"mean\" instead.\n",
            "  result = pd.pivot_table(tips, values=['tip','total_bill'], index=['day', 'sex'], aggfunc=np.mean)\n"
          ]
        }
      ]
    },
    {
      "cell_type": "code",
      "source": [
        "result = pd.pivot_table(tips, values=['tip','total_bill'], index='day', aggfunc=\"max\")\n",
        "print(result)"
      ],
      "metadata": {
        "colab": {
          "base_uri": "https://localhost:8080/"
        },
        "id": "hCaJ1PriVW8s",
        "outputId": "58970e9f-437c-4c74-e74d-f5a6c3d4c541"
      },
      "execution_count": 298,
      "outputs": [
        {
          "output_type": "stream",
          "name": "stdout",
          "text": [
            "        tip  total_bill\n",
            "day                    \n",
            "Fri    4.73       40.17\n",
            "Sat   10.00       50.81\n",
            "Sun    6.50       48.17\n",
            "Thur   6.70       43.11\n"
          ]
        }
      ]
    },
    {
      "cell_type": "code",
      "source": [
        "result = pd.pivot_table(tips, values=['tip','total_bill'], index=['day', 'sex', 'smoker'], aggfunc=\"mean\")\n",
        "print(result)"
      ],
      "metadata": {
        "colab": {
          "base_uri": "https://localhost:8080/"
        },
        "id": "1qtBjyFSWeGO",
        "outputId": "13118600-47cb-422e-b090-7a70ace6152a"
      },
      "execution_count": 300,
      "outputs": [
        {
          "output_type": "stream",
          "name": "stdout",
          "text": [
            "                         tip  total_bill\n",
            "day  sex    smoker                      \n",
            "Fri  Female No      3.125000   19.365000\n",
            "            Yes     2.682857   12.654286\n",
            "     Male   No      2.500000   17.475000\n",
            "            Yes     2.741250   20.452500\n",
            "Sat  Female No      2.724615   19.003846\n",
            "            Yes     2.868667   20.266667\n",
            "     Male   No      3.256563   19.929063\n",
            "            Yes     2.879259   21.837778\n",
            "Sun  Female No      3.329286   20.824286\n",
            "            Yes     3.500000   16.540000\n",
            "     Male   No      3.115349   20.403256\n",
            "            Yes     3.521333   26.141333\n",
            "Thur Female No      2.459600   16.014400\n",
            "            Yes     2.990000   19.218571\n",
            "     Male   No      2.941500   18.486500\n",
            "            Yes     3.058000   19.171000\n"
          ]
        }
      ]
    },
    {
      "cell_type": "code",
      "source": [
        "sunday_values = result.loc[\"Sun\"]\n",
        "print(sunday_values)"
      ],
      "metadata": {
        "colab": {
          "base_uri": "https://localhost:8080/"
        },
        "id": "1XVTss2rW-ph",
        "outputId": "b92e7ef0-805d-41e3-8e6a-4b165af83f82"
      },
      "execution_count": 301,
      "outputs": [
        {
          "output_type": "stream",
          "name": "stdout",
          "text": [
            "                    tip  total_bill\n",
            "sex    smoker                      \n",
            "Female No      3.329286   20.824286\n",
            "       Yes     3.500000   16.540000\n",
            "Male   No      3.115349   20.403256\n",
            "       Yes     3.521333   26.141333\n"
          ]
        }
      ]
    },
    {
      "cell_type": "code",
      "source": [
        "sunday_male_values = result.loc[\"Sun\", \"Male\"]\n",
        "print(sunday_male_values)"
      ],
      "metadata": {
        "colab": {
          "base_uri": "https://localhost:8080/"
        },
        "id": "6faxKImIhyAX",
        "outputId": "764f151d-76b4-4a13-ed66-589d52556306"
      },
      "execution_count": 303,
      "outputs": [
        {
          "output_type": "stream",
          "name": "stdout",
          "text": [
            "             tip  total_bill\n",
            "smoker                      \n",
            "No      3.115349   20.403256\n",
            "Yes     3.521333   26.141333\n"
          ]
        }
      ]
    },
    {
      "cell_type": "code",
      "source": [],
      "metadata": {
        "id": "nksY8R-9iCTb"
      },
      "execution_count": null,
      "outputs": []
    }
  ]
}